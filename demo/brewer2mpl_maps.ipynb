{
 "metadata": {
  "name": "",
  "signature": "sha256:b2e2c60c1449a78a433a88e3db4a8d7a55885ffddf020edcedd568efdfd3740a"
 },
 "nbformat": 3,
 "nbformat_minor": 0,
 "worksheets": [
  {
   "cells": [
    {
     "cell_type": "markdown",
     "metadata": {},
     "source": [
      "- [Color Brewer Diverging](#Color-Brewer-Diverging)\n",
      "- [Color Brewer Qualitative](#Color-Brewer-Qualitative)\n",
      "- [Color Brewer Sequential](#Color-Brewer-Sequential)\n",
      "- [Tableau](#Tableau)\n",
      "- [Wes Anderson](#Wes-Anderson)"
     ]
    },
    {
     "cell_type": "code",
     "collapsed": false,
     "input": [
      "from brewer2mpl import qualitative, sequential, diverging, wesanderson, tableau\n",
      "from brewer2mpl.colormap import ColorMap"
     ],
     "language": "python",
     "metadata": {},
     "outputs": [],
     "prompt_number": 1
    },
    {
     "cell_type": "code",
     "collapsed": false,
     "input": [
      "def display_maps(module):\n",
      "    for k in dir(module):\n",
      "        thing = getattr(module, k)\n",
      "        if isinstance(thing, dict) and 'max' in thing:\n",
      "            thing = thing['max']\n",
      "        if isinstance(thing, ColorMap):\n",
      "            thing.show_as_blocks()\n",
      "            print(k)"
     ],
     "language": "python",
     "metadata": {},
     "outputs": [],
     "prompt_number": 2
    },
    {
     "cell_type": "heading",
     "level": 1,
     "metadata": {},
     "source": [
      "Color Brewer Diverging"
     ]
    },
    {
     "cell_type": "code",
     "collapsed": false,
     "input": [
      "display_maps(diverging)"
     ],
     "language": "python",
     "metadata": {},
     "outputs": [
      {
       "html": [
        "<style type=\"text/css\">table.blockgrid {border: none;} .blockgrid tr {border: none;} .blockgrid td {padding: 0px;} #blockscf980620-56bc-4eb0-9640-d8d5dad5979e td {border: 1px solid white;}</style><table id=\"blockscf980620-56bc-4eb0-9640-d8d5dad5979e\" class=\"blockgrid\"><tbody><tr><td title=\"Index: [0, 0]&#10;Color: (84, 48, 5)\" style=\"width: 100px; height: 100px;background-color: rgb(84, 48, 5);\"></td><td title=\"Index: [0, 1]&#10;Color: (140, 81, 10)\" style=\"width: 100px; height: 100px;background-color: rgb(140, 81, 10);\"></td><td title=\"Index: [0, 2]&#10;Color: (191, 129, 45)\" style=\"width: 100px; height: 100px;background-color: rgb(191, 129, 45);\"></td><td title=\"Index: [0, 3]&#10;Color: (223, 194, 125)\" style=\"width: 100px; height: 100px;background-color: rgb(223, 194, 125);\"></td><td title=\"Index: [0, 4]&#10;Color: (246, 232, 195)\" style=\"width: 100px; height: 100px;background-color: rgb(246, 232, 195);\"></td><td title=\"Index: [0, 5]&#10;Color: (245, 245, 245)\" style=\"width: 100px; height: 100px;background-color: rgb(245, 245, 245);\"></td><td title=\"Index: [0, 6]&#10;Color: (199, 234, 229)\" style=\"width: 100px; height: 100px;background-color: rgb(199, 234, 229);\"></td><td title=\"Index: [0, 7]&#10;Color: (128, 205, 193)\" style=\"width: 100px; height: 100px;background-color: rgb(128, 205, 193);\"></td><td title=\"Index: [0, 8]&#10;Color: (53, 151, 143)\" style=\"width: 100px; height: 100px;background-color: rgb(53, 151, 143);\"></td><td title=\"Index: [0, 9]&#10;Color: (1, 102, 94)\" style=\"width: 100px; height: 100px;background-color: rgb(1, 102, 94);\"></td><td title=\"Index: [0, 10]&#10;Color: (0, 60, 48)\" style=\"width: 100px; height: 100px;background-color: rgb(0, 60, 48);\"></td></tr></tbody></table>"
       ],
       "metadata": {},
       "output_type": "display_data",
       "text": [
        "<IPython.core.display.HTML at 0x5099750>"
       ]
      },
      {
       "output_type": "stream",
       "stream": "stdout",
       "text": [
        "BrBG\n"
       ]
      },
      {
       "html": [
        "<style type=\"text/css\">table.blockgrid {border: none;} .blockgrid tr {border: none;} .blockgrid td {padding: 0px;} #blocks2b14c47e-cfa5-4bb4-be78-b38dcdaa6300 td {border: 1px solid white;}</style><table id=\"blocks2b14c47e-cfa5-4bb4-be78-b38dcdaa6300\" class=\"blockgrid\"><tbody><tr><td title=\"Index: [0, 0]&#10;Color: (64, 0, 75)\" style=\"width: 100px; height: 100px;background-color: rgb(64, 0, 75);\"></td><td title=\"Index: [0, 1]&#10;Color: (118, 42, 131)\" style=\"width: 100px; height: 100px;background-color: rgb(118, 42, 131);\"></td><td title=\"Index: [0, 2]&#10;Color: (153, 112, 171)\" style=\"width: 100px; height: 100px;background-color: rgb(153, 112, 171);\"></td><td title=\"Index: [0, 3]&#10;Color: (194, 165, 207)\" style=\"width: 100px; height: 100px;background-color: rgb(194, 165, 207);\"></td><td title=\"Index: [0, 4]&#10;Color: (231, 212, 232)\" style=\"width: 100px; height: 100px;background-color: rgb(231, 212, 232);\"></td><td title=\"Index: [0, 5]&#10;Color: (247, 247, 247)\" style=\"width: 100px; height: 100px;background-color: rgb(247, 247, 247);\"></td><td title=\"Index: [0, 6]&#10;Color: (217, 240, 211)\" style=\"width: 100px; height: 100px;background-color: rgb(217, 240, 211);\"></td><td title=\"Index: [0, 7]&#10;Color: (166, 219, 160)\" style=\"width: 100px; height: 100px;background-color: rgb(166, 219, 160);\"></td><td title=\"Index: [0, 8]&#10;Color: (90, 174, 97)\" style=\"width: 100px; height: 100px;background-color: rgb(90, 174, 97);\"></td><td title=\"Index: [0, 9]&#10;Color: (27, 120, 55)\" style=\"width: 100px; height: 100px;background-color: rgb(27, 120, 55);\"></td><td title=\"Index: [0, 10]&#10;Color: (0, 68, 27)\" style=\"width: 100px; height: 100px;background-color: rgb(0, 68, 27);\"></td></tr></tbody></table>"
       ],
       "metadata": {},
       "output_type": "display_data",
       "text": [
        "<IPython.core.display.HTML at 0x2743d50>"
       ]
      },
      {
       "output_type": "stream",
       "stream": "stdout",
       "text": [
        "PRGn\n"
       ]
      },
      {
       "html": [
        "<style type=\"text/css\">table.blockgrid {border: none;} .blockgrid tr {border: none;} .blockgrid td {padding: 0px;} #blocks3df83c7b-256e-47fa-9205-03f1cc55410e td {border: 1px solid white;}</style><table id=\"blocks3df83c7b-256e-47fa-9205-03f1cc55410e\" class=\"blockgrid\"><tbody><tr><td title=\"Index: [0, 0]&#10;Color: (142, 1, 82)\" style=\"width: 100px; height: 100px;background-color: rgb(142, 1, 82);\"></td><td title=\"Index: [0, 1]&#10;Color: (197, 27, 125)\" style=\"width: 100px; height: 100px;background-color: rgb(197, 27, 125);\"></td><td title=\"Index: [0, 2]&#10;Color: (222, 119, 174)\" style=\"width: 100px; height: 100px;background-color: rgb(222, 119, 174);\"></td><td title=\"Index: [0, 3]&#10;Color: (241, 182, 218)\" style=\"width: 100px; height: 100px;background-color: rgb(241, 182, 218);\"></td><td title=\"Index: [0, 4]&#10;Color: (253, 224, 239)\" style=\"width: 100px; height: 100px;background-color: rgb(253, 224, 239);\"></td><td title=\"Index: [0, 5]&#10;Color: (247, 247, 247)\" style=\"width: 100px; height: 100px;background-color: rgb(247, 247, 247);\"></td><td title=\"Index: [0, 6]&#10;Color: (230, 245, 208)\" style=\"width: 100px; height: 100px;background-color: rgb(230, 245, 208);\"></td><td title=\"Index: [0, 7]&#10;Color: (184, 225, 134)\" style=\"width: 100px; height: 100px;background-color: rgb(184, 225, 134);\"></td><td title=\"Index: [0, 8]&#10;Color: (127, 188, 65)\" style=\"width: 100px; height: 100px;background-color: rgb(127, 188, 65);\"></td><td title=\"Index: [0, 9]&#10;Color: (77, 146, 33)\" style=\"width: 100px; height: 100px;background-color: rgb(77, 146, 33);\"></td><td title=\"Index: [0, 10]&#10;Color: (39, 100, 25)\" style=\"width: 100px; height: 100px;background-color: rgb(39, 100, 25);\"></td></tr></tbody></table>"
       ],
       "metadata": {},
       "output_type": "display_data",
       "text": [
        "<IPython.core.display.HTML at 0x3112c10>"
       ]
      },
      {
       "output_type": "stream",
       "stream": "stdout",
       "text": [
        "PiYG\n"
       ]
      },
      {
       "html": [
        "<style type=\"text/css\">table.blockgrid {border: none;} .blockgrid tr {border: none;} .blockgrid td {padding: 0px;} #blocksefd9b3e2-0003-4691-89eb-9c7f560e6823 td {border: 1px solid white;}</style><table id=\"blocksefd9b3e2-0003-4691-89eb-9c7f560e6823\" class=\"blockgrid\"><tbody><tr><td title=\"Index: [0, 0]&#10;Color: (127, 59, 8)\" style=\"width: 100px; height: 100px;background-color: rgb(127, 59, 8);\"></td><td title=\"Index: [0, 1]&#10;Color: (179, 88, 6)\" style=\"width: 100px; height: 100px;background-color: rgb(179, 88, 6);\"></td><td title=\"Index: [0, 2]&#10;Color: (224, 130, 20)\" style=\"width: 100px; height: 100px;background-color: rgb(224, 130, 20);\"></td><td title=\"Index: [0, 3]&#10;Color: (253, 184, 99)\" style=\"width: 100px; height: 100px;background-color: rgb(253, 184, 99);\"></td><td title=\"Index: [0, 4]&#10;Color: (254, 224, 182)\" style=\"width: 100px; height: 100px;background-color: rgb(254, 224, 182);\"></td><td title=\"Index: [0, 5]&#10;Color: (247, 247, 247)\" style=\"width: 100px; height: 100px;background-color: rgb(247, 247, 247);\"></td><td title=\"Index: [0, 6]&#10;Color: (216, 218, 235)\" style=\"width: 100px; height: 100px;background-color: rgb(216, 218, 235);\"></td><td title=\"Index: [0, 7]&#10;Color: (178, 171, 210)\" style=\"width: 100px; height: 100px;background-color: rgb(178, 171, 210);\"></td><td title=\"Index: [0, 8]&#10;Color: (128, 115, 172)\" style=\"width: 100px; height: 100px;background-color: rgb(128, 115, 172);\"></td><td title=\"Index: [0, 9]&#10;Color: (84, 39, 136)\" style=\"width: 100px; height: 100px;background-color: rgb(84, 39, 136);\"></td><td title=\"Index: [0, 10]&#10;Color: (45, 0, 75)\" style=\"width: 100px; height: 100px;background-color: rgb(45, 0, 75);\"></td></tr></tbody></table>"
       ],
       "metadata": {},
       "output_type": "display_data",
       "text": [
        "<IPython.core.display.HTML at 0x5088e10>"
       ]
      },
      {
       "output_type": "stream",
       "stream": "stdout",
       "text": [
        "PuOr\n"
       ]
      },
      {
       "html": [
        "<style type=\"text/css\">table.blockgrid {border: none;} .blockgrid tr {border: none;} .blockgrid td {padding: 0px;} #blocks5d814ad3-a1d9-4260-8412-a7c7539a4ccf td {border: 1px solid white;}</style><table id=\"blocks5d814ad3-a1d9-4260-8412-a7c7539a4ccf\" class=\"blockgrid\"><tbody><tr><td title=\"Index: [0, 0]&#10;Color: (103, 0, 31)\" style=\"width: 100px; height: 100px;background-color: rgb(103, 0, 31);\"></td><td title=\"Index: [0, 1]&#10;Color: (178, 24, 43)\" style=\"width: 100px; height: 100px;background-color: rgb(178, 24, 43);\"></td><td title=\"Index: [0, 2]&#10;Color: (214, 96, 77)\" style=\"width: 100px; height: 100px;background-color: rgb(214, 96, 77);\"></td><td title=\"Index: [0, 3]&#10;Color: (244, 165, 130)\" style=\"width: 100px; height: 100px;background-color: rgb(244, 165, 130);\"></td><td title=\"Index: [0, 4]&#10;Color: (253, 219, 199)\" style=\"width: 100px; height: 100px;background-color: rgb(253, 219, 199);\"></td><td title=\"Index: [0, 5]&#10;Color: (247, 247, 247)\" style=\"width: 100px; height: 100px;background-color: rgb(247, 247, 247);\"></td><td title=\"Index: [0, 6]&#10;Color: (209, 229, 240)\" style=\"width: 100px; height: 100px;background-color: rgb(209, 229, 240);\"></td><td title=\"Index: [0, 7]&#10;Color: (146, 197, 222)\" style=\"width: 100px; height: 100px;background-color: rgb(146, 197, 222);\"></td><td title=\"Index: [0, 8]&#10;Color: (67, 147, 195)\" style=\"width: 100px; height: 100px;background-color: rgb(67, 147, 195);\"></td><td title=\"Index: [0, 9]&#10;Color: (33, 102, 172)\" style=\"width: 100px; height: 100px;background-color: rgb(33, 102, 172);\"></td><td title=\"Index: [0, 10]&#10;Color: (5, 48, 97)\" style=\"width: 100px; height: 100px;background-color: rgb(5, 48, 97);\"></td></tr></tbody></table>"
       ],
       "metadata": {},
       "output_type": "display_data",
       "text": [
        "<IPython.core.display.HTML at 0x5099790>"
       ]
      },
      {
       "output_type": "stream",
       "stream": "stdout",
       "text": [
        "RdBu\n"
       ]
      },
      {
       "html": [
        "<style type=\"text/css\">table.blockgrid {border: none;} .blockgrid tr {border: none;} .blockgrid td {padding: 0px;} #blocks38d14b57-92f5-415b-b6c3-8e2e08d43d6f td {border: 1px solid white;}</style><table id=\"blocks38d14b57-92f5-415b-b6c3-8e2e08d43d6f\" class=\"blockgrid\"><tbody><tr><td title=\"Index: [0, 0]&#10;Color: (103, 0, 31)\" style=\"width: 100px; height: 100px;background-color: rgb(103, 0, 31);\"></td><td title=\"Index: [0, 1]&#10;Color: (178, 24, 43)\" style=\"width: 100px; height: 100px;background-color: rgb(178, 24, 43);\"></td><td title=\"Index: [0, 2]&#10;Color: (214, 96, 77)\" style=\"width: 100px; height: 100px;background-color: rgb(214, 96, 77);\"></td><td title=\"Index: [0, 3]&#10;Color: (244, 165, 130)\" style=\"width: 100px; height: 100px;background-color: rgb(244, 165, 130);\"></td><td title=\"Index: [0, 4]&#10;Color: (253, 219, 199)\" style=\"width: 100px; height: 100px;background-color: rgb(253, 219, 199);\"></td><td title=\"Index: [0, 5]&#10;Color: (255, 255, 255)\" style=\"width: 100px; height: 100px;background-color: rgb(255, 255, 255);\"></td><td title=\"Index: [0, 6]&#10;Color: (224, 224, 224)\" style=\"width: 100px; height: 100px;background-color: rgb(224, 224, 224);\"></td><td title=\"Index: [0, 7]&#10;Color: (186, 186, 186)\" style=\"width: 100px; height: 100px;background-color: rgb(186, 186, 186);\"></td><td title=\"Index: [0, 8]&#10;Color: (135, 135, 135)\" style=\"width: 100px; height: 100px;background-color: rgb(135, 135, 135);\"></td><td title=\"Index: [0, 9]&#10;Color: (77, 77, 77)\" style=\"width: 100px; height: 100px;background-color: rgb(77, 77, 77);\"></td><td title=\"Index: [0, 10]&#10;Color: (26, 26, 26)\" style=\"width: 100px; height: 100px;background-color: rgb(26, 26, 26);\"></td></tr></tbody></table>"
       ],
       "metadata": {},
       "output_type": "display_data",
       "text": [
        "<IPython.core.display.HTML at 0x2743ed0>"
       ]
      },
      {
       "output_type": "stream",
       "stream": "stdout",
       "text": [
        "RdGy\n"
       ]
      },
      {
       "html": [
        "<style type=\"text/css\">table.blockgrid {border: none;} .blockgrid tr {border: none;} .blockgrid td {padding: 0px;} #blocksf4888a98-84e0-4572-a810-a123aa55b20c td {border: 1px solid white;}</style><table id=\"blocksf4888a98-84e0-4572-a810-a123aa55b20c\" class=\"blockgrid\"><tbody><tr><td title=\"Index: [0, 0]&#10;Color: (165, 0, 38)\" style=\"width: 100px; height: 100px;background-color: rgb(165, 0, 38);\"></td><td title=\"Index: [0, 1]&#10;Color: (215, 48, 39)\" style=\"width: 100px; height: 100px;background-color: rgb(215, 48, 39);\"></td><td title=\"Index: [0, 2]&#10;Color: (244, 109, 67)\" style=\"width: 100px; height: 100px;background-color: rgb(244, 109, 67);\"></td><td title=\"Index: [0, 3]&#10;Color: (253, 174, 97)\" style=\"width: 100px; height: 100px;background-color: rgb(253, 174, 97);\"></td><td title=\"Index: [0, 4]&#10;Color: (254, 224, 144)\" style=\"width: 100px; height: 100px;background-color: rgb(254, 224, 144);\"></td><td title=\"Index: [0, 5]&#10;Color: (255, 255, 191)\" style=\"width: 100px; height: 100px;background-color: rgb(255, 255, 191);\"></td><td title=\"Index: [0, 6]&#10;Color: (224, 243, 248)\" style=\"width: 100px; height: 100px;background-color: rgb(224, 243, 248);\"></td><td title=\"Index: [0, 7]&#10;Color: (171, 217, 233)\" style=\"width: 100px; height: 100px;background-color: rgb(171, 217, 233);\"></td><td title=\"Index: [0, 8]&#10;Color: (116, 173, 209)\" style=\"width: 100px; height: 100px;background-color: rgb(116, 173, 209);\"></td><td title=\"Index: [0, 9]&#10;Color: (69, 117, 180)\" style=\"width: 100px; height: 100px;background-color: rgb(69, 117, 180);\"></td><td title=\"Index: [0, 10]&#10;Color: (49, 54, 149)\" style=\"width: 100px; height: 100px;background-color: rgb(49, 54, 149);\"></td></tr></tbody></table>"
       ],
       "metadata": {},
       "output_type": "display_data",
       "text": [
        "<IPython.core.display.HTML at 0x3112c10>"
       ]
      },
      {
       "output_type": "stream",
       "stream": "stdout",
       "text": [
        "RdYlBu\n"
       ]
      },
      {
       "html": [
        "<style type=\"text/css\">table.blockgrid {border: none;} .blockgrid tr {border: none;} .blockgrid td {padding: 0px;} #blocks43e1f7c8-9922-4a3d-b61d-36a086220d2a td {border: 1px solid white;}</style><table id=\"blocks43e1f7c8-9922-4a3d-b61d-36a086220d2a\" class=\"blockgrid\"><tbody><tr><td title=\"Index: [0, 0]&#10;Color: (165, 0, 38)\" style=\"width: 100px; height: 100px;background-color: rgb(165, 0, 38);\"></td><td title=\"Index: [0, 1]&#10;Color: (215, 48, 39)\" style=\"width: 100px; height: 100px;background-color: rgb(215, 48, 39);\"></td><td title=\"Index: [0, 2]&#10;Color: (244, 109, 67)\" style=\"width: 100px; height: 100px;background-color: rgb(244, 109, 67);\"></td><td title=\"Index: [0, 3]&#10;Color: (253, 174, 97)\" style=\"width: 100px; height: 100px;background-color: rgb(253, 174, 97);\"></td><td title=\"Index: [0, 4]&#10;Color: (254, 224, 139)\" style=\"width: 100px; height: 100px;background-color: rgb(254, 224, 139);\"></td><td title=\"Index: [0, 5]&#10;Color: (255, 255, 191)\" style=\"width: 100px; height: 100px;background-color: rgb(255, 255, 191);\"></td><td title=\"Index: [0, 6]&#10;Color: (217, 239, 139)\" style=\"width: 100px; height: 100px;background-color: rgb(217, 239, 139);\"></td><td title=\"Index: [0, 7]&#10;Color: (166, 217, 106)\" style=\"width: 100px; height: 100px;background-color: rgb(166, 217, 106);\"></td><td title=\"Index: [0, 8]&#10;Color: (102, 189, 99)\" style=\"width: 100px; height: 100px;background-color: rgb(102, 189, 99);\"></td><td title=\"Index: [0, 9]&#10;Color: (26, 152, 80)\" style=\"width: 100px; height: 100px;background-color: rgb(26, 152, 80);\"></td><td title=\"Index: [0, 10]&#10;Color: (0, 104, 55)\" style=\"width: 100px; height: 100px;background-color: rgb(0, 104, 55);\"></td></tr></tbody></table>"
       ],
       "metadata": {},
       "output_type": "display_data",
       "text": [
        "<IPython.core.display.HTML at 0x2743dd0>"
       ]
      },
      {
       "output_type": "stream",
       "stream": "stdout",
       "text": [
        "RdYlGn\n"
       ]
      },
      {
       "html": [
        "<style type=\"text/css\">table.blockgrid {border: none;} .blockgrid tr {border: none;} .blockgrid td {padding: 0px;} #blocksf1cb27e2-2f52-4496-bccb-83cdd840e561 td {border: 1px solid white;}</style><table id=\"blocksf1cb27e2-2f52-4496-bccb-83cdd840e561\" class=\"blockgrid\"><tbody><tr><td title=\"Index: [0, 0]&#10;Color: (158, 1, 66)\" style=\"width: 100px; height: 100px;background-color: rgb(158, 1, 66);\"></td><td title=\"Index: [0, 1]&#10;Color: (213, 62, 79)\" style=\"width: 100px; height: 100px;background-color: rgb(213, 62, 79);\"></td><td title=\"Index: [0, 2]&#10;Color: (244, 109, 67)\" style=\"width: 100px; height: 100px;background-color: rgb(244, 109, 67);\"></td><td title=\"Index: [0, 3]&#10;Color: (253, 174, 97)\" style=\"width: 100px; height: 100px;background-color: rgb(253, 174, 97);\"></td><td title=\"Index: [0, 4]&#10;Color: (254, 224, 139)\" style=\"width: 100px; height: 100px;background-color: rgb(254, 224, 139);\"></td><td title=\"Index: [0, 5]&#10;Color: (255, 255, 191)\" style=\"width: 100px; height: 100px;background-color: rgb(255, 255, 191);\"></td><td title=\"Index: [0, 6]&#10;Color: (230, 245, 152)\" style=\"width: 100px; height: 100px;background-color: rgb(230, 245, 152);\"></td><td title=\"Index: [0, 7]&#10;Color: (171, 221, 164)\" style=\"width: 100px; height: 100px;background-color: rgb(171, 221, 164);\"></td><td title=\"Index: [0, 8]&#10;Color: (102, 194, 165)\" style=\"width: 100px; height: 100px;background-color: rgb(102, 194, 165);\"></td><td title=\"Index: [0, 9]&#10;Color: (50, 136, 189)\" style=\"width: 100px; height: 100px;background-color: rgb(50, 136, 189);\"></td><td title=\"Index: [0, 10]&#10;Color: (94, 79, 162)\" style=\"width: 100px; height: 100px;background-color: rgb(94, 79, 162);\"></td></tr></tbody></table>"
       ],
       "metadata": {},
       "output_type": "display_data",
       "text": [
        "<IPython.core.display.HTML at 0x5099f50>"
       ]
      },
      {
       "output_type": "stream",
       "stream": "stdout",
       "text": [
        "Spectral\n"
       ]
      }
     ],
     "prompt_number": 3
    },
    {
     "cell_type": "heading",
     "level": 1,
     "metadata": {},
     "source": [
      "Color Brewer Qualitative"
     ]
    },
    {
     "cell_type": "code",
     "collapsed": false,
     "input": [
      "display_maps(qualitative)"
     ],
     "language": "python",
     "metadata": {},
     "outputs": [
      {
       "html": [
        "<style type=\"text/css\">table.blockgrid {border: none;} .blockgrid tr {border: none;} .blockgrid td {padding: 0px;} #blocks16c6ae38-a63e-40b4-98a6-8d98166c2c99 td {border: 1px solid white;}</style><table id=\"blocks16c6ae38-a63e-40b4-98a6-8d98166c2c99\" class=\"blockgrid\"><tbody><tr><td title=\"Index: [0, 0]&#10;Color: (127, 201, 127)\" style=\"width: 100px; height: 100px;background-color: rgb(127, 201, 127);\"></td><td title=\"Index: [0, 1]&#10;Color: (190, 174, 212)\" style=\"width: 100px; height: 100px;background-color: rgb(190, 174, 212);\"></td><td title=\"Index: [0, 2]&#10;Color: (253, 192, 134)\" style=\"width: 100px; height: 100px;background-color: rgb(253, 192, 134);\"></td><td title=\"Index: [0, 3]&#10;Color: (255, 255, 153)\" style=\"width: 100px; height: 100px;background-color: rgb(255, 255, 153);\"></td><td title=\"Index: [0, 4]&#10;Color: (56, 108, 176)\" style=\"width: 100px; height: 100px;background-color: rgb(56, 108, 176);\"></td><td title=\"Index: [0, 5]&#10;Color: (240, 2, 127)\" style=\"width: 100px; height: 100px;background-color: rgb(240, 2, 127);\"></td><td title=\"Index: [0, 6]&#10;Color: (191, 91, 23)\" style=\"width: 100px; height: 100px;background-color: rgb(191, 91, 23);\"></td><td title=\"Index: [0, 7]&#10;Color: (102, 102, 102)\" style=\"width: 100px; height: 100px;background-color: rgb(102, 102, 102);\"></td></tr></tbody></table>"
       ],
       "metadata": {},
       "output_type": "display_data",
       "text": [
        "<IPython.core.display.HTML at 0x2743ed0>"
       ]
      },
      {
       "output_type": "stream",
       "stream": "stdout",
       "text": [
        "Accent\n"
       ]
      },
      {
       "html": [
        "<style type=\"text/css\">table.blockgrid {border: none;} .blockgrid tr {border: none;} .blockgrid td {padding: 0px;} #blocksfb9b9d77-55e9-44c1-9cfb-e1105666bd3b td {border: 1px solid white;}</style><table id=\"blocksfb9b9d77-55e9-44c1-9cfb-e1105666bd3b\" class=\"blockgrid\"><tbody><tr><td title=\"Index: [0, 0]&#10;Color: (27, 158, 119)\" style=\"width: 100px; height: 100px;background-color: rgb(27, 158, 119);\"></td><td title=\"Index: [0, 1]&#10;Color: (217, 95, 2)\" style=\"width: 100px; height: 100px;background-color: rgb(217, 95, 2);\"></td><td title=\"Index: [0, 2]&#10;Color: (117, 112, 179)\" style=\"width: 100px; height: 100px;background-color: rgb(117, 112, 179);\"></td><td title=\"Index: [0, 3]&#10;Color: (231, 41, 138)\" style=\"width: 100px; height: 100px;background-color: rgb(231, 41, 138);\"></td><td title=\"Index: [0, 4]&#10;Color: (102, 166, 30)\" style=\"width: 100px; height: 100px;background-color: rgb(102, 166, 30);\"></td><td title=\"Index: [0, 5]&#10;Color: (230, 171, 2)\" style=\"width: 100px; height: 100px;background-color: rgb(230, 171, 2);\"></td><td title=\"Index: [0, 6]&#10;Color: (166, 118, 29)\" style=\"width: 100px; height: 100px;background-color: rgb(166, 118, 29);\"></td><td title=\"Index: [0, 7]&#10;Color: (102, 102, 102)\" style=\"width: 100px; height: 100px;background-color: rgb(102, 102, 102);\"></td></tr></tbody></table>"
       ],
       "metadata": {},
       "output_type": "display_data",
       "text": [
        "<IPython.core.display.HTML at 0x5099790>"
       ]
      },
      {
       "output_type": "stream",
       "stream": "stdout",
       "text": [
        "Dark2\n"
       ]
      },
      {
       "html": [
        "<style type=\"text/css\">table.blockgrid {border: none;} .blockgrid tr {border: none;} .blockgrid td {padding: 0px;} #blocks7695129a-7e9b-473a-8848-e959048408b2 td {border: 1px solid white;}</style><table id=\"blocks7695129a-7e9b-473a-8848-e959048408b2\" class=\"blockgrid\"><tbody><tr><td title=\"Index: [0, 0]&#10;Color: (166, 206, 227)\" style=\"width: 100px; height: 100px;background-color: rgb(166, 206, 227);\"></td><td title=\"Index: [0, 1]&#10;Color: (31, 120, 180)\" style=\"width: 100px; height: 100px;background-color: rgb(31, 120, 180);\"></td><td title=\"Index: [0, 2]&#10;Color: (178, 223, 138)\" style=\"width: 100px; height: 100px;background-color: rgb(178, 223, 138);\"></td><td title=\"Index: [0, 3]&#10;Color: (51, 160, 44)\" style=\"width: 100px; height: 100px;background-color: rgb(51, 160, 44);\"></td><td title=\"Index: [0, 4]&#10;Color: (251, 154, 153)\" style=\"width: 100px; height: 100px;background-color: rgb(251, 154, 153);\"></td><td title=\"Index: [0, 5]&#10;Color: (227, 26, 28)\" style=\"width: 100px; height: 100px;background-color: rgb(227, 26, 28);\"></td><td title=\"Index: [0, 6]&#10;Color: (253, 191, 111)\" style=\"width: 100px; height: 100px;background-color: rgb(253, 191, 111);\"></td><td title=\"Index: [0, 7]&#10;Color: (255, 127, 0)\" style=\"width: 100px; height: 100px;background-color: rgb(255, 127, 0);\"></td><td title=\"Index: [0, 8]&#10;Color: (202, 178, 214)\" style=\"width: 100px; height: 100px;background-color: rgb(202, 178, 214);\"></td><td title=\"Index: [0, 9]&#10;Color: (106, 61, 154)\" style=\"width: 100px; height: 100px;background-color: rgb(106, 61, 154);\"></td><td title=\"Index: [0, 10]&#10;Color: (255, 255, 153)\" style=\"width: 100px; height: 100px;background-color: rgb(255, 255, 153);\"></td><td title=\"Index: [0, 11]&#10;Color: (177, 89, 40)\" style=\"width: 100px; height: 100px;background-color: rgb(177, 89, 40);\"></td></tr></tbody></table>"
       ],
       "metadata": {},
       "output_type": "display_data",
       "text": [
        "<IPython.core.display.HTML at 0x5099750>"
       ]
      },
      {
       "output_type": "stream",
       "stream": "stdout",
       "text": [
        "Paired\n"
       ]
      },
      {
       "html": [
        "<style type=\"text/css\">table.blockgrid {border: none;} .blockgrid tr {border: none;} .blockgrid td {padding: 0px;} #blocks108975bf-2e1f-4056-a0c2-942bdf8be0f3 td {border: 1px solid white;}</style><table id=\"blocks108975bf-2e1f-4056-a0c2-942bdf8be0f3\" class=\"blockgrid\"><tbody><tr><td title=\"Index: [0, 0]&#10;Color: (251, 180, 174)\" style=\"width: 100px; height: 100px;background-color: rgb(251, 180, 174);\"></td><td title=\"Index: [0, 1]&#10;Color: (179, 205, 227)\" style=\"width: 100px; height: 100px;background-color: rgb(179, 205, 227);\"></td><td title=\"Index: [0, 2]&#10;Color: (204, 235, 197)\" style=\"width: 100px; height: 100px;background-color: rgb(204, 235, 197);\"></td><td title=\"Index: [0, 3]&#10;Color: (222, 203, 228)\" style=\"width: 100px; height: 100px;background-color: rgb(222, 203, 228);\"></td><td title=\"Index: [0, 4]&#10;Color: (254, 217, 166)\" style=\"width: 100px; height: 100px;background-color: rgb(254, 217, 166);\"></td><td title=\"Index: [0, 5]&#10;Color: (255, 255, 204)\" style=\"width: 100px; height: 100px;background-color: rgb(255, 255, 204);\"></td><td title=\"Index: [0, 6]&#10;Color: (229, 216, 189)\" style=\"width: 100px; height: 100px;background-color: rgb(229, 216, 189);\"></td><td title=\"Index: [0, 7]&#10;Color: (253, 218, 236)\" style=\"width: 100px; height: 100px;background-color: rgb(253, 218, 236);\"></td><td title=\"Index: [0, 8]&#10;Color: (242, 242, 242)\" style=\"width: 100px; height: 100px;background-color: rgb(242, 242, 242);\"></td></tr></tbody></table>"
       ],
       "metadata": {},
       "output_type": "display_data",
       "text": [
        "<IPython.core.display.HTML at 0x5088c10>"
       ]
      },
      {
       "output_type": "stream",
       "stream": "stdout",
       "text": [
        "Pastel1\n"
       ]
      },
      {
       "html": [
        "<style type=\"text/css\">table.blockgrid {border: none;} .blockgrid tr {border: none;} .blockgrid td {padding: 0px;} #blocks374fae80-fcb2-4f13-8ab5-ee091e93d1f8 td {border: 1px solid white;}</style><table id=\"blocks374fae80-fcb2-4f13-8ab5-ee091e93d1f8\" class=\"blockgrid\"><tbody><tr><td title=\"Index: [0, 0]&#10;Color: (179, 226, 205)\" style=\"width: 100px; height: 100px;background-color: rgb(179, 226, 205);\"></td><td title=\"Index: [0, 1]&#10;Color: (253, 205, 172)\" style=\"width: 100px; height: 100px;background-color: rgb(253, 205, 172);\"></td><td title=\"Index: [0, 2]&#10;Color: (203, 213, 232)\" style=\"width: 100px; height: 100px;background-color: rgb(203, 213, 232);\"></td><td title=\"Index: [0, 3]&#10;Color: (244, 202, 228)\" style=\"width: 100px; height: 100px;background-color: rgb(244, 202, 228);\"></td><td title=\"Index: [0, 4]&#10;Color: (230, 245, 201)\" style=\"width: 100px; height: 100px;background-color: rgb(230, 245, 201);\"></td><td title=\"Index: [0, 5]&#10;Color: (255, 242, 174)\" style=\"width: 100px; height: 100px;background-color: rgb(255, 242, 174);\"></td><td title=\"Index: [0, 6]&#10;Color: (241, 226, 204)\" style=\"width: 100px; height: 100px;background-color: rgb(241, 226, 204);\"></td><td title=\"Index: [0, 7]&#10;Color: (204, 204, 204)\" style=\"width: 100px; height: 100px;background-color: rgb(204, 204, 204);\"></td></tr></tbody></table>"
       ],
       "metadata": {},
       "output_type": "display_data",
       "text": [
        "<IPython.core.display.HTML at 0x5088fd0>"
       ]
      },
      {
       "output_type": "stream",
       "stream": "stdout",
       "text": [
        "Pastel2\n"
       ]
      },
      {
       "html": [
        "<style type=\"text/css\">table.blockgrid {border: none;} .blockgrid tr {border: none;} .blockgrid td {padding: 0px;} #blocks642082f6-eb83-4bfb-8a3d-4b3c8aecc908 td {border: 1px solid white;}</style><table id=\"blocks642082f6-eb83-4bfb-8a3d-4b3c8aecc908\" class=\"blockgrid\"><tbody><tr><td title=\"Index: [0, 0]&#10;Color: (228, 26, 28)\" style=\"width: 100px; height: 100px;background-color: rgb(228, 26, 28);\"></td><td title=\"Index: [0, 1]&#10;Color: (55, 126, 184)\" style=\"width: 100px; height: 100px;background-color: rgb(55, 126, 184);\"></td><td title=\"Index: [0, 2]&#10;Color: (77, 175, 74)\" style=\"width: 100px; height: 100px;background-color: rgb(77, 175, 74);\"></td><td title=\"Index: [0, 3]&#10;Color: (152, 78, 163)\" style=\"width: 100px; height: 100px;background-color: rgb(152, 78, 163);\"></td><td title=\"Index: [0, 4]&#10;Color: (255, 127, 0)\" style=\"width: 100px; height: 100px;background-color: rgb(255, 127, 0);\"></td><td title=\"Index: [0, 5]&#10;Color: (255, 255, 51)\" style=\"width: 100px; height: 100px;background-color: rgb(255, 255, 51);\"></td><td title=\"Index: [0, 6]&#10;Color: (166, 86, 40)\" style=\"width: 100px; height: 100px;background-color: rgb(166, 86, 40);\"></td><td title=\"Index: [0, 7]&#10;Color: (247, 129, 191)\" style=\"width: 100px; height: 100px;background-color: rgb(247, 129, 191);\"></td><td title=\"Index: [0, 8]&#10;Color: (153, 153, 153)\" style=\"width: 100px; height: 100px;background-color: rgb(153, 153, 153);\"></td></tr></tbody></table>"
       ],
       "metadata": {},
       "output_type": "display_data",
       "text": [
        "<IPython.core.display.HTML at 0x50a64d0>"
       ]
      },
      {
       "output_type": "stream",
       "stream": "stdout",
       "text": [
        "Set1\n"
       ]
      },
      {
       "html": [
        "<style type=\"text/css\">table.blockgrid {border: none;} .blockgrid tr {border: none;} .blockgrid td {padding: 0px;} #blocks81adfa86-b47e-4bea-a10f-987ec2554135 td {border: 1px solid white;}</style><table id=\"blocks81adfa86-b47e-4bea-a10f-987ec2554135\" class=\"blockgrid\"><tbody><tr><td title=\"Index: [0, 0]&#10;Color: (102, 194, 165)\" style=\"width: 100px; height: 100px;background-color: rgb(102, 194, 165);\"></td><td title=\"Index: [0, 1]&#10;Color: (252, 141, 98)\" style=\"width: 100px; height: 100px;background-color: rgb(252, 141, 98);\"></td><td title=\"Index: [0, 2]&#10;Color: (141, 160, 203)\" style=\"width: 100px; height: 100px;background-color: rgb(141, 160, 203);\"></td><td title=\"Index: [0, 3]&#10;Color: (231, 138, 195)\" style=\"width: 100px; height: 100px;background-color: rgb(231, 138, 195);\"></td><td title=\"Index: [0, 4]&#10;Color: (166, 216, 84)\" style=\"width: 100px; height: 100px;background-color: rgb(166, 216, 84);\"></td><td title=\"Index: [0, 5]&#10;Color: (255, 217, 47)\" style=\"width: 100px; height: 100px;background-color: rgb(255, 217, 47);\"></td><td title=\"Index: [0, 6]&#10;Color: (229, 196, 148)\" style=\"width: 100px; height: 100px;background-color: rgb(229, 196, 148);\"></td><td title=\"Index: [0, 7]&#10;Color: (179, 179, 179)\" style=\"width: 100px; height: 100px;background-color: rgb(179, 179, 179);\"></td></tr></tbody></table>"
       ],
       "metadata": {},
       "output_type": "display_data",
       "text": [
        "<IPython.core.display.HTML at 0x50a6150>"
       ]
      },
      {
       "output_type": "stream",
       "stream": "stdout",
       "text": [
        "Set2\n"
       ]
      },
      {
       "html": [
        "<style type=\"text/css\">table.blockgrid {border: none;} .blockgrid tr {border: none;} .blockgrid td {padding: 0px;} #blocksa59cd9bf-b2ad-4c3a-ad3d-67373638ce39 td {border: 1px solid white;}</style><table id=\"blocksa59cd9bf-b2ad-4c3a-ad3d-67373638ce39\" class=\"blockgrid\"><tbody><tr><td title=\"Index: [0, 0]&#10;Color: (141, 211, 199)\" style=\"width: 100px; height: 100px;background-color: rgb(141, 211, 199);\"></td><td title=\"Index: [0, 1]&#10;Color: (255, 255, 179)\" style=\"width: 100px; height: 100px;background-color: rgb(255, 255, 179);\"></td><td title=\"Index: [0, 2]&#10;Color: (190, 186, 218)\" style=\"width: 100px; height: 100px;background-color: rgb(190, 186, 218);\"></td><td title=\"Index: [0, 3]&#10;Color: (251, 128, 114)\" style=\"width: 100px; height: 100px;background-color: rgb(251, 128, 114);\"></td><td title=\"Index: [0, 4]&#10;Color: (128, 177, 211)\" style=\"width: 100px; height: 100px;background-color: rgb(128, 177, 211);\"></td><td title=\"Index: [0, 5]&#10;Color: (253, 180, 98)\" style=\"width: 100px; height: 100px;background-color: rgb(253, 180, 98);\"></td><td title=\"Index: [0, 6]&#10;Color: (179, 222, 105)\" style=\"width: 100px; height: 100px;background-color: rgb(179, 222, 105);\"></td><td title=\"Index: [0, 7]&#10;Color: (252, 205, 229)\" style=\"width: 100px; height: 100px;background-color: rgb(252, 205, 229);\"></td><td title=\"Index: [0, 8]&#10;Color: (217, 217, 217)\" style=\"width: 100px; height: 100px;background-color: rgb(217, 217, 217);\"></td><td title=\"Index: [0, 9]&#10;Color: (188, 128, 189)\" style=\"width: 100px; height: 100px;background-color: rgb(188, 128, 189);\"></td><td title=\"Index: [0, 10]&#10;Color: (204, 235, 197)\" style=\"width: 100px; height: 100px;background-color: rgb(204, 235, 197);\"></td><td title=\"Index: [0, 11]&#10;Color: (255, 237, 111)\" style=\"width: 100px; height: 100px;background-color: rgb(255, 237, 111);\"></td></tr></tbody></table>"
       ],
       "metadata": {},
       "output_type": "display_data",
       "text": [
        "<IPython.core.display.HTML at 0x50a6590>"
       ]
      },
      {
       "output_type": "stream",
       "stream": "stdout",
       "text": [
        "Set3\n"
       ]
      }
     ],
     "prompt_number": 4
    },
    {
     "cell_type": "heading",
     "level": 1,
     "metadata": {},
     "source": [
      "Color Brewer Sequential"
     ]
    },
    {
     "cell_type": "code",
     "collapsed": false,
     "input": [
      "display_maps(sequential)"
     ],
     "language": "python",
     "metadata": {},
     "outputs": [
      {
       "html": [
        "<style type=\"text/css\">table.blockgrid {border: none;} .blockgrid tr {border: none;} .blockgrid td {padding: 0px;} #blocksb42f8005-fae4-42ce-94a4-cb3322aa17e1 td {border: 1px solid white;}</style><table id=\"blocksb42f8005-fae4-42ce-94a4-cb3322aa17e1\" class=\"blockgrid\"><tbody><tr><td title=\"Index: [0, 0]&#10;Color: (247, 251, 255)\" style=\"width: 100px; height: 100px;background-color: rgb(247, 251, 255);\"></td><td title=\"Index: [0, 1]&#10;Color: (222, 235, 247)\" style=\"width: 100px; height: 100px;background-color: rgb(222, 235, 247);\"></td><td title=\"Index: [0, 2]&#10;Color: (198, 219, 239)\" style=\"width: 100px; height: 100px;background-color: rgb(198, 219, 239);\"></td><td title=\"Index: [0, 3]&#10;Color: (158, 202, 225)\" style=\"width: 100px; height: 100px;background-color: rgb(158, 202, 225);\"></td><td title=\"Index: [0, 4]&#10;Color: (107, 174, 214)\" style=\"width: 100px; height: 100px;background-color: rgb(107, 174, 214);\"></td><td title=\"Index: [0, 5]&#10;Color: (66, 146, 198)\" style=\"width: 100px; height: 100px;background-color: rgb(66, 146, 198);\"></td><td title=\"Index: [0, 6]&#10;Color: (33, 113, 181)\" style=\"width: 100px; height: 100px;background-color: rgb(33, 113, 181);\"></td><td title=\"Index: [0, 7]&#10;Color: (8, 81, 156)\" style=\"width: 100px; height: 100px;background-color: rgb(8, 81, 156);\"></td><td title=\"Index: [0, 8]&#10;Color: (8, 48, 107)\" style=\"width: 100px; height: 100px;background-color: rgb(8, 48, 107);\"></td></tr></tbody></table>"
       ],
       "metadata": {},
       "output_type": "display_data",
       "text": [
        "<IPython.core.display.HTML at 0x50a6510>"
       ]
      },
      {
       "output_type": "stream",
       "stream": "stdout",
       "text": [
        "Blues\n"
       ]
      },
      {
       "html": [
        "<style type=\"text/css\">table.blockgrid {border: none;} .blockgrid tr {border: none;} .blockgrid td {padding: 0px;} #blocksfaaaaffb-a53e-4fa5-9676-db6d1dcd285d td {border: 1px solid white;}</style><table id=\"blocksfaaaaffb-a53e-4fa5-9676-db6d1dcd285d\" class=\"blockgrid\"><tbody><tr><td title=\"Index: [0, 0]&#10;Color: (247, 252, 253)\" style=\"width: 100px; height: 100px;background-color: rgb(247, 252, 253);\"></td><td title=\"Index: [0, 1]&#10;Color: (229, 245, 249)\" style=\"width: 100px; height: 100px;background-color: rgb(229, 245, 249);\"></td><td title=\"Index: [0, 2]&#10;Color: (204, 236, 230)\" style=\"width: 100px; height: 100px;background-color: rgb(204, 236, 230);\"></td><td title=\"Index: [0, 3]&#10;Color: (153, 216, 201)\" style=\"width: 100px; height: 100px;background-color: rgb(153, 216, 201);\"></td><td title=\"Index: [0, 4]&#10;Color: (102, 194, 164)\" style=\"width: 100px; height: 100px;background-color: rgb(102, 194, 164);\"></td><td title=\"Index: [0, 5]&#10;Color: (65, 174, 118)\" style=\"width: 100px; height: 100px;background-color: rgb(65, 174, 118);\"></td><td title=\"Index: [0, 6]&#10;Color: (35, 139, 69)\" style=\"width: 100px; height: 100px;background-color: rgb(35, 139, 69);\"></td><td title=\"Index: [0, 7]&#10;Color: (0, 109, 44)\" style=\"width: 100px; height: 100px;background-color: rgb(0, 109, 44);\"></td><td title=\"Index: [0, 8]&#10;Color: (0, 68, 27)\" style=\"width: 100px; height: 100px;background-color: rgb(0, 68, 27);\"></td></tr></tbody></table>"
       ],
       "metadata": {},
       "output_type": "display_data",
       "text": [
        "<IPython.core.display.HTML at 0x50a6410>"
       ]
      },
      {
       "output_type": "stream",
       "stream": "stdout",
       "text": [
        "BuGn\n"
       ]
      },
      {
       "html": [
        "<style type=\"text/css\">table.blockgrid {border: none;} .blockgrid tr {border: none;} .blockgrid td {padding: 0px;} #blockseefb2306-5f3b-4b15-b984-347931138a41 td {border: 1px solid white;}</style><table id=\"blockseefb2306-5f3b-4b15-b984-347931138a41\" class=\"blockgrid\"><tbody><tr><td title=\"Index: [0, 0]&#10;Color: (247, 252, 253)\" style=\"width: 100px; height: 100px;background-color: rgb(247, 252, 253);\"></td><td title=\"Index: [0, 1]&#10;Color: (224, 236, 244)\" style=\"width: 100px; height: 100px;background-color: rgb(224, 236, 244);\"></td><td title=\"Index: [0, 2]&#10;Color: (191, 211, 230)\" style=\"width: 100px; height: 100px;background-color: rgb(191, 211, 230);\"></td><td title=\"Index: [0, 3]&#10;Color: (158, 188, 218)\" style=\"width: 100px; height: 100px;background-color: rgb(158, 188, 218);\"></td><td title=\"Index: [0, 4]&#10;Color: (140, 150, 198)\" style=\"width: 100px; height: 100px;background-color: rgb(140, 150, 198);\"></td><td title=\"Index: [0, 5]&#10;Color: (140, 107, 177)\" style=\"width: 100px; height: 100px;background-color: rgb(140, 107, 177);\"></td><td title=\"Index: [0, 6]&#10;Color: (136, 65, 157)\" style=\"width: 100px; height: 100px;background-color: rgb(136, 65, 157);\"></td><td title=\"Index: [0, 7]&#10;Color: (129, 15, 124)\" style=\"width: 100px; height: 100px;background-color: rgb(129, 15, 124);\"></td><td title=\"Index: [0, 8]&#10;Color: (77, 0, 75)\" style=\"width: 100px; height: 100px;background-color: rgb(77, 0, 75);\"></td></tr></tbody></table>"
       ],
       "metadata": {},
       "output_type": "display_data",
       "text": [
        "<IPython.core.display.HTML at 0x50a6550>"
       ]
      },
      {
       "output_type": "stream",
       "stream": "stdout",
       "text": [
        "BuPu\n"
       ]
      },
      {
       "html": [
        "<style type=\"text/css\">table.blockgrid {border: none;} .blockgrid tr {border: none;} .blockgrid td {padding: 0px;} #blocks7102c7bf-1cab-44cd-b8a9-003f3fa8f333 td {border: 1px solid white;}</style><table id=\"blocks7102c7bf-1cab-44cd-b8a9-003f3fa8f333\" class=\"blockgrid\"><tbody><tr><td title=\"Index: [0, 0]&#10;Color: (247, 252, 240)\" style=\"width: 100px; height: 100px;background-color: rgb(247, 252, 240);\"></td><td title=\"Index: [0, 1]&#10;Color: (224, 243, 219)\" style=\"width: 100px; height: 100px;background-color: rgb(224, 243, 219);\"></td><td title=\"Index: [0, 2]&#10;Color: (204, 235, 197)\" style=\"width: 100px; height: 100px;background-color: rgb(204, 235, 197);\"></td><td title=\"Index: [0, 3]&#10;Color: (168, 221, 181)\" style=\"width: 100px; height: 100px;background-color: rgb(168, 221, 181);\"></td><td title=\"Index: [0, 4]&#10;Color: (123, 204, 196)\" style=\"width: 100px; height: 100px;background-color: rgb(123, 204, 196);\"></td><td title=\"Index: [0, 5]&#10;Color: (78, 179, 211)\" style=\"width: 100px; height: 100px;background-color: rgb(78, 179, 211);\"></td><td title=\"Index: [0, 6]&#10;Color: (43, 140, 190)\" style=\"width: 100px; height: 100px;background-color: rgb(43, 140, 190);\"></td><td title=\"Index: [0, 7]&#10;Color: (8, 104, 172)\" style=\"width: 100px; height: 100px;background-color: rgb(8, 104, 172);\"></td><td title=\"Index: [0, 8]&#10;Color: (8, 64, 129)\" style=\"width: 100px; height: 100px;background-color: rgb(8, 64, 129);\"></td></tr></tbody></table>"
       ],
       "metadata": {},
       "output_type": "display_data",
       "text": [
        "<IPython.core.display.HTML at 0x50a6450>"
       ]
      },
      {
       "output_type": "stream",
       "stream": "stdout",
       "text": [
        "GnBu\n"
       ]
      },
      {
       "html": [
        "<style type=\"text/css\">table.blockgrid {border: none;} .blockgrid tr {border: none;} .blockgrid td {padding: 0px;} #blocks74e93f63-cc55-4662-a674-b5b0683c6763 td {border: 1px solid white;}</style><table id=\"blocks74e93f63-cc55-4662-a674-b5b0683c6763\" class=\"blockgrid\"><tbody><tr><td title=\"Index: [0, 0]&#10;Color: (247, 252, 245)\" style=\"width: 100px; height: 100px;background-color: rgb(247, 252, 245);\"></td><td title=\"Index: [0, 1]&#10;Color: (229, 245, 224)\" style=\"width: 100px; height: 100px;background-color: rgb(229, 245, 224);\"></td><td title=\"Index: [0, 2]&#10;Color: (199, 233, 192)\" style=\"width: 100px; height: 100px;background-color: rgb(199, 233, 192);\"></td><td title=\"Index: [0, 3]&#10;Color: (161, 217, 155)\" style=\"width: 100px; height: 100px;background-color: rgb(161, 217, 155);\"></td><td title=\"Index: [0, 4]&#10;Color: (116, 196, 118)\" style=\"width: 100px; height: 100px;background-color: rgb(116, 196, 118);\"></td><td title=\"Index: [0, 5]&#10;Color: (65, 171, 93)\" style=\"width: 100px; height: 100px;background-color: rgb(65, 171, 93);\"></td><td title=\"Index: [0, 6]&#10;Color: (35, 139, 69)\" style=\"width: 100px; height: 100px;background-color: rgb(35, 139, 69);\"></td><td title=\"Index: [0, 7]&#10;Color: (0, 109, 44)\" style=\"width: 100px; height: 100px;background-color: rgb(0, 109, 44);\"></td><td title=\"Index: [0, 8]&#10;Color: (0, 68, 27)\" style=\"width: 100px; height: 100px;background-color: rgb(0, 68, 27);\"></td></tr></tbody></table>"
       ],
       "metadata": {},
       "output_type": "display_data",
       "text": [
        "<IPython.core.display.HTML at 0x50a6610>"
       ]
      },
      {
       "output_type": "stream",
       "stream": "stdout",
       "text": [
        "Greens\n"
       ]
      },
      {
       "html": [
        "<style type=\"text/css\">table.blockgrid {border: none;} .blockgrid tr {border: none;} .blockgrid td {padding: 0px;} #blocksd00f8421-1184-4862-bb2b-46d76d8771e1 td {border: 1px solid white;}</style><table id=\"blocksd00f8421-1184-4862-bb2b-46d76d8771e1\" class=\"blockgrid\"><tbody><tr><td title=\"Index: [0, 0]&#10;Color: (255, 255, 255)\" style=\"width: 100px; height: 100px;background-color: rgb(255, 255, 255);\"></td><td title=\"Index: [0, 1]&#10;Color: (240, 240, 240)\" style=\"width: 100px; height: 100px;background-color: rgb(240, 240, 240);\"></td><td title=\"Index: [0, 2]&#10;Color: (217, 217, 217)\" style=\"width: 100px; height: 100px;background-color: rgb(217, 217, 217);\"></td><td title=\"Index: [0, 3]&#10;Color: (189, 189, 189)\" style=\"width: 100px; height: 100px;background-color: rgb(189, 189, 189);\"></td><td title=\"Index: [0, 4]&#10;Color: (150, 150, 150)\" style=\"width: 100px; height: 100px;background-color: rgb(150, 150, 150);\"></td><td title=\"Index: [0, 5]&#10;Color: (115, 115, 115)\" style=\"width: 100px; height: 100px;background-color: rgb(115, 115, 115);\"></td><td title=\"Index: [0, 6]&#10;Color: (82, 82, 82)\" style=\"width: 100px; height: 100px;background-color: rgb(82, 82, 82);\"></td><td title=\"Index: [0, 7]&#10;Color: (37, 37, 37)\" style=\"width: 100px; height: 100px;background-color: rgb(37, 37, 37);\"></td><td title=\"Index: [0, 8]&#10;Color: (0, 0, 0)\" style=\"width: 100px; height: 100px;background-color: rgb(0, 0, 0);\"></td></tr></tbody></table>"
       ],
       "metadata": {},
       "output_type": "display_data",
       "text": [
        "<IPython.core.display.HTML at 0x50a6690>"
       ]
      },
      {
       "output_type": "stream",
       "stream": "stdout",
       "text": [
        "Greys\n"
       ]
      },
      {
       "html": [
        "<style type=\"text/css\">table.blockgrid {border: none;} .blockgrid tr {border: none;} .blockgrid td {padding: 0px;} #blocks06cea9cb-de0b-4ce1-b20d-c3db88cd8c2d td {border: 1px solid white;}</style><table id=\"blocks06cea9cb-de0b-4ce1-b20d-c3db88cd8c2d\" class=\"blockgrid\"><tbody><tr><td title=\"Index: [0, 0]&#10;Color: (255, 247, 236)\" style=\"width: 100px; height: 100px;background-color: rgb(255, 247, 236);\"></td><td title=\"Index: [0, 1]&#10;Color: (254, 232, 200)\" style=\"width: 100px; height: 100px;background-color: rgb(254, 232, 200);\"></td><td title=\"Index: [0, 2]&#10;Color: (253, 212, 158)\" style=\"width: 100px; height: 100px;background-color: rgb(253, 212, 158);\"></td><td title=\"Index: [0, 3]&#10;Color: (253, 187, 132)\" style=\"width: 100px; height: 100px;background-color: rgb(253, 187, 132);\"></td><td title=\"Index: [0, 4]&#10;Color: (252, 141, 89)\" style=\"width: 100px; height: 100px;background-color: rgb(252, 141, 89);\"></td><td title=\"Index: [0, 5]&#10;Color: (239, 101, 72)\" style=\"width: 100px; height: 100px;background-color: rgb(239, 101, 72);\"></td><td title=\"Index: [0, 6]&#10;Color: (215, 48, 31)\" style=\"width: 100px; height: 100px;background-color: rgb(215, 48, 31);\"></td><td title=\"Index: [0, 7]&#10;Color: (179, 0, 0)\" style=\"width: 100px; height: 100px;background-color: rgb(179, 0, 0);\"></td><td title=\"Index: [0, 8]&#10;Color: (127, 0, 0)\" style=\"width: 100px; height: 100px;background-color: rgb(127, 0, 0);\"></td></tr></tbody></table>"
       ],
       "metadata": {},
       "output_type": "display_data",
       "text": [
        "<IPython.core.display.HTML at 0x50a6710>"
       ]
      },
      {
       "output_type": "stream",
       "stream": "stdout",
       "text": [
        "OrRd\n"
       ]
      },
      {
       "html": [
        "<style type=\"text/css\">table.blockgrid {border: none;} .blockgrid tr {border: none;} .blockgrid td {padding: 0px;} #blocksf2ccc614-0c55-4aab-923a-39f221876bf5 td {border: 1px solid white;}</style><table id=\"blocksf2ccc614-0c55-4aab-923a-39f221876bf5\" class=\"blockgrid\"><tbody><tr><td title=\"Index: [0, 0]&#10;Color: (255, 245, 235)\" style=\"width: 100px; height: 100px;background-color: rgb(255, 245, 235);\"></td><td title=\"Index: [0, 1]&#10;Color: (254, 230, 206)\" style=\"width: 100px; height: 100px;background-color: rgb(254, 230, 206);\"></td><td title=\"Index: [0, 2]&#10;Color: (253, 208, 162)\" style=\"width: 100px; height: 100px;background-color: rgb(253, 208, 162);\"></td><td title=\"Index: [0, 3]&#10;Color: (253, 174, 107)\" style=\"width: 100px; height: 100px;background-color: rgb(253, 174, 107);\"></td><td title=\"Index: [0, 4]&#10;Color: (253, 141, 60)\" style=\"width: 100px; height: 100px;background-color: rgb(253, 141, 60);\"></td><td title=\"Index: [0, 5]&#10;Color: (241, 105, 19)\" style=\"width: 100px; height: 100px;background-color: rgb(241, 105, 19);\"></td><td title=\"Index: [0, 6]&#10;Color: (217, 72, 1)\" style=\"width: 100px; height: 100px;background-color: rgb(217, 72, 1);\"></td><td title=\"Index: [0, 7]&#10;Color: (166, 54, 3)\" style=\"width: 100px; height: 100px;background-color: rgb(166, 54, 3);\"></td><td title=\"Index: [0, 8]&#10;Color: (127, 39, 4)\" style=\"width: 100px; height: 100px;background-color: rgb(127, 39, 4);\"></td></tr></tbody></table>"
       ],
       "metadata": {},
       "output_type": "display_data",
       "text": [
        "<IPython.core.display.HTML at 0x50a6750>"
       ]
      },
      {
       "output_type": "stream",
       "stream": "stdout",
       "text": [
        "Oranges\n"
       ]
      },
      {
       "html": [
        "<style type=\"text/css\">table.blockgrid {border: none;} .blockgrid tr {border: none;} .blockgrid td {padding: 0px;} #blocksf5788b86-5328-42ca-90cc-3d30666e56d6 td {border: 1px solid white;}</style><table id=\"blocksf5788b86-5328-42ca-90cc-3d30666e56d6\" class=\"blockgrid\"><tbody><tr><td title=\"Index: [0, 0]&#10;Color: (255, 247, 251)\" style=\"width: 100px; height: 100px;background-color: rgb(255, 247, 251);\"></td><td title=\"Index: [0, 1]&#10;Color: (236, 231, 242)\" style=\"width: 100px; height: 100px;background-color: rgb(236, 231, 242);\"></td><td title=\"Index: [0, 2]&#10;Color: (208, 209, 230)\" style=\"width: 100px; height: 100px;background-color: rgb(208, 209, 230);\"></td><td title=\"Index: [0, 3]&#10;Color: (166, 189, 219)\" style=\"width: 100px; height: 100px;background-color: rgb(166, 189, 219);\"></td><td title=\"Index: [0, 4]&#10;Color: (116, 169, 207)\" style=\"width: 100px; height: 100px;background-color: rgb(116, 169, 207);\"></td><td title=\"Index: [0, 5]&#10;Color: (54, 144, 192)\" style=\"width: 100px; height: 100px;background-color: rgb(54, 144, 192);\"></td><td title=\"Index: [0, 6]&#10;Color: (5, 112, 176)\" style=\"width: 100px; height: 100px;background-color: rgb(5, 112, 176);\"></td><td title=\"Index: [0, 7]&#10;Color: (4, 90, 141)\" style=\"width: 100px; height: 100px;background-color: rgb(4, 90, 141);\"></td><td title=\"Index: [0, 8]&#10;Color: (2, 56, 88)\" style=\"width: 100px; height: 100px;background-color: rgb(2, 56, 88);\"></td></tr></tbody></table>"
       ],
       "metadata": {},
       "output_type": "display_data",
       "text": [
        "<IPython.core.display.HTML at 0x50a67d0>"
       ]
      },
      {
       "output_type": "stream",
       "stream": "stdout",
       "text": [
        "PuBu\n"
       ]
      },
      {
       "html": [
        "<style type=\"text/css\">table.blockgrid {border: none;} .blockgrid tr {border: none;} .blockgrid td {padding: 0px;} #blocks7e812ca4-3c59-42ee-bdda-9676520b8103 td {border: 1px solid white;}</style><table id=\"blocks7e812ca4-3c59-42ee-bdda-9676520b8103\" class=\"blockgrid\"><tbody><tr><td title=\"Index: [0, 0]&#10;Color: (255, 247, 251)\" style=\"width: 100px; height: 100px;background-color: rgb(255, 247, 251);\"></td><td title=\"Index: [0, 1]&#10;Color: (236, 226, 240)\" style=\"width: 100px; height: 100px;background-color: rgb(236, 226, 240);\"></td><td title=\"Index: [0, 2]&#10;Color: (208, 209, 230)\" style=\"width: 100px; height: 100px;background-color: rgb(208, 209, 230);\"></td><td title=\"Index: [0, 3]&#10;Color: (166, 189, 219)\" style=\"width: 100px; height: 100px;background-color: rgb(166, 189, 219);\"></td><td title=\"Index: [0, 4]&#10;Color: (103, 169, 207)\" style=\"width: 100px; height: 100px;background-color: rgb(103, 169, 207);\"></td><td title=\"Index: [0, 5]&#10;Color: (54, 144, 192)\" style=\"width: 100px; height: 100px;background-color: rgb(54, 144, 192);\"></td><td title=\"Index: [0, 6]&#10;Color: (2, 129, 138)\" style=\"width: 100px; height: 100px;background-color: rgb(2, 129, 138);\"></td><td title=\"Index: [0, 7]&#10;Color: (1, 108, 89)\" style=\"width: 100px; height: 100px;background-color: rgb(1, 108, 89);\"></td><td title=\"Index: [0, 8]&#10;Color: (1, 70, 54)\" style=\"width: 100px; height: 100px;background-color: rgb(1, 70, 54);\"></td></tr></tbody></table>"
       ],
       "metadata": {},
       "output_type": "display_data",
       "text": [
        "<IPython.core.display.HTML at 0x50a6810>"
       ]
      },
      {
       "output_type": "stream",
       "stream": "stdout",
       "text": [
        "PuBuGn\n"
       ]
      },
      {
       "html": [
        "<style type=\"text/css\">table.blockgrid {border: none;} .blockgrid tr {border: none;} .blockgrid td {padding: 0px;} #blocks4ca65c44-f355-4e7e-9d07-848beed87c55 td {border: 1px solid white;}</style><table id=\"blocks4ca65c44-f355-4e7e-9d07-848beed87c55\" class=\"blockgrid\"><tbody><tr><td title=\"Index: [0, 0]&#10;Color: (247, 244, 249)\" style=\"width: 100px; height: 100px;background-color: rgb(247, 244, 249);\"></td><td title=\"Index: [0, 1]&#10;Color: (231, 225, 239)\" style=\"width: 100px; height: 100px;background-color: rgb(231, 225, 239);\"></td><td title=\"Index: [0, 2]&#10;Color: (212, 185, 218)\" style=\"width: 100px; height: 100px;background-color: rgb(212, 185, 218);\"></td><td title=\"Index: [0, 3]&#10;Color: (201, 148, 199)\" style=\"width: 100px; height: 100px;background-color: rgb(201, 148, 199);\"></td><td title=\"Index: [0, 4]&#10;Color: (223, 101, 176)\" style=\"width: 100px; height: 100px;background-color: rgb(223, 101, 176);\"></td><td title=\"Index: [0, 5]&#10;Color: (231, 41, 138)\" style=\"width: 100px; height: 100px;background-color: rgb(231, 41, 138);\"></td><td title=\"Index: [0, 6]&#10;Color: (206, 18, 86)\" style=\"width: 100px; height: 100px;background-color: rgb(206, 18, 86);\"></td><td title=\"Index: [0, 7]&#10;Color: (152, 0, 67)\" style=\"width: 100px; height: 100px;background-color: rgb(152, 0, 67);\"></td><td title=\"Index: [0, 8]&#10;Color: (103, 0, 31)\" style=\"width: 100px; height: 100px;background-color: rgb(103, 0, 31);\"></td></tr></tbody></table>"
       ],
       "metadata": {},
       "output_type": "display_data",
       "text": [
        "<IPython.core.display.HTML at 0x50a6850>"
       ]
      },
      {
       "output_type": "stream",
       "stream": "stdout",
       "text": [
        "PuRd\n"
       ]
      },
      {
       "html": [
        "<style type=\"text/css\">table.blockgrid {border: none;} .blockgrid tr {border: none;} .blockgrid td {padding: 0px;} #blocks5d0247e1-1f72-499c-a80b-23211ffa6fca td {border: 1px solid white;}</style><table id=\"blocks5d0247e1-1f72-499c-a80b-23211ffa6fca\" class=\"blockgrid\"><tbody><tr><td title=\"Index: [0, 0]&#10;Color: (252, 251, 253)\" style=\"width: 100px; height: 100px;background-color: rgb(252, 251, 253);\"></td><td title=\"Index: [0, 1]&#10;Color: (239, 237, 245)\" style=\"width: 100px; height: 100px;background-color: rgb(239, 237, 245);\"></td><td title=\"Index: [0, 2]&#10;Color: (218, 218, 235)\" style=\"width: 100px; height: 100px;background-color: rgb(218, 218, 235);\"></td><td title=\"Index: [0, 3]&#10;Color: (188, 189, 220)\" style=\"width: 100px; height: 100px;background-color: rgb(188, 189, 220);\"></td><td title=\"Index: [0, 4]&#10;Color: (158, 154, 200)\" style=\"width: 100px; height: 100px;background-color: rgb(158, 154, 200);\"></td><td title=\"Index: [0, 5]&#10;Color: (128, 125, 186)\" style=\"width: 100px; height: 100px;background-color: rgb(128, 125, 186);\"></td><td title=\"Index: [0, 6]&#10;Color: (106, 81, 163)\" style=\"width: 100px; height: 100px;background-color: rgb(106, 81, 163);\"></td><td title=\"Index: [0, 7]&#10;Color: (84, 39, 143)\" style=\"width: 100px; height: 100px;background-color: rgb(84, 39, 143);\"></td><td title=\"Index: [0, 8]&#10;Color: (63, 0, 125)\" style=\"width: 100px; height: 100px;background-color: rgb(63, 0, 125);\"></td></tr></tbody></table>"
       ],
       "metadata": {},
       "output_type": "display_data",
       "text": [
        "<IPython.core.display.HTML at 0x50a6890>"
       ]
      },
      {
       "output_type": "stream",
       "stream": "stdout",
       "text": [
        "Purples\n"
       ]
      },
      {
       "html": [
        "<style type=\"text/css\">table.blockgrid {border: none;} .blockgrid tr {border: none;} .blockgrid td {padding: 0px;} #blocks8a020ef9-e434-466b-883e-fc0ec70b17f0 td {border: 1px solid white;}</style><table id=\"blocks8a020ef9-e434-466b-883e-fc0ec70b17f0\" class=\"blockgrid\"><tbody><tr><td title=\"Index: [0, 0]&#10;Color: (255, 247, 243)\" style=\"width: 100px; height: 100px;background-color: rgb(255, 247, 243);\"></td><td title=\"Index: [0, 1]&#10;Color: (253, 224, 221)\" style=\"width: 100px; height: 100px;background-color: rgb(253, 224, 221);\"></td><td title=\"Index: [0, 2]&#10;Color: (252, 197, 192)\" style=\"width: 100px; height: 100px;background-color: rgb(252, 197, 192);\"></td><td title=\"Index: [0, 3]&#10;Color: (250, 159, 181)\" style=\"width: 100px; height: 100px;background-color: rgb(250, 159, 181);\"></td><td title=\"Index: [0, 4]&#10;Color: (247, 104, 161)\" style=\"width: 100px; height: 100px;background-color: rgb(247, 104, 161);\"></td><td title=\"Index: [0, 5]&#10;Color: (221, 52, 151)\" style=\"width: 100px; height: 100px;background-color: rgb(221, 52, 151);\"></td><td title=\"Index: [0, 6]&#10;Color: (174, 1, 126)\" style=\"width: 100px; height: 100px;background-color: rgb(174, 1, 126);\"></td><td title=\"Index: [0, 7]&#10;Color: (122, 1, 119)\" style=\"width: 100px; height: 100px;background-color: rgb(122, 1, 119);\"></td><td title=\"Index: [0, 8]&#10;Color: (73, 0, 106)\" style=\"width: 100px; height: 100px;background-color: rgb(73, 0, 106);\"></td></tr></tbody></table>"
       ],
       "metadata": {},
       "output_type": "display_data",
       "text": [
        "<IPython.core.display.HTML at 0x50a68d0>"
       ]
      },
      {
       "output_type": "stream",
       "stream": "stdout",
       "text": [
        "RdPu\n"
       ]
      },
      {
       "html": [
        "<style type=\"text/css\">table.blockgrid {border: none;} .blockgrid tr {border: none;} .blockgrid td {padding: 0px;} #blocks773000af-7772-4622-8e0f-39df089eb533 td {border: 1px solid white;}</style><table id=\"blocks773000af-7772-4622-8e0f-39df089eb533\" class=\"blockgrid\"><tbody><tr><td title=\"Index: [0, 0]&#10;Color: (255, 245, 240)\" style=\"width: 100px; height: 100px;background-color: rgb(255, 245, 240);\"></td><td title=\"Index: [0, 1]&#10;Color: (254, 224, 210)\" style=\"width: 100px; height: 100px;background-color: rgb(254, 224, 210);\"></td><td title=\"Index: [0, 2]&#10;Color: (252, 187, 161)\" style=\"width: 100px; height: 100px;background-color: rgb(252, 187, 161);\"></td><td title=\"Index: [0, 3]&#10;Color: (252, 146, 114)\" style=\"width: 100px; height: 100px;background-color: rgb(252, 146, 114);\"></td><td title=\"Index: [0, 4]&#10;Color: (251, 106, 74)\" style=\"width: 100px; height: 100px;background-color: rgb(251, 106, 74);\"></td><td title=\"Index: [0, 5]&#10;Color: (239, 59, 44)\" style=\"width: 100px; height: 100px;background-color: rgb(239, 59, 44);\"></td><td title=\"Index: [0, 6]&#10;Color: (203, 24, 29)\" style=\"width: 100px; height: 100px;background-color: rgb(203, 24, 29);\"></td><td title=\"Index: [0, 7]&#10;Color: (165, 15, 21)\" style=\"width: 100px; height: 100px;background-color: rgb(165, 15, 21);\"></td><td title=\"Index: [0, 8]&#10;Color: (103, 0, 13)\" style=\"width: 100px; height: 100px;background-color: rgb(103, 0, 13);\"></td></tr></tbody></table>"
       ],
       "metadata": {},
       "output_type": "display_data",
       "text": [
        "<IPython.core.display.HTML at 0x50a6910>"
       ]
      },
      {
       "output_type": "stream",
       "stream": "stdout",
       "text": [
        "Reds\n"
       ]
      },
      {
       "html": [
        "<style type=\"text/css\">table.blockgrid {border: none;} .blockgrid tr {border: none;} .blockgrid td {padding: 0px;} #blocks81f28a9a-0259-41a7-8355-dee0ea019ec8 td {border: 1px solid white;}</style><table id=\"blocks81f28a9a-0259-41a7-8355-dee0ea019ec8\" class=\"blockgrid\"><tbody><tr><td title=\"Index: [0, 0]&#10;Color: (255, 255, 229)\" style=\"width: 100px; height: 100px;background-color: rgb(255, 255, 229);\"></td><td title=\"Index: [0, 1]&#10;Color: (247, 252, 185)\" style=\"width: 100px; height: 100px;background-color: rgb(247, 252, 185);\"></td><td title=\"Index: [0, 2]&#10;Color: (217, 240, 163)\" style=\"width: 100px; height: 100px;background-color: rgb(217, 240, 163);\"></td><td title=\"Index: [0, 3]&#10;Color: (173, 221, 142)\" style=\"width: 100px; height: 100px;background-color: rgb(173, 221, 142);\"></td><td title=\"Index: [0, 4]&#10;Color: (120, 198, 121)\" style=\"width: 100px; height: 100px;background-color: rgb(120, 198, 121);\"></td><td title=\"Index: [0, 5]&#10;Color: (65, 171, 93)\" style=\"width: 100px; height: 100px;background-color: rgb(65, 171, 93);\"></td><td title=\"Index: [0, 6]&#10;Color: (35, 132, 67)\" style=\"width: 100px; height: 100px;background-color: rgb(35, 132, 67);\"></td><td title=\"Index: [0, 7]&#10;Color: (0, 104, 55)\" style=\"width: 100px; height: 100px;background-color: rgb(0, 104, 55);\"></td><td title=\"Index: [0, 8]&#10;Color: (0, 69, 41)\" style=\"width: 100px; height: 100px;background-color: rgb(0, 69, 41);\"></td></tr></tbody></table>"
       ],
       "metadata": {},
       "output_type": "display_data",
       "text": [
        "<IPython.core.display.HTML at 0x50a6950>"
       ]
      },
      {
       "output_type": "stream",
       "stream": "stdout",
       "text": [
        "YlGn\n"
       ]
      },
      {
       "html": [
        "<style type=\"text/css\">table.blockgrid {border: none;} .blockgrid tr {border: none;} .blockgrid td {padding: 0px;} #blocks1ad7aa92-5a83-4ba6-831b-3477ffb171fc td {border: 1px solid white;}</style><table id=\"blocks1ad7aa92-5a83-4ba6-831b-3477ffb171fc\" class=\"blockgrid\"><tbody><tr><td title=\"Index: [0, 0]&#10;Color: (255, 255, 217)\" style=\"width: 100px; height: 100px;background-color: rgb(255, 255, 217);\"></td><td title=\"Index: [0, 1]&#10;Color: (237, 248, 177)\" style=\"width: 100px; height: 100px;background-color: rgb(237, 248, 177);\"></td><td title=\"Index: [0, 2]&#10;Color: (199, 233, 180)\" style=\"width: 100px; height: 100px;background-color: rgb(199, 233, 180);\"></td><td title=\"Index: [0, 3]&#10;Color: (127, 205, 187)\" style=\"width: 100px; height: 100px;background-color: rgb(127, 205, 187);\"></td><td title=\"Index: [0, 4]&#10;Color: (65, 182, 196)\" style=\"width: 100px; height: 100px;background-color: rgb(65, 182, 196);\"></td><td title=\"Index: [0, 5]&#10;Color: (29, 145, 192)\" style=\"width: 100px; height: 100px;background-color: rgb(29, 145, 192);\"></td><td title=\"Index: [0, 6]&#10;Color: (34, 94, 168)\" style=\"width: 100px; height: 100px;background-color: rgb(34, 94, 168);\"></td><td title=\"Index: [0, 7]&#10;Color: (37, 52, 148)\" style=\"width: 100px; height: 100px;background-color: rgb(37, 52, 148);\"></td><td title=\"Index: [0, 8]&#10;Color: (8, 29, 88)\" style=\"width: 100px; height: 100px;background-color: rgb(8, 29, 88);\"></td></tr></tbody></table>"
       ],
       "metadata": {},
       "output_type": "display_data",
       "text": [
        "<IPython.core.display.HTML at 0x50a6990>"
       ]
      },
      {
       "output_type": "stream",
       "stream": "stdout",
       "text": [
        "YlGnBu\n"
       ]
      },
      {
       "html": [
        "<style type=\"text/css\">table.blockgrid {border: none;} .blockgrid tr {border: none;} .blockgrid td {padding: 0px;} #blocks8691b364-adef-4a6e-83a3-9e780df3503f td {border: 1px solid white;}</style><table id=\"blocks8691b364-adef-4a6e-83a3-9e780df3503f\" class=\"blockgrid\"><tbody><tr><td title=\"Index: [0, 0]&#10;Color: (255, 255, 229)\" style=\"width: 100px; height: 100px;background-color: rgb(255, 255, 229);\"></td><td title=\"Index: [0, 1]&#10;Color: (255, 247, 188)\" style=\"width: 100px; height: 100px;background-color: rgb(255, 247, 188);\"></td><td title=\"Index: [0, 2]&#10;Color: (254, 227, 145)\" style=\"width: 100px; height: 100px;background-color: rgb(254, 227, 145);\"></td><td title=\"Index: [0, 3]&#10;Color: (254, 196, 79)\" style=\"width: 100px; height: 100px;background-color: rgb(254, 196, 79);\"></td><td title=\"Index: [0, 4]&#10;Color: (254, 153, 41)\" style=\"width: 100px; height: 100px;background-color: rgb(254, 153, 41);\"></td><td title=\"Index: [0, 5]&#10;Color: (236, 112, 20)\" style=\"width: 100px; height: 100px;background-color: rgb(236, 112, 20);\"></td><td title=\"Index: [0, 6]&#10;Color: (204, 76, 2)\" style=\"width: 100px; height: 100px;background-color: rgb(204, 76, 2);\"></td><td title=\"Index: [0, 7]&#10;Color: (153, 52, 4)\" style=\"width: 100px; height: 100px;background-color: rgb(153, 52, 4);\"></td><td title=\"Index: [0, 8]&#10;Color: (102, 37, 6)\" style=\"width: 100px; height: 100px;background-color: rgb(102, 37, 6);\"></td></tr></tbody></table>"
       ],
       "metadata": {},
       "output_type": "display_data",
       "text": [
        "<IPython.core.display.HTML at 0x50a69d0>"
       ]
      },
      {
       "output_type": "stream",
       "stream": "stdout",
       "text": [
        "YlOrBr\n"
       ]
      },
      {
       "html": [
        "<style type=\"text/css\">table.blockgrid {border: none;} .blockgrid tr {border: none;} .blockgrid td {padding: 0px;} #blocks329fa228-df10-4eb3-8fa9-f96632c0c757 td {border: 1px solid white;}</style><table id=\"blocks329fa228-df10-4eb3-8fa9-f96632c0c757\" class=\"blockgrid\"><tbody><tr><td title=\"Index: [0, 0]&#10;Color: (255, 255, 204)\" style=\"width: 100px; height: 100px;background-color: rgb(255, 255, 204);\"></td><td title=\"Index: [0, 1]&#10;Color: (255, 237, 160)\" style=\"width: 100px; height: 100px;background-color: rgb(255, 237, 160);\"></td><td title=\"Index: [0, 2]&#10;Color: (254, 217, 118)\" style=\"width: 100px; height: 100px;background-color: rgb(254, 217, 118);\"></td><td title=\"Index: [0, 3]&#10;Color: (254, 178, 76)\" style=\"width: 100px; height: 100px;background-color: rgb(254, 178, 76);\"></td><td title=\"Index: [0, 4]&#10;Color: (253, 141, 60)\" style=\"width: 100px; height: 100px;background-color: rgb(253, 141, 60);\"></td><td title=\"Index: [0, 5]&#10;Color: (252, 78, 42)\" style=\"width: 100px; height: 100px;background-color: rgb(252, 78, 42);\"></td><td title=\"Index: [0, 6]&#10;Color: (227, 26, 28)\" style=\"width: 100px; height: 100px;background-color: rgb(227, 26, 28);\"></td><td title=\"Index: [0, 7]&#10;Color: (189, 0, 38)\" style=\"width: 100px; height: 100px;background-color: rgb(189, 0, 38);\"></td><td title=\"Index: [0, 8]&#10;Color: (128, 0, 38)\" style=\"width: 100px; height: 100px;background-color: rgb(128, 0, 38);\"></td></tr></tbody></table>"
       ],
       "metadata": {},
       "output_type": "display_data",
       "text": [
        "<IPython.core.display.HTML at 0x50a6a10>"
       ]
      },
      {
       "output_type": "stream",
       "stream": "stdout",
       "text": [
        "YlOrRd\n"
       ]
      }
     ],
     "prompt_number": 5
    },
    {
     "cell_type": "heading",
     "level": 1,
     "metadata": {},
     "source": [
      "Tableau"
     ]
    },
    {
     "cell_type": "markdown",
     "metadata": {},
     "source": [
      "Via http://www.tableausoftware.com/."
     ]
    },
    {
     "cell_type": "code",
     "collapsed": false,
     "input": [
      "for name, colormap in sorted(tableau.get_all_maps().viewitems()):\n",
      "    colormap.show_as_blocks()\n",
      "    print(name)\n",
      "    "
     ],
     "language": "python",
     "metadata": {},
     "outputs": [
      {
       "html": [
        "<style type=\"text/css\">table.blockgrid {border: none;} .blockgrid tr {border: none;} .blockgrid td {padding: 0px;} #blocks3e8af002-2def-42d9-ab0c-af58dc926ac4 td {border: 1px solid white;}</style><table id=\"blocks3e8af002-2def-42d9-ab0c-af58dc926ac4\" class=\"blockgrid\"><tbody><tr><td title=\"Index: [0, 0]&#10;Color: (44, 105, 176)\" style=\"width: 100px; height: 100px;background-color: rgb(44, 105, 176);\"></td><td title=\"Index: [0, 1]&#10;Color: (181, 200, 226)\" style=\"width: 100px; height: 100px;background-color: rgb(181, 200, 226);\"></td><td title=\"Index: [0, 2]&#10;Color: (240, 39, 32)\" style=\"width: 100px; height: 100px;background-color: rgb(240, 39, 32);\"></td><td title=\"Index: [0, 3]&#10;Color: (255, 182, 176)\" style=\"width: 100px; height: 100px;background-color: rgb(255, 182, 176);\"></td><td title=\"Index: [0, 4]&#10;Color: (172, 97, 60)\" style=\"width: 100px; height: 100px;background-color: rgb(172, 97, 60);\"></td><td title=\"Index: [0, 5]&#10;Color: (233, 195, 155)\" style=\"width: 100px; height: 100px;background-color: rgb(233, 195, 155);\"></td><td title=\"Index: [0, 6]&#10;Color: (107, 163, 214)\" style=\"width: 100px; height: 100px;background-color: rgb(107, 163, 214);\"></td><td title=\"Index: [0, 7]&#10;Color: (181, 223, 253)\" style=\"width: 100px; height: 100px;background-color: rgb(181, 223, 253);\"></td><td title=\"Index: [0, 8]&#10;Color: (172, 135, 99)\" style=\"width: 100px; height: 100px;background-color: rgb(172, 135, 99);\"></td><td title=\"Index: [0, 9]&#10;Color: (221, 201, 180)\" style=\"width: 100px; height: 100px;background-color: rgb(221, 201, 180);\"></td><td title=\"Index: [0, 10]&#10;Color: (189, 10, 54)\" style=\"width: 100px; height: 100px;background-color: rgb(189, 10, 54);\"></td><td title=\"Index: [0, 11]&#10;Color: (244, 115, 122)\" style=\"width: 100px; height: 100px;background-color: rgb(244, 115, 122);\"></td></tr></tbody></table>"
       ],
       "metadata": {},
       "output_type": "display_data",
       "text": [
        "<IPython.core.display.HTML at 0x50a6d10>"
       ]
      },
      {
       "output_type": "stream",
       "stream": "stdout",
       "text": [
        "Blue-Red 12\n"
       ]
      },
      {
       "html": [
        "<style type=\"text/css\">table.blockgrid {border: none;} .blockgrid tr {border: none;} .blockgrid td {padding: 0px;} #blocks037a7c28-8b38-47a6-861a-8a0c5bc6c712 td {border: 1px solid white;}</style><table id=\"blocks037a7c28-8b38-47a6-861a-8a0c5bc6c712\" class=\"blockgrid\"><tbody><tr><td title=\"Index: [0, 0]&#10;Color: (44, 105, 176)\" style=\"width: 100px; height: 100px;background-color: rgb(44, 105, 176);\"></td><td title=\"Index: [0, 1]&#10;Color: (240, 39, 32)\" style=\"width: 100px; height: 100px;background-color: rgb(240, 39, 32);\"></td><td title=\"Index: [0, 2]&#10;Color: (172, 97, 60)\" style=\"width: 100px; height: 100px;background-color: rgb(172, 97, 60);\"></td><td title=\"Index: [0, 3]&#10;Color: (107, 163, 214)\" style=\"width: 100px; height: 100px;background-color: rgb(107, 163, 214);\"></td><td title=\"Index: [0, 4]&#10;Color: (234, 107, 115)\" style=\"width: 100px; height: 100px;background-color: rgb(234, 107, 115);\"></td><td title=\"Index: [0, 5]&#10;Color: (233, 195, 155)\" style=\"width: 100px; height: 100px;background-color: rgb(233, 195, 155);\"></td></tr></tbody></table>"
       ],
       "metadata": {},
       "output_type": "display_data",
       "text": [
        "<IPython.core.display.HTML at 0x50a6d90>"
       ]
      },
      {
       "output_type": "stream",
       "stream": "stdout",
       "text": [
        "Blue-Red 6\n"
       ]
      },
      {
       "html": [
        "<style type=\"text/css\">table.blockgrid {border: none;} .blockgrid tr {border: none;} .blockgrid td {padding: 0px;} #blocks91907d2f-f92f-45d1-af87-956065259c21 td {border: 1px solid white;}</style><table id=\"blocks91907d2f-f92f-45d1-af87-956065259c21\" class=\"blockgrid\"><tbody><tr><td title=\"Index: [0, 0]&#10;Color: (0, 107, 164)\" style=\"width: 100px; height: 100px;background-color: rgb(0, 107, 164);\"></td><td title=\"Index: [0, 1]&#10;Color: (255, 128, 14)\" style=\"width: 100px; height: 100px;background-color: rgb(255, 128, 14);\"></td><td title=\"Index: [0, 2]&#10;Color: (171, 171, 171)\" style=\"width: 100px; height: 100px;background-color: rgb(171, 171, 171);\"></td><td title=\"Index: [0, 3]&#10;Color: (89, 89, 89)\" style=\"width: 100px; height: 100px;background-color: rgb(89, 89, 89);\"></td><td title=\"Index: [0, 4]&#10;Color: (95, 158, 209)\" style=\"width: 100px; height: 100px;background-color: rgb(95, 158, 209);\"></td><td title=\"Index: [0, 5]&#10;Color: (200, 82, 0)\" style=\"width: 100px; height: 100px;background-color: rgb(200, 82, 0);\"></td><td title=\"Index: [0, 6]&#10;Color: (137, 137, 137)\" style=\"width: 100px; height: 100px;background-color: rgb(137, 137, 137);\"></td><td title=\"Index: [0, 7]&#10;Color: (162, 200, 236)\" style=\"width: 100px; height: 100px;background-color: rgb(162, 200, 236);\"></td><td title=\"Index: [0, 8]&#10;Color: (255, 188, 121)\" style=\"width: 100px; height: 100px;background-color: rgb(255, 188, 121);\"></td><td title=\"Index: [0, 9]&#10;Color: (207, 207, 207)\" style=\"width: 100px; height: 100px;background-color: rgb(207, 207, 207);\"></td></tr></tbody></table>"
       ],
       "metadata": {},
       "output_type": "display_data",
       "text": [
        "<IPython.core.display.HTML at 0x50a6cd0>"
       ]
      },
      {
       "output_type": "stream",
       "stream": "stdout",
       "text": [
        "Color Blind 10\n"
       ]
      },
      {
       "html": [
        "<style type=\"text/css\">table.blockgrid {border: none;} .blockgrid tr {border: none;} .blockgrid td {padding: 0px;} #blocks4da531d8-7f46-44d1-8dec-062e0429fbfe td {border: 1px solid white;}</style><table id=\"blocks4da531d8-7f46-44d1-8dec-062e0429fbfe\" class=\"blockgrid\"><tbody><tr><td title=\"Index: [0, 0]&#10;Color: (96, 99, 106)\" style=\"width: 100px; height: 100px;background-color: rgb(96, 99, 106);\"></td><td title=\"Index: [0, 1]&#10;Color: (165, 172, 175)\" style=\"width: 100px; height: 100px;background-color: rgb(165, 172, 175);\"></td><td title=\"Index: [0, 2]&#10;Color: (65, 68, 81)\" style=\"width: 100px; height: 100px;background-color: rgb(65, 68, 81);\"></td><td title=\"Index: [0, 3]&#10;Color: (143, 135, 130)\" style=\"width: 100px; height: 100px;background-color: rgb(143, 135, 130);\"></td><td title=\"Index: [0, 4]&#10;Color: (207, 207, 207)\" style=\"width: 100px; height: 100px;background-color: rgb(207, 207, 207);\"></td></tr></tbody></table>"
       ],
       "metadata": {},
       "output_type": "display_data",
       "text": [
        "<IPython.core.display.HTML at 0x50a6e50>"
       ]
      },
      {
       "output_type": "stream",
       "stream": "stdout",
       "text": [
        "Gray 5\n"
       ]
      },
      {
       "html": [
        "<style type=\"text/css\">table.blockgrid {border: none;} .blockgrid tr {border: none;} .blockgrid td {padding: 0px;} #blocksdeb8b6dc-d12e-4e40-8474-c54c44691acf td {border: 1px solid white;}</style><table id=\"blocksdeb8b6dc-d12e-4e40-8474-c54c44691acf\" class=\"blockgrid\"><tbody><tr><td title=\"Index: [0, 0]&#10;Color: (50, 162, 81)\" style=\"width: 100px; height: 100px;background-color: rgb(50, 162, 81);\"></td><td title=\"Index: [0, 1]&#10;Color: (172, 217, 141)\" style=\"width: 100px; height: 100px;background-color: rgb(172, 217, 141);\"></td><td title=\"Index: [0, 2]&#10;Color: (255, 127, 15)\" style=\"width: 100px; height: 100px;background-color: rgb(255, 127, 15);\"></td><td title=\"Index: [0, 3]&#10;Color: (255, 185, 119)\" style=\"width: 100px; height: 100px;background-color: rgb(255, 185, 119);\"></td><td title=\"Index: [0, 4]&#10;Color: (60, 183, 204)\" style=\"width: 100px; height: 100px;background-color: rgb(60, 183, 204);\"></td><td title=\"Index: [0, 5]&#10;Color: (152, 217, 228)\" style=\"width: 100px; height: 100px;background-color: rgb(152, 217, 228);\"></td><td title=\"Index: [0, 6]&#10;Color: (184, 90, 13)\" style=\"width: 100px; height: 100px;background-color: rgb(184, 90, 13);\"></td><td title=\"Index: [0, 7]&#10;Color: (255, 217, 74)\" style=\"width: 100px; height: 100px;background-color: rgb(255, 217, 74);\"></td><td title=\"Index: [0, 8]&#10;Color: (57, 115, 124)\" style=\"width: 100px; height: 100px;background-color: rgb(57, 115, 124);\"></td><td title=\"Index: [0, 9]&#10;Color: (134, 180, 169)\" style=\"width: 100px; height: 100px;background-color: rgb(134, 180, 169);\"></td><td title=\"Index: [0, 10]&#10;Color: (130, 133, 59)\" style=\"width: 100px; height: 100px;background-color: rgb(130, 133, 59);\"></td><td title=\"Index: [0, 11]&#10;Color: (204, 201, 77)\" style=\"width: 100px; height: 100px;background-color: rgb(204, 201, 77);\"></td></tr></tbody></table>"
       ],
       "metadata": {},
       "output_type": "display_data",
       "text": [
        "<IPython.core.display.HTML at 0x50a6f50>"
       ]
      },
      {
       "output_type": "stream",
       "stream": "stdout",
       "text": [
        "Green-Orange 12\n"
       ]
      },
      {
       "html": [
        "<style type=\"text/css\">table.blockgrid {border: none;} .blockgrid tr {border: none;} .blockgrid td {padding: 0px;} #blocks35db9841-ab1e-4c46-abc2-38157df3eb6c td {border: 1px solid white;}</style><table id=\"blocks35db9841-ab1e-4c46-abc2-38157df3eb6c\" class=\"blockgrid\"><tbody><tr><td title=\"Index: [0, 0]&#10;Color: (50, 162, 81)\" style=\"width: 100px; height: 100px;background-color: rgb(50, 162, 81);\"></td><td title=\"Index: [0, 1]&#10;Color: (255, 127, 15)\" style=\"width: 100px; height: 100px;background-color: rgb(255, 127, 15);\"></td><td title=\"Index: [0, 2]&#10;Color: (60, 183, 204)\" style=\"width: 100px; height: 100px;background-color: rgb(60, 183, 204);\"></td><td title=\"Index: [0, 3]&#10;Color: (255, 217, 74)\" style=\"width: 100px; height: 100px;background-color: rgb(255, 217, 74);\"></td><td title=\"Index: [0, 4]&#10;Color: (57, 115, 124)\" style=\"width: 100px; height: 100px;background-color: rgb(57, 115, 124);\"></td><td title=\"Index: [0, 5]&#10;Color: (184, 90, 13)\" style=\"width: 100px; height: 100px;background-color: rgb(184, 90, 13);\"></td></tr></tbody></table>"
       ],
       "metadata": {},
       "output_type": "display_data",
       "text": [
        "<IPython.core.display.HTML at 0x50a6f10>"
       ]
      },
      {
       "output_type": "stream",
       "stream": "stdout",
       "text": [
        "Green-Orange 6\n"
       ]
      },
      {
       "html": [
        "<style type=\"text/css\">table.blockgrid {border: none;} .blockgrid tr {border: none;} .blockgrid td {padding: 0px;} #blocksdf572816-6cb0-47f4-af1a-6588d207cfae td {border: 1px solid white;}</style><table id=\"blocksdf572816-6cb0-47f4-af1a-6588d207cfae\" class=\"blockgrid\"><tbody><tr><td title=\"Index: [0, 0]&#10;Color: (123, 102, 210)\" style=\"width: 100px; height: 100px;background-color: rgb(123, 102, 210);\"></td><td title=\"Index: [0, 1]&#10;Color: (166, 153, 232)\" style=\"width: 100px; height: 100px;background-color: rgb(166, 153, 232);\"></td><td title=\"Index: [0, 2]&#10;Color: (220, 95, 189)\" style=\"width: 100px; height: 100px;background-color: rgb(220, 95, 189);\"></td><td title=\"Index: [0, 3]&#10;Color: (255, 192, 218)\" style=\"width: 100px; height: 100px;background-color: rgb(255, 192, 218);\"></td><td title=\"Index: [0, 4]&#10;Color: (95, 90, 65)\" style=\"width: 100px; height: 100px;background-color: rgb(95, 90, 65);\"></td><td title=\"Index: [0, 5]&#10;Color: (180, 177, 155)\" style=\"width: 100px; height: 100px;background-color: rgb(180, 177, 155);\"></td><td title=\"Index: [0, 6]&#10;Color: (153, 86, 136)\" style=\"width: 100px; height: 100px;background-color: rgb(153, 86, 136);\"></td><td title=\"Index: [0, 7]&#10;Color: (216, 152, 186)\" style=\"width: 100px; height: 100px;background-color: rgb(216, 152, 186);\"></td><td title=\"Index: [0, 8]&#10;Color: (171, 106, 213)\" style=\"width: 100px; height: 100px;background-color: rgb(171, 106, 213);\"></td><td title=\"Index: [0, 9]&#10;Color: (208, 152, 238)\" style=\"width: 100px; height: 100px;background-color: rgb(208, 152, 238);\"></td><td title=\"Index: [0, 10]&#10;Color: (139, 124, 110)\" style=\"width: 100px; height: 100px;background-color: rgb(139, 124, 110);\"></td><td title=\"Index: [0, 11]&#10;Color: (219, 212, 197)\" style=\"width: 100px; height: 100px;background-color: rgb(219, 212, 197);\"></td></tr></tbody></table>"
       ],
       "metadata": {},
       "output_type": "display_data",
       "text": [
        "<IPython.core.display.HTML at 0x50a6f90>"
       ]
      },
      {
       "output_type": "stream",
       "stream": "stdout",
       "text": [
        "Purple-Gray 12\n"
       ]
      },
      {
       "html": [
        "<style type=\"text/css\">table.blockgrid {border: none;} .blockgrid tr {border: none;} .blockgrid td {padding: 0px;} #blocksf6cd3f01-5cf4-4914-af51-b40ad9e2040a td {border: 1px solid white;}</style><table id=\"blocksf6cd3f01-5cf4-4914-af51-b40ad9e2040a\" class=\"blockgrid\"><tbody><tr><td title=\"Index: [0, 0]&#10;Color: (123, 102, 210)\" style=\"width: 100px; height: 100px;background-color: rgb(123, 102, 210);\"></td><td title=\"Index: [0, 1]&#10;Color: (220, 95, 189)\" style=\"width: 100px; height: 100px;background-color: rgb(220, 95, 189);\"></td><td title=\"Index: [0, 2]&#10;Color: (148, 145, 123)\" style=\"width: 100px; height: 100px;background-color: rgb(148, 145, 123);\"></td><td title=\"Index: [0, 3]&#10;Color: (153, 86, 136)\" style=\"width: 100px; height: 100px;background-color: rgb(153, 86, 136);\"></td><td title=\"Index: [0, 4]&#10;Color: (208, 152, 238)\" style=\"width: 100px; height: 100px;background-color: rgb(208, 152, 238);\"></td><td title=\"Index: [0, 5]&#10;Color: (215, 213, 197)\" style=\"width: 100px; height: 100px;background-color: rgb(215, 213, 197);\"></td></tr></tbody></table>"
       ],
       "metadata": {},
       "output_type": "display_data",
       "text": [
        "<IPython.core.display.HTML at 0x50a6d50>"
       ]
      },
      {
       "output_type": "stream",
       "stream": "stdout",
       "text": [
        "Purple-Gray 6\n"
       ]
      },
      {
       "html": [
        "<style type=\"text/css\">table.blockgrid {border: none;} .blockgrid tr {border: none;} .blockgrid td {padding: 0px;} #blocksca20c11f-ef2b-455a-85c6-49e90ca93bd5 td {border: 1px solid white;}</style><table id=\"blocksca20c11f-ef2b-455a-85c6-49e90ca93bd5\" class=\"blockgrid\"><tbody><tr><td title=\"Index: [0, 0]&#10;Color: (31, 119, 180)\" style=\"width: 100px; height: 100px;background-color: rgb(31, 119, 180);\"></td><td title=\"Index: [0, 1]&#10;Color: (255, 127, 14)\" style=\"width: 100px; height: 100px;background-color: rgb(255, 127, 14);\"></td><td title=\"Index: [0, 2]&#10;Color: (44, 160, 44)\" style=\"width: 100px; height: 100px;background-color: rgb(44, 160, 44);\"></td><td title=\"Index: [0, 3]&#10;Color: (214, 39, 40)\" style=\"width: 100px; height: 100px;background-color: rgb(214, 39, 40);\"></td><td title=\"Index: [0, 4]&#10;Color: (148, 103, 189)\" style=\"width: 100px; height: 100px;background-color: rgb(148, 103, 189);\"></td><td title=\"Index: [0, 5]&#10;Color: (140, 86, 75)\" style=\"width: 100px; height: 100px;background-color: rgb(140, 86, 75);\"></td><td title=\"Index: [0, 6]&#10;Color: (227, 119, 194)\" style=\"width: 100px; height: 100px;background-color: rgb(227, 119, 194);\"></td><td title=\"Index: [0, 7]&#10;Color: (127, 127, 127)\" style=\"width: 100px; height: 100px;background-color: rgb(127, 127, 127);\"></td><td title=\"Index: [0, 8]&#10;Color: (188, 189, 34)\" style=\"width: 100px; height: 100px;background-color: rgb(188, 189, 34);\"></td><td title=\"Index: [0, 9]&#10;Color: (23, 190, 207)\" style=\"width: 100px; height: 100px;background-color: rgb(23, 190, 207);\"></td></tr></tbody></table>"
       ],
       "metadata": {},
       "output_type": "display_data",
       "text": [
        "<IPython.core.display.HTML at 0x50a6ed0>"
       ]
      },
      {
       "output_type": "stream",
       "stream": "stdout",
       "text": [
        "Tableau 10\n"
       ]
      },
      {
       "html": [
        "<style type=\"text/css\">table.blockgrid {border: none;} .blockgrid tr {border: none;} .blockgrid td {padding: 0px;} #blocksda0332fb-6e99-45bf-83ae-9120b27f8d56 td {border: 1px solid white;}</style><table id=\"blocksda0332fb-6e99-45bf-83ae-9120b27f8d56\" class=\"blockgrid\"><tbody><tr><td title=\"Index: [0, 0]&#10;Color: (174, 199, 232)\" style=\"width: 100px; height: 100px;background-color: rgb(174, 199, 232);\"></td><td title=\"Index: [0, 1]&#10;Color: (255, 187, 120)\" style=\"width: 100px; height: 100px;background-color: rgb(255, 187, 120);\"></td><td title=\"Index: [0, 2]&#10;Color: (152, 223, 138)\" style=\"width: 100px; height: 100px;background-color: rgb(152, 223, 138);\"></td><td title=\"Index: [0, 3]&#10;Color: (255, 152, 150)\" style=\"width: 100px; height: 100px;background-color: rgb(255, 152, 150);\"></td><td title=\"Index: [0, 4]&#10;Color: (197, 176, 213)\" style=\"width: 100px; height: 100px;background-color: rgb(197, 176, 213);\"></td><td title=\"Index: [0, 5]&#10;Color: (196, 156, 148)\" style=\"width: 100px; height: 100px;background-color: rgb(196, 156, 148);\"></td><td title=\"Index: [0, 6]&#10;Color: (247, 182, 210)\" style=\"width: 100px; height: 100px;background-color: rgb(247, 182, 210);\"></td><td title=\"Index: [0, 7]&#10;Color: (199, 199, 199)\" style=\"width: 100px; height: 100px;background-color: rgb(199, 199, 199);\"></td><td title=\"Index: [0, 8]&#10;Color: (219, 219, 141)\" style=\"width: 100px; height: 100px;background-color: rgb(219, 219, 141);\"></td><td title=\"Index: [0, 9]&#10;Color: (158, 218, 229)\" style=\"width: 100px; height: 100px;background-color: rgb(158, 218, 229);\"></td></tr></tbody></table>"
       ],
       "metadata": {},
       "output_type": "display_data",
       "text": [
        "<IPython.core.display.HTML at 0x50a6e90>"
       ]
      },
      {
       "output_type": "stream",
       "stream": "stdout",
       "text": [
        "Tableau 10 Light\n"
       ]
      },
      {
       "html": [
        "<style type=\"text/css\">table.blockgrid {border: none;} .blockgrid tr {border: none;} .blockgrid td {padding: 0px;} #blocksca560c29-d384-4aa6-9eb1-f4d009fbe836 td {border: 1px solid white;}</style><table id=\"blocksca560c29-d384-4aa6-9eb1-f4d009fbe836\" class=\"blockgrid\"><tbody><tr><td title=\"Index: [0, 0]&#10;Color: (114, 158, 206)\" style=\"width: 100px; height: 100px;background-color: rgb(114, 158, 206);\"></td><td title=\"Index: [0, 1]&#10;Color: (255, 158, 74)\" style=\"width: 100px; height: 100px;background-color: rgb(255, 158, 74);\"></td><td title=\"Index: [0, 2]&#10;Color: (103, 191, 92)\" style=\"width: 100px; height: 100px;background-color: rgb(103, 191, 92);\"></td><td title=\"Index: [0, 3]&#10;Color: (237, 102, 93)\" style=\"width: 100px; height: 100px;background-color: rgb(237, 102, 93);\"></td><td title=\"Index: [0, 4]&#10;Color: (173, 139, 201)\" style=\"width: 100px; height: 100px;background-color: rgb(173, 139, 201);\"></td><td title=\"Index: [0, 5]&#10;Color: (168, 120, 110)\" style=\"width: 100px; height: 100px;background-color: rgb(168, 120, 110);\"></td><td title=\"Index: [0, 6]&#10;Color: (237, 151, 202)\" style=\"width: 100px; height: 100px;background-color: rgb(237, 151, 202);\"></td><td title=\"Index: [0, 7]&#10;Color: (162, 162, 162)\" style=\"width: 100px; height: 100px;background-color: rgb(162, 162, 162);\"></td><td title=\"Index: [0, 8]&#10;Color: (205, 204, 93)\" style=\"width: 100px; height: 100px;background-color: rgb(205, 204, 93);\"></td><td title=\"Index: [0, 9]&#10;Color: (109, 204, 218)\" style=\"width: 100px; height: 100px;background-color: rgb(109, 204, 218);\"></td></tr></tbody></table>"
       ],
       "metadata": {},
       "output_type": "display_data",
       "text": [
        "<IPython.core.display.HTML at 0x50a6dd0>"
       ]
      },
      {
       "output_type": "stream",
       "stream": "stdout",
       "text": [
        "Tableau 10 Medium\n"
       ]
      },
      {
       "html": [
        "<style type=\"text/css\">table.blockgrid {border: none;} .blockgrid tr {border: none;} .blockgrid td {padding: 0px;} #blocksde2b7a0e-388b-47e3-9014-4fcadda027b4 td {border: 1px solid white;}</style><table id=\"blocksde2b7a0e-388b-47e3-9014-4fcadda027b4\" class=\"blockgrid\"><tbody><tr><td title=\"Index: [0, 0]&#10;Color: (31, 119, 180)\" style=\"width: 100px; height: 100px;background-color: rgb(31, 119, 180);\"></td><td title=\"Index: [0, 1]&#10;Color: (174, 199, 232)\" style=\"width: 100px; height: 100px;background-color: rgb(174, 199, 232);\"></td><td title=\"Index: [0, 2]&#10;Color: (255, 127, 14)\" style=\"width: 100px; height: 100px;background-color: rgb(255, 127, 14);\"></td><td title=\"Index: [0, 3]&#10;Color: (255, 187, 120)\" style=\"width: 100px; height: 100px;background-color: rgb(255, 187, 120);\"></td><td title=\"Index: [0, 4]&#10;Color: (44, 160, 44)\" style=\"width: 100px; height: 100px;background-color: rgb(44, 160, 44);\"></td><td title=\"Index: [0, 5]&#10;Color: (152, 223, 138)\" style=\"width: 100px; height: 100px;background-color: rgb(152, 223, 138);\"></td><td title=\"Index: [0, 6]&#10;Color: (214, 39, 40)\" style=\"width: 100px; height: 100px;background-color: rgb(214, 39, 40);\"></td><td title=\"Index: [0, 7]&#10;Color: (255, 152, 150)\" style=\"width: 100px; height: 100px;background-color: rgb(255, 152, 150);\"></td><td title=\"Index: [0, 8]&#10;Color: (148, 103, 189)\" style=\"width: 100px; height: 100px;background-color: rgb(148, 103, 189);\"></td><td title=\"Index: [0, 9]&#10;Color: (197, 176, 213)\" style=\"width: 100px; height: 100px;background-color: rgb(197, 176, 213);\"></td><td title=\"Index: [0, 10]&#10;Color: (140, 86, 75)\" style=\"width: 100px; height: 100px;background-color: rgb(140, 86, 75);\"></td><td title=\"Index: [0, 11]&#10;Color: (196, 156, 148)\" style=\"width: 100px; height: 100px;background-color: rgb(196, 156, 148);\"></td><td title=\"Index: [0, 12]&#10;Color: (227, 119, 194)\" style=\"width: 100px; height: 100px;background-color: rgb(227, 119, 194);\"></td><td title=\"Index: [0, 13]&#10;Color: (247, 182, 210)\" style=\"width: 100px; height: 100px;background-color: rgb(247, 182, 210);\"></td><td title=\"Index: [0, 14]&#10;Color: (127, 127, 127)\" style=\"width: 100px; height: 100px;background-color: rgb(127, 127, 127);\"></td><td title=\"Index: [0, 15]&#10;Color: (199, 199, 199)\" style=\"width: 100px; height: 100px;background-color: rgb(199, 199, 199);\"></td><td title=\"Index: [0, 16]&#10;Color: (188, 189, 34)\" style=\"width: 100px; height: 100px;background-color: rgb(188, 189, 34);\"></td><td title=\"Index: [0, 17]&#10;Color: (219, 219, 141)\" style=\"width: 100px; height: 100px;background-color: rgb(219, 219, 141);\"></td><td title=\"Index: [0, 18]&#10;Color: (23, 190, 207)\" style=\"width: 100px; height: 100px;background-color: rgb(23, 190, 207);\"></td><td title=\"Index: [0, 19]&#10;Color: (158, 218, 229)\" style=\"width: 100px; height: 100px;background-color: rgb(158, 218, 229);\"></td></tr></tbody></table>"
       ],
       "metadata": {},
       "output_type": "display_data",
       "text": [
        "<IPython.core.display.HTML at 0x50a6e10>"
       ]
      },
      {
       "output_type": "stream",
       "stream": "stdout",
       "text": [
        "Tableau 20\n"
       ]
      },
      {
       "html": [
        "<style type=\"text/css\">table.blockgrid {border: none;} .blockgrid tr {border: none;} .blockgrid td {padding: 0px;} #blocks3a04826e-3a52-443a-82dd-175f63df2e8a td {border: 1px solid white;}</style><table id=\"blocks3a04826e-3a52-443a-82dd-175f63df2e8a\" class=\"blockgrid\"><tbody><tr><td title=\"Index: [0, 0]&#10;Color: (177, 3, 24)\" style=\"width: 100px; height: 100px;background-color: rgb(177, 3, 24);\"></td><td title=\"Index: [0, 1]&#10;Color: (219, 161, 58)\" style=\"width: 100px; height: 100px;background-color: rgb(219, 161, 58);\"></td><td title=\"Index: [0, 2]&#10;Color: (48, 147, 67)\" style=\"width: 100px; height: 100px;background-color: rgb(48, 147, 67);\"></td><td title=\"Index: [0, 3]&#10;Color: (216, 37, 38)\" style=\"width: 100px; height: 100px;background-color: rgb(216, 37, 38);\"></td><td title=\"Index: [0, 4]&#10;Color: (255, 193, 86)\" style=\"width: 100px; height: 100px;background-color: rgb(255, 193, 86);\"></td><td title=\"Index: [0, 5]&#10;Color: (105, 183, 100)\" style=\"width: 100px; height: 100px;background-color: rgb(105, 183, 100);\"></td><td title=\"Index: [0, 6]&#10;Color: (242, 108, 100)\" style=\"width: 100px; height: 100px;background-color: rgb(242, 108, 100);\"></td><td title=\"Index: [0, 7]&#10;Color: (255, 221, 113)\" style=\"width: 100px; height: 100px;background-color: rgb(255, 221, 113);\"></td><td title=\"Index: [0, 8]&#10;Color: (159, 205, 153)\" style=\"width: 100px; height: 100px;background-color: rgb(159, 205, 153);\"></td></tr></tbody></table>"
       ],
       "metadata": {},
       "output_type": "display_data",
       "text": [
        "<IPython.core.display.HTML at 0x50b8590>"
       ]
      },
      {
       "output_type": "stream",
       "stream": "stdout",
       "text": [
        "Traffic Light\n"
       ]
      }
     ],
     "prompt_number": 6
    },
    {
     "cell_type": "heading",
     "level": 1,
     "metadata": {},
     "source": [
      "Wes Anderson"
     ]
    },
    {
     "cell_type": "markdown",
     "metadata": {},
     "source": [
      "Via http://wesandersonpalettes.tumblr.com/."
     ]
    },
    {
     "cell_type": "code",
     "collapsed": false,
     "input": [
      "display_maps(wesanderson)"
     ],
     "language": "python",
     "metadata": {},
     "outputs": [
      {
       "html": [
        "<style type=\"text/css\">table.blockgrid {border: none;} .blockgrid tr {border: none;} .blockgrid td {padding: 0px;} #blocks3fc2c8ab-fb94-414e-8ab9-3d17f2bcc605 td {border: 1px solid white;}</style><table id=\"blocks3fc2c8ab-fb94-414e-8ab9-3d17f2bcc605\" class=\"blockgrid\"><tbody><tr><td title=\"Index: [0, 0]&#10;Color: (209, 170, 0)\" style=\"width: 100px; height: 100px;background-color: rgb(209, 170, 0);\"></td><td title=\"Index: [0, 1]&#10;Color: (8, 50, 19)\" style=\"width: 100px; height: 100px;background-color: rgb(8, 50, 19);\"></td><td title=\"Index: [0, 2]&#10;Color: (146, 148, 96)\" style=\"width: 100px; height: 100px;background-color: rgb(146, 148, 96);\"></td><td title=\"Index: [0, 3]&#10;Color: (111, 152, 121)\" style=\"width: 100px; height: 100px;background-color: rgb(111, 152, 121);\"></td><td title=\"Index: [0, 4]&#10;Color: (132, 33, 17)\" style=\"width: 100px; height: 100px;background-color: rgb(132, 33, 17);\"></td></tr></tbody></table>"
       ],
       "metadata": {},
       "output_type": "display_data",
       "text": [
        "<IPython.core.display.HTML at 0x4b38190>"
       ]
      },
      {
       "output_type": "stream",
       "stream": "stdout",
       "text": [
        "Cavalcanti\n"
       ]
      },
      {
       "html": [
        "<style type=\"text/css\">table.blockgrid {border: none;} .blockgrid tr {border: none;} .blockgrid td {padding: 0px;} #blocks456fd72c-0bbb-4bee-b633-5160c9cfbd06 td {border: 1px solid white;}</style><table id=\"blocks456fd72c-0bbb-4bee-b633-5160c9cfbd06\" class=\"blockgrid\"><tbody><tr><td title=\"Index: [0, 0]&#10;Color: (53, 82, 67)\" style=\"width: 100px; height: 100px;background-color: rgb(53, 82, 67);\"></td><td title=\"Index: [0, 1]&#10;Color: (254, 202, 73)\" style=\"width: 100px; height: 100px;background-color: rgb(254, 202, 73);\"></td><td title=\"Index: [0, 2]&#10;Color: (201, 213, 213)\" style=\"width: 100px; height: 100px;background-color: rgb(201, 213, 213);\"></td><td title=\"Index: [0, 3]&#10;Color: (187, 162, 137)\" style=\"width: 100px; height: 100px;background-color: rgb(187, 162, 137);\"></td></tr></tbody></table>"
       ],
       "metadata": {},
       "output_type": "display_data",
       "text": [
        "<IPython.core.display.HTML at 0x4b02050>"
       ]
      },
      {
       "output_type": "stream",
       "stream": "stdout",
       "text": [
        "Chevalier\n"
       ]
      },
      {
       "html": [
        "<style type=\"text/css\">table.blockgrid {border: none;} .blockgrid tr {border: none;} .blockgrid td {padding: 0px;} #blocks29106b4b-296d-41af-9d08-93448f983542 td {border: 1px solid white;}</style><table id=\"blocks29106b4b-296d-41af-9d08-93448f983542\" class=\"blockgrid\"><tbody><tr><td title=\"Index: [0, 0]&#10;Color: (158, 151, 151)\" style=\"width: 100px; height: 100px;background-color: rgb(158, 151, 151);\"></td><td title=\"Index: [0, 1]&#10;Color: (194, 142, 0)\" style=\"width: 100px; height: 100px;background-color: rgb(194, 142, 0);\"></td><td title=\"Index: [0, 2]&#10;Color: (131, 102, 89)\" style=\"width: 100px; height: 100px;background-color: rgb(131, 102, 89);\"></td><td title=\"Index: [0, 3]&#10;Color: (156, 90, 51)\" style=\"width: 100px; height: 100px;background-color: rgb(156, 90, 51);\"></td></tr></tbody></table>"
       ],
       "metadata": {},
       "output_type": "display_data",
       "text": [
        "<IPython.core.display.HTML at 0x4b02290>"
       ]
      },
      {
       "output_type": "stream",
       "stream": "stdout",
       "text": [
        "Darjeeling1\n"
       ]
      },
      {
       "html": [
        "<style type=\"text/css\">table.blockgrid {border: none;} .blockgrid tr {border: none;} .blockgrid td {padding: 0px;} #blocks796a5759-a412-4f16-b2c7-7ee628563a80 td {border: 1px solid white;}</style><table id=\"blocks796a5759-a412-4f16-b2c7-7ee628563a80\" class=\"blockgrid\"><tbody><tr><td title=\"Index: [0, 0]&#10;Color: (249, 219, 32)\" style=\"width: 100px; height: 100px;background-color: rgb(249, 219, 32);\"></td><td title=\"Index: [0, 1]&#10;Color: (147, 75, 78)\" style=\"width: 100px; height: 100px;background-color: rgb(147, 75, 78);\"></td><td title=\"Index: [0, 2]&#10;Color: (66, 23, 13)\" style=\"width: 100px; height: 100px;background-color: rgb(66, 23, 13);\"></td><td title=\"Index: [0, 3]&#10;Color: (194, 121, 34)\" style=\"width: 100px; height: 100px;background-color: rgb(194, 121, 34);\"></td><td title=\"Index: [0, 4]&#10;Color: (226, 200, 167)\" style=\"width: 100px; height: 100px;background-color: rgb(226, 200, 167);\"></td></tr></tbody></table>"
       ],
       "metadata": {},
       "output_type": "display_data",
       "text": [
        "<IPython.core.display.HTML at 0x4b02090>"
       ]
      },
      {
       "output_type": "stream",
       "stream": "stdout",
       "text": [
        "FantasticFox1\n"
       ]
      },
      {
       "html": [
        "<style type=\"text/css\">table.blockgrid {border: none;} .blockgrid tr {border: none;} .blockgrid td {padding: 0px;} #blocks76978b40-abb2-4aea-9ee3-caf43232090d td {border: 1px solid white;}</style><table id=\"blocks76978b40-abb2-4aea-9ee3-caf43232090d\" class=\"blockgrid\"><tbody><tr><td title=\"Index: [0, 0]&#10;Color: (238, 174, 101)\" style=\"width: 100px; height: 100px;background-color: rgb(238, 174, 101);\"></td><td title=\"Index: [0, 1]&#10;Color: (251, 79, 85)\" style=\"width: 100px; height: 100px;background-color: rgb(251, 79, 85);\"></td><td title=\"Index: [0, 2]&#10;Color: (72, 19, 19)\" style=\"width: 100px; height: 100px;background-color: rgb(72, 19, 19);\"></td><td title=\"Index: [0, 3]&#10;Color: (204, 95, 39)\" style=\"width: 100px; height: 100px;background-color: rgb(204, 95, 39);\"></td></tr></tbody></table>"
       ],
       "metadata": {},
       "output_type": "display_data",
       "text": [
        "<IPython.core.display.HTML at 0x4b02590>"
       ]
      },
      {
       "output_type": "stream",
       "stream": "stdout",
       "text": [
        "GrandBudapest1\n"
       ]
      },
      {
       "html": [
        "<style type=\"text/css\">table.blockgrid {border: none;} .blockgrid tr {border: none;} .blockgrid td {padding: 0px;} #blocks4e73ff15-daed-4805-b0b5-143388e9ca69 td {border: 1px solid white;}</style><table id=\"blocks4e73ff15-daed-4805-b0b5-143388e9ca69\" class=\"blockgrid\"><tbody><tr><td title=\"Index: [0, 0]&#10;Color: (137, 119, 18)\" style=\"width: 100px; height: 100px;background-color: rgb(137, 119, 18);\"></td><td title=\"Index: [0, 1]&#10;Color: (243, 194, 164)\" style=\"width: 100px; height: 100px;background-color: rgb(243, 194, 164);\"></td><td title=\"Index: [0, 2]&#10;Color: (246, 159, 151)\" style=\"width: 100px; height: 100px;background-color: rgb(246, 159, 151);\"></td><td title=\"Index: [0, 3]&#10;Color: (254, 214, 140)\" style=\"width: 100px; height: 100px;background-color: rgb(254, 214, 140);\"></td><td title=\"Index: [0, 4]&#10;Color: (98, 144, 117)\" style=\"width: 100px; height: 100px;background-color: rgb(98, 144, 117);\"></td></tr></tbody></table>"
       ],
       "metadata": {},
       "output_type": "display_data",
       "text": [
        "<IPython.core.display.HTML at 0x4b021d0>"
       ]
      },
      {
       "output_type": "stream",
       "stream": "stdout",
       "text": [
        "Margot1\n"
       ]
      },
      {
       "html": [
        "<style type=\"text/css\">table.blockgrid {border: none;} .blockgrid tr {border: none;} .blockgrid td {padding: 0px;} #blockscc4e4134-991a-428a-853a-815f7c1f8df1 td {border: 1px solid white;}</style><table id=\"blockscc4e4134-991a-428a-853a-815f7c1f8df1\" class=\"blockgrid\"><tbody><tr><td title=\"Index: [0, 0]&#10;Color: (118, 139, 147)\" style=\"width: 100px; height: 100px;background-color: rgb(118, 139, 147);\"></td><td title=\"Index: [0, 1]&#10;Color: (188, 36, 15)\" style=\"width: 100px; height: 100px;background-color: rgb(188, 36, 15);\"></td><td title=\"Index: [0, 2]&#10;Color: (249, 236, 197)\" style=\"width: 100px; height: 100px;background-color: rgb(249, 236, 197);\"></td><td title=\"Index: [0, 3]&#10;Color: (212, 115, 41)\" style=\"width: 100px; height: 100px;background-color: rgb(212, 115, 41);\"></td></tr></tbody></table>"
       ],
       "metadata": {},
       "output_type": "display_data",
       "text": [
        "<IPython.core.display.HTML at 0x4b02110>"
       ]
      },
      {
       "output_type": "stream",
       "stream": "stdout",
       "text": [
        "Margot2\n"
       ]
      },
      {
       "html": [
        "<style type=\"text/css\">table.blockgrid {border: none;} .blockgrid tr {border: none;} .blockgrid td {padding: 0px;} #blocks0e8f54a8-de3d-40a7-8bef-df25aac6c973 td {border: 1px solid white;}</style><table id=\"blocks0e8f54a8-de3d-40a7-8bef-df25aac6c973\" class=\"blockgrid\"><tbody><tr><td title=\"Index: [0, 0]&#10;Color: (222, 141, 185)\" style=\"width: 100px; height: 100px;background-color: rgb(222, 141, 185);\"></td><td title=\"Index: [0, 1]&#10;Color: (184, 192, 246)\" style=\"width: 100px; height: 100px;background-color: rgb(184, 192, 246);\"></td><td title=\"Index: [0, 2]&#10;Color: (207, 147, 135)\" style=\"width: 100px; height: 100px;background-color: rgb(207, 147, 135);\"></td><td title=\"Index: [0, 3]&#10;Color: (92, 128, 204)\" style=\"width: 100px; height: 100px;background-color: rgb(92, 128, 204);\"></td></tr></tbody></table>"
       ],
       "metadata": {},
       "output_type": "display_data",
       "text": [
        "<IPython.core.display.HTML at 0x4b02510>"
       ]
      },
      {
       "output_type": "stream",
       "stream": "stdout",
       "text": [
        "Mendl\n"
       ]
      },
      {
       "html": [
        "<style type=\"text/css\">table.blockgrid {border: none;} .blockgrid tr {border: none;} .blockgrid td {padding: 0px;} #blocks6e655c3f-1a2c-44cd-b132-56543cadd07f td {border: 1px solid white;}</style><table id=\"blocks6e655c3f-1a2c-44cd-b132-56543cadd07f\" class=\"blockgrid\"><tbody><tr><td title=\"Index: [0, 0]&#10;Color: (114, 202, 221)\" style=\"width: 100px; height: 100px;background-color: rgb(114, 202, 221);\"></td><td title=\"Index: [0, 1]&#10;Color: (240, 165, 176)\" style=\"width: 100px; height: 100px;background-color: rgb(240, 165, 176);\"></td><td title=\"Index: [0, 2]&#10;Color: (140, 133, 54)\" style=\"width: 100px; height: 100px;background-color: rgb(140, 133, 54);\"></td><td title=\"Index: [0, 3]&#10;Color: (195, 180, 119)\" style=\"width: 100px; height: 100px;background-color: rgb(195, 180, 119);\"></td><td title=\"Index: [0, 4]&#10;Color: (250, 208, 99)\" style=\"width: 100px; height: 100px;background-color: rgb(250, 208, 99);\"></td></tr></tbody></table>"
       ],
       "metadata": {},
       "output_type": "display_data",
       "text": [
        "<IPython.core.display.HTML at 0x4b023d0>"
       ]
      },
      {
       "output_type": "stream",
       "stream": "stdout",
       "text": [
        "Moonrise1\n"
       ]
      },
      {
       "html": [
        "<style type=\"text/css\">table.blockgrid {border: none;} .blockgrid tr {border: none;} .blockgrid td {padding: 0px;} #blocksa4be542c-db16-4e6b-a67e-87b7dc4669d9 td {border: 1px solid white;}</style><table id=\"blocksa4be542c-db16-4e6b-a67e-87b7dc4669d9\" class=\"blockgrid\"><tbody><tr><td title=\"Index: [0, 0]&#10;Color: (102, 124, 116)\" style=\"width: 100px; height: 100px;background-color: rgb(102, 124, 116);\"></td><td title=\"Index: [0, 1]&#10;Color: (181, 106, 39)\" style=\"width: 100px; height: 100px;background-color: rgb(181, 106, 39);\"></td><td title=\"Index: [0, 2]&#10;Color: (194, 186, 124)\" style=\"width: 100px; height: 100px;background-color: rgb(194, 186, 124);\"></td><td title=\"Index: [0, 3]&#10;Color: (31, 25, 23)\" style=\"width: 100px; height: 100px;background-color: rgb(31, 25, 23);\"></td></tr></tbody></table>"
       ],
       "metadata": {},
       "output_type": "display_data",
       "text": [
        "<IPython.core.display.HTML at 0x4b02610>"
       ]
      },
      {
       "output_type": "stream",
       "stream": "stdout",
       "text": [
        "Moonrise2\n"
       ]
      },
      {
       "html": [
        "<style type=\"text/css\">table.blockgrid {border: none;} .blockgrid tr {border: none;} .blockgrid td {padding: 0px;} #blocksca88aec6-8b95-4c0f-af44-137174313a2a td {border: 1px solid white;}</style><table id=\"blocksca88aec6-8b95-4c0f-af44-137174313a2a\" class=\"blockgrid\"><tbody><tr><td title=\"Index: [0, 0]&#10;Color: (242, 218, 82)\" style=\"width: 100px; height: 100px;background-color: rgb(242, 218, 82);\"></td><td title=\"Index: [0, 1]&#10;Color: (197, 157, 0)\" style=\"width: 100px; height: 100px;background-color: rgb(197, 157, 0);\"></td><td title=\"Index: [0, 2]&#10;Color: (203, 203, 201)\" style=\"width: 100px; height: 100px;background-color: rgb(203, 203, 201);\"></td><td title=\"Index: [0, 3]&#10;Color: (27, 30, 20)\" style=\"width: 100px; height: 100px;background-color: rgb(27, 30, 20);\"></td></tr></tbody></table>"
       ],
       "metadata": {},
       "output_type": "display_data",
       "text": [
        "<IPython.core.display.HTML at 0x4b02190>"
       ]
      },
      {
       "output_type": "stream",
       "stream": "stdout",
       "text": [
        "Moonrise3\n"
       ]
      },
      {
       "html": [
        "<style type=\"text/css\">table.blockgrid {border: none;} .blockgrid tr {border: none;} .blockgrid td {padding: 0px;} #blocksd2e2344a-be95-4c88-856b-4c91a62055fc td {border: 1px solid white;}</style><table id=\"blocksd2e2344a-be95-4c88-856b-4c91a62055fc\" class=\"blockgrid\"><tbody><tr><td title=\"Index: [0, 0]&#10;Color: (123, 135, 97)\" style=\"width: 100px; height: 100px;background-color: rgb(123, 135, 97);\"></td><td title=\"Index: [0, 1]&#10;Color: (193, 166, 46)\" style=\"width: 100px; height: 100px;background-color: rgb(193, 166, 46);\"></td><td title=\"Index: [0, 2]&#10;Color: (79, 143, 107)\" style=\"width: 100px; height: 100px;background-color: rgb(79, 143, 107);\"></td><td title=\"Index: [0, 3]&#10;Color: (59, 69, 60)\" style=\"width: 100px; height: 100px;background-color: rgb(59, 69, 60);\"></td><td title=\"Index: [0, 4]&#10;Color: (159, 50, 8)\" style=\"width: 100px; height: 100px;background-color: rgb(159, 50, 8);\"></td></tr></tbody></table>"
       ],
       "metadata": {},
       "output_type": "display_data",
       "text": [
        "<IPython.core.display.HTML at 0x4b02350>"
       ]
      },
      {
       "output_type": "stream",
       "stream": "stdout",
       "text": [
        "Moonrise4\n"
       ]
      },
      {
       "html": [
        "<style type=\"text/css\">table.blockgrid {border: none;} .blockgrid tr {border: none;} .blockgrid td {padding: 0px;} #blocks01777c76-ec03-4257-91d7-ce35d1b89a73 td {border: 1px solid white;}</style><table id=\"blocks01777c76-ec03-4257-91d7-ce35d1b89a73\" class=\"blockgrid\"><tbody><tr><td title=\"Index: [0, 0]&#10;Color: (121, 164, 58)\" style=\"width: 100px; height: 100px;background-color: rgb(121, 164, 58);\"></td><td title=\"Index: [0, 1]&#10;Color: (242, 214, 175)\" style=\"width: 100px; height: 100px;background-color: rgb(242, 214, 175);\"></td><td title=\"Index: [0, 2]&#10;Color: (94, 72, 41)\" style=\"width: 100px; height: 100px;background-color: rgb(94, 72, 41);\"></td><td title=\"Index: [0, 3]&#10;Color: (24, 20, 1)\" style=\"width: 100px; height: 100px;background-color: rgb(24, 20, 1);\"></td></tr></tbody></table>"
       ],
       "metadata": {},
       "output_type": "display_data",
       "text": [
        "<IPython.core.display.HTML at 0x4b02410>"
       ]
      },
      {
       "output_type": "stream",
       "stream": "stdout",
       "text": [
        "Royal1\n"
       ]
      },
      {
       "html": [
        "<style type=\"text/css\">table.blockgrid {border: none;} .blockgrid tr {border: none;} .blockgrid td {padding: 0px;} #blocks471d3e5a-3b3a-45f3-acc1-3ab3d4b2e49a td {border: 1px solid white;}</style><table id=\"blocks471d3e5a-3b3a-45f3-acc1-3ab3d4b2e49a\" class=\"blockgrid\"><tbody><tr><td title=\"Index: [0, 0]&#10;Color: (0, 153, 230)\" style=\"width: 100px; height: 100px;background-color: rgb(0, 153, 230);\"></td><td title=\"Index: [0, 1]&#10;Color: (18, 37, 90)\" style=\"width: 100px; height: 100px;background-color: rgb(18, 37, 90);\"></td><td title=\"Index: [0, 2]&#10;Color: (242, 56, 20)\" style=\"width: 100px; height: 100px;background-color: rgb(242, 56, 20);\"></td><td title=\"Index: [0, 3]&#10;Color: (223, 183, 139)\" style=\"width: 100px; height: 100px;background-color: rgb(223, 183, 139);\"></td><td title=\"Index: [0, 4]&#10;Color: (182, 195, 197)\" style=\"width: 100px; height: 100px;background-color: rgb(182, 195, 197);\"></td></tr></tbody></table>"
       ],
       "metadata": {},
       "output_type": "display_data",
       "text": [
        "<IPython.core.display.HTML at 0x4b02150>"
       ]
      },
      {
       "output_type": "stream",
       "stream": "stdout",
       "text": [
        "Zissou\n"
       ]
      }
     ],
     "prompt_number": 14
    },
    {
     "cell_type": "code",
     "collapsed": false,
     "input": [],
     "language": "python",
     "metadata": {},
     "outputs": []
    }
   ],
   "metadata": {}
  }
 ]
}