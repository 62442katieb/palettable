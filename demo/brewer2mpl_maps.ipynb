{
 "metadata": {
  "name": "",
  "signature": "sha256:356c91d14531311d76c1ff145ea33c89dd841f5079cd41956b4890e716034964"
 },
 "nbformat": 3,
 "nbformat_minor": 0,
 "worksheets": [
  {
   "cells": [
    {
     "cell_type": "markdown",
     "metadata": {},
     "source": [
      "- [Color Brewer Sequential](#Color-Brewer-Sequential)\n",
      "- [Color Brewer Diverging](#Color-Brewer-Diverging)\n",
      "- [Color Brewer Qualitative](#Color-Brewer-Qualitative)\n",
      "- [Wes Anderson](#Wes-Anderson)"
     ]
    },
    {
     "cell_type": "code",
     "collapsed": false,
     "input": [
      "from brewer2mpl import qualitative, sequential, diverging, wesanderson\n",
      "from brewer2mpl.brewer2mpl import _ColorMap"
     ],
     "language": "python",
     "metadata": {},
     "outputs": [],
     "prompt_number": 7
    },
    {
     "cell_type": "code",
     "collapsed": false,
     "input": [
      "def display_maps(module):\n",
      "    for k in dir(module):\n",
      "        thing = getattr(module, k)\n",
      "        if isinstance(thing, dict) and 'max' in thing:\n",
      "            thing = thing['max']\n",
      "        if isinstance(thing, _ColorMap):\n",
      "            print(k)\n",
      "            thing.show_as_blocks()"
     ],
     "language": "python",
     "metadata": {},
     "outputs": [],
     "prompt_number": 21
    },
    {
     "cell_type": "heading",
     "level": 1,
     "metadata": {},
     "source": [
      "Color Brewer Sequential"
     ]
    },
    {
     "cell_type": "code",
     "collapsed": false,
     "input": [
      "display_maps(sequential)"
     ],
     "language": "python",
     "metadata": {},
     "outputs": [
      {
       "output_type": "stream",
       "stream": "stdout",
       "text": [
        "Blues\n"
       ]
      },
      {
       "html": [
        "<style type=\"text/css\">table.blockgrid {border: none;} .blockgrid tr {border: none;} .blockgrid td {padding: 0px;} #blocksbd86da37-9b43-406a-b16c-afd468b97c14 td {border: 1px solid white;}</style><table id=\"blocksbd86da37-9b43-406a-b16c-afd468b97c14\" class=\"blockgrid\"><tbody><tr><td title=\"Index: [0, 0]&#10;Color: (247, 251, 255)\" style=\"width: 100px; height: 100px;background-color: rgb(247, 251, 255);\"></td><td title=\"Index: [0, 1]&#10;Color: (222, 235, 247)\" style=\"width: 100px; height: 100px;background-color: rgb(222, 235, 247);\"></td><td title=\"Index: [0, 2]&#10;Color: (198, 219, 239)\" style=\"width: 100px; height: 100px;background-color: rgb(198, 219, 239);\"></td><td title=\"Index: [0, 3]&#10;Color: (158, 202, 225)\" style=\"width: 100px; height: 100px;background-color: rgb(158, 202, 225);\"></td><td title=\"Index: [0, 4]&#10;Color: (107, 174, 214)\" style=\"width: 100px; height: 100px;background-color: rgb(107, 174, 214);\"></td><td title=\"Index: [0, 5]&#10;Color: (66, 146, 198)\" style=\"width: 100px; height: 100px;background-color: rgb(66, 146, 198);\"></td><td title=\"Index: [0, 6]&#10;Color: (33, 113, 181)\" style=\"width: 100px; height: 100px;background-color: rgb(33, 113, 181);\"></td><td title=\"Index: [0, 7]&#10;Color: (8, 81, 156)\" style=\"width: 100px; height: 100px;background-color: rgb(8, 81, 156);\"></td><td title=\"Index: [0, 8]&#10;Color: (8, 48, 107)\" style=\"width: 100px; height: 100px;background-color: rgb(8, 48, 107);\"></td></tr></tbody></table>"
       ],
       "metadata": {},
       "output_type": "display_data",
       "text": [
        "<IPython.core.display.HTML at 0x105be03d0>"
       ]
      },
      {
       "output_type": "stream",
       "stream": "stdout",
       "text": [
        "BuGn\n"
       ]
      },
      {
       "html": [
        "<style type=\"text/css\">table.blockgrid {border: none;} .blockgrid tr {border: none;} .blockgrid td {padding: 0px;} #blocks905e1bab-6715-44cc-bbb2-89979d80bca7 td {border: 1px solid white;}</style><table id=\"blocks905e1bab-6715-44cc-bbb2-89979d80bca7\" class=\"blockgrid\"><tbody><tr><td title=\"Index: [0, 0]&#10;Color: (247, 252, 253)\" style=\"width: 100px; height: 100px;background-color: rgb(247, 252, 253);\"></td><td title=\"Index: [0, 1]&#10;Color: (229, 245, 249)\" style=\"width: 100px; height: 100px;background-color: rgb(229, 245, 249);\"></td><td title=\"Index: [0, 2]&#10;Color: (204, 236, 230)\" style=\"width: 100px; height: 100px;background-color: rgb(204, 236, 230);\"></td><td title=\"Index: [0, 3]&#10;Color: (153, 216, 201)\" style=\"width: 100px; height: 100px;background-color: rgb(153, 216, 201);\"></td><td title=\"Index: [0, 4]&#10;Color: (102, 194, 164)\" style=\"width: 100px; height: 100px;background-color: rgb(102, 194, 164);\"></td><td title=\"Index: [0, 5]&#10;Color: (65, 174, 118)\" style=\"width: 100px; height: 100px;background-color: rgb(65, 174, 118);\"></td><td title=\"Index: [0, 6]&#10;Color: (35, 139, 69)\" style=\"width: 100px; height: 100px;background-color: rgb(35, 139, 69);\"></td><td title=\"Index: [0, 7]&#10;Color: (0, 109, 44)\" style=\"width: 100px; height: 100px;background-color: rgb(0, 109, 44);\"></td><td title=\"Index: [0, 8]&#10;Color: (0, 68, 27)\" style=\"width: 100px; height: 100px;background-color: rgb(0, 68, 27);\"></td></tr></tbody></table>"
       ],
       "metadata": {},
       "output_type": "display_data",
       "text": [
        "<IPython.core.display.HTML at 0x105be03d0>"
       ]
      },
      {
       "output_type": "stream",
       "stream": "stdout",
       "text": [
        "BuPu\n"
       ]
      },
      {
       "html": [
        "<style type=\"text/css\">table.blockgrid {border: none;} .blockgrid tr {border: none;} .blockgrid td {padding: 0px;} #blocksec991ffa-4b71-4116-b0da-3a33d3908a90 td {border: 1px solid white;}</style><table id=\"blocksec991ffa-4b71-4116-b0da-3a33d3908a90\" class=\"blockgrid\"><tbody><tr><td title=\"Index: [0, 0]&#10;Color: (247, 252, 253)\" style=\"width: 100px; height: 100px;background-color: rgb(247, 252, 253);\"></td><td title=\"Index: [0, 1]&#10;Color: (224, 236, 244)\" style=\"width: 100px; height: 100px;background-color: rgb(224, 236, 244);\"></td><td title=\"Index: [0, 2]&#10;Color: (191, 211, 230)\" style=\"width: 100px; height: 100px;background-color: rgb(191, 211, 230);\"></td><td title=\"Index: [0, 3]&#10;Color: (158, 188, 218)\" style=\"width: 100px; height: 100px;background-color: rgb(158, 188, 218);\"></td><td title=\"Index: [0, 4]&#10;Color: (140, 150, 198)\" style=\"width: 100px; height: 100px;background-color: rgb(140, 150, 198);\"></td><td title=\"Index: [0, 5]&#10;Color: (140, 107, 177)\" style=\"width: 100px; height: 100px;background-color: rgb(140, 107, 177);\"></td><td title=\"Index: [0, 6]&#10;Color: (136, 65, 157)\" style=\"width: 100px; height: 100px;background-color: rgb(136, 65, 157);\"></td><td title=\"Index: [0, 7]&#10;Color: (129, 15, 124)\" style=\"width: 100px; height: 100px;background-color: rgb(129, 15, 124);\"></td><td title=\"Index: [0, 8]&#10;Color: (77, 0, 75)\" style=\"width: 100px; height: 100px;background-color: rgb(77, 0, 75);\"></td></tr></tbody></table>"
       ],
       "metadata": {},
       "output_type": "display_data",
       "text": [
        "<IPython.core.display.HTML at 0x105be03d0>"
       ]
      },
      {
       "output_type": "stream",
       "stream": "stdout",
       "text": [
        "GnBu\n"
       ]
      },
      {
       "html": [
        "<style type=\"text/css\">table.blockgrid {border: none;} .blockgrid tr {border: none;} .blockgrid td {padding: 0px;} #blocks440c92b7-d0c2-43ff-9803-936be6ba1d10 td {border: 1px solid white;}</style><table id=\"blocks440c92b7-d0c2-43ff-9803-936be6ba1d10\" class=\"blockgrid\"><tbody><tr><td title=\"Index: [0, 0]&#10;Color: (247, 252, 240)\" style=\"width: 100px; height: 100px;background-color: rgb(247, 252, 240);\"></td><td title=\"Index: [0, 1]&#10;Color: (224, 243, 219)\" style=\"width: 100px; height: 100px;background-color: rgb(224, 243, 219);\"></td><td title=\"Index: [0, 2]&#10;Color: (204, 235, 197)\" style=\"width: 100px; height: 100px;background-color: rgb(204, 235, 197);\"></td><td title=\"Index: [0, 3]&#10;Color: (168, 221, 181)\" style=\"width: 100px; height: 100px;background-color: rgb(168, 221, 181);\"></td><td title=\"Index: [0, 4]&#10;Color: (123, 204, 196)\" style=\"width: 100px; height: 100px;background-color: rgb(123, 204, 196);\"></td><td title=\"Index: [0, 5]&#10;Color: (78, 179, 211)\" style=\"width: 100px; height: 100px;background-color: rgb(78, 179, 211);\"></td><td title=\"Index: [0, 6]&#10;Color: (43, 140, 190)\" style=\"width: 100px; height: 100px;background-color: rgb(43, 140, 190);\"></td><td title=\"Index: [0, 7]&#10;Color: (8, 104, 172)\" style=\"width: 100px; height: 100px;background-color: rgb(8, 104, 172);\"></td><td title=\"Index: [0, 8]&#10;Color: (8, 64, 129)\" style=\"width: 100px; height: 100px;background-color: rgb(8, 64, 129);\"></td></tr></tbody></table>"
       ],
       "metadata": {},
       "output_type": "display_data",
       "text": [
        "<IPython.core.display.HTML at 0x105be03d0>"
       ]
      },
      {
       "output_type": "stream",
       "stream": "stdout",
       "text": [
        "Greens\n"
       ]
      },
      {
       "html": [
        "<style type=\"text/css\">table.blockgrid {border: none;} .blockgrid tr {border: none;} .blockgrid td {padding: 0px;} #blocks19b3ad1d-3707-4f49-bbdb-cec456a25c2b td {border: 1px solid white;}</style><table id=\"blocks19b3ad1d-3707-4f49-bbdb-cec456a25c2b\" class=\"blockgrid\"><tbody><tr><td title=\"Index: [0, 0]&#10;Color: (247, 252, 245)\" style=\"width: 100px; height: 100px;background-color: rgb(247, 252, 245);\"></td><td title=\"Index: [0, 1]&#10;Color: (229, 245, 224)\" style=\"width: 100px; height: 100px;background-color: rgb(229, 245, 224);\"></td><td title=\"Index: [0, 2]&#10;Color: (199, 233, 192)\" style=\"width: 100px; height: 100px;background-color: rgb(199, 233, 192);\"></td><td title=\"Index: [0, 3]&#10;Color: (161, 217, 155)\" style=\"width: 100px; height: 100px;background-color: rgb(161, 217, 155);\"></td><td title=\"Index: [0, 4]&#10;Color: (116, 196, 118)\" style=\"width: 100px; height: 100px;background-color: rgb(116, 196, 118);\"></td><td title=\"Index: [0, 5]&#10;Color: (65, 171, 93)\" style=\"width: 100px; height: 100px;background-color: rgb(65, 171, 93);\"></td><td title=\"Index: [0, 6]&#10;Color: (35, 139, 69)\" style=\"width: 100px; height: 100px;background-color: rgb(35, 139, 69);\"></td><td title=\"Index: [0, 7]&#10;Color: (0, 109, 44)\" style=\"width: 100px; height: 100px;background-color: rgb(0, 109, 44);\"></td><td title=\"Index: [0, 8]&#10;Color: (0, 68, 27)\" style=\"width: 100px; height: 100px;background-color: rgb(0, 68, 27);\"></td></tr></tbody></table>"
       ],
       "metadata": {},
       "output_type": "display_data",
       "text": [
        "<IPython.core.display.HTML at 0x105be03d0>"
       ]
      },
      {
       "output_type": "stream",
       "stream": "stdout",
       "text": [
        "Greys\n"
       ]
      },
      {
       "html": [
        "<style type=\"text/css\">table.blockgrid {border: none;} .blockgrid tr {border: none;} .blockgrid td {padding: 0px;} #blocks202a8c24-9eb9-42df-adeb-c8556fe9ecb3 td {border: 1px solid white;}</style><table id=\"blocks202a8c24-9eb9-42df-adeb-c8556fe9ecb3\" class=\"blockgrid\"><tbody><tr><td title=\"Index: [0, 0]&#10;Color: (255, 255, 255)\" style=\"width: 100px; height: 100px;background-color: rgb(255, 255, 255);\"></td><td title=\"Index: [0, 1]&#10;Color: (240, 240, 240)\" style=\"width: 100px; height: 100px;background-color: rgb(240, 240, 240);\"></td><td title=\"Index: [0, 2]&#10;Color: (217, 217, 217)\" style=\"width: 100px; height: 100px;background-color: rgb(217, 217, 217);\"></td><td title=\"Index: [0, 3]&#10;Color: (189, 189, 189)\" style=\"width: 100px; height: 100px;background-color: rgb(189, 189, 189);\"></td><td title=\"Index: [0, 4]&#10;Color: (150, 150, 150)\" style=\"width: 100px; height: 100px;background-color: rgb(150, 150, 150);\"></td><td title=\"Index: [0, 5]&#10;Color: (115, 115, 115)\" style=\"width: 100px; height: 100px;background-color: rgb(115, 115, 115);\"></td><td title=\"Index: [0, 6]&#10;Color: (82, 82, 82)\" style=\"width: 100px; height: 100px;background-color: rgb(82, 82, 82);\"></td><td title=\"Index: [0, 7]&#10;Color: (37, 37, 37)\" style=\"width: 100px; height: 100px;background-color: rgb(37, 37, 37);\"></td><td title=\"Index: [0, 8]&#10;Color: (0, 0, 0)\" style=\"width: 100px; height: 100px;background-color: rgb(0, 0, 0);\"></td></tr></tbody></table>"
       ],
       "metadata": {},
       "output_type": "display_data",
       "text": [
        "<IPython.core.display.HTML at 0x105be03d0>"
       ]
      },
      {
       "output_type": "stream",
       "stream": "stdout",
       "text": [
        "OrRd\n"
       ]
      },
      {
       "html": [
        "<style type=\"text/css\">table.blockgrid {border: none;} .blockgrid tr {border: none;} .blockgrid td {padding: 0px;} #blocks04887fcb-48df-4a37-ab7f-8e4856d6c274 td {border: 1px solid white;}</style><table id=\"blocks04887fcb-48df-4a37-ab7f-8e4856d6c274\" class=\"blockgrid\"><tbody><tr><td title=\"Index: [0, 0]&#10;Color: (255, 247, 236)\" style=\"width: 100px; height: 100px;background-color: rgb(255, 247, 236);\"></td><td title=\"Index: [0, 1]&#10;Color: (254, 232, 200)\" style=\"width: 100px; height: 100px;background-color: rgb(254, 232, 200);\"></td><td title=\"Index: [0, 2]&#10;Color: (253, 212, 158)\" style=\"width: 100px; height: 100px;background-color: rgb(253, 212, 158);\"></td><td title=\"Index: [0, 3]&#10;Color: (253, 187, 132)\" style=\"width: 100px; height: 100px;background-color: rgb(253, 187, 132);\"></td><td title=\"Index: [0, 4]&#10;Color: (252, 141, 89)\" style=\"width: 100px; height: 100px;background-color: rgb(252, 141, 89);\"></td><td title=\"Index: [0, 5]&#10;Color: (239, 101, 72)\" style=\"width: 100px; height: 100px;background-color: rgb(239, 101, 72);\"></td><td title=\"Index: [0, 6]&#10;Color: (215, 48, 31)\" style=\"width: 100px; height: 100px;background-color: rgb(215, 48, 31);\"></td><td title=\"Index: [0, 7]&#10;Color: (179, 0, 0)\" style=\"width: 100px; height: 100px;background-color: rgb(179, 0, 0);\"></td><td title=\"Index: [0, 8]&#10;Color: (127, 0, 0)\" style=\"width: 100px; height: 100px;background-color: rgb(127, 0, 0);\"></td></tr></tbody></table>"
       ],
       "metadata": {},
       "output_type": "display_data",
       "text": [
        "<IPython.core.display.HTML at 0x105be03d0>"
       ]
      },
      {
       "output_type": "stream",
       "stream": "stdout",
       "text": [
        "Oranges\n"
       ]
      },
      {
       "html": [
        "<style type=\"text/css\">table.blockgrid {border: none;} .blockgrid tr {border: none;} .blockgrid td {padding: 0px;} #blocksa0adae4e-12db-4073-b859-fb7d024ef6dd td {border: 1px solid white;}</style><table id=\"blocksa0adae4e-12db-4073-b859-fb7d024ef6dd\" class=\"blockgrid\"><tbody><tr><td title=\"Index: [0, 0]&#10;Color: (255, 245, 235)\" style=\"width: 100px; height: 100px;background-color: rgb(255, 245, 235);\"></td><td title=\"Index: [0, 1]&#10;Color: (254, 230, 206)\" style=\"width: 100px; height: 100px;background-color: rgb(254, 230, 206);\"></td><td title=\"Index: [0, 2]&#10;Color: (253, 208, 162)\" style=\"width: 100px; height: 100px;background-color: rgb(253, 208, 162);\"></td><td title=\"Index: [0, 3]&#10;Color: (253, 174, 107)\" style=\"width: 100px; height: 100px;background-color: rgb(253, 174, 107);\"></td><td title=\"Index: [0, 4]&#10;Color: (253, 141, 60)\" style=\"width: 100px; height: 100px;background-color: rgb(253, 141, 60);\"></td><td title=\"Index: [0, 5]&#10;Color: (241, 105, 19)\" style=\"width: 100px; height: 100px;background-color: rgb(241, 105, 19);\"></td><td title=\"Index: [0, 6]&#10;Color: (217, 72, 1)\" style=\"width: 100px; height: 100px;background-color: rgb(217, 72, 1);\"></td><td title=\"Index: [0, 7]&#10;Color: (166, 54, 3)\" style=\"width: 100px; height: 100px;background-color: rgb(166, 54, 3);\"></td><td title=\"Index: [0, 8]&#10;Color: (127, 39, 4)\" style=\"width: 100px; height: 100px;background-color: rgb(127, 39, 4);\"></td></tr></tbody></table>"
       ],
       "metadata": {},
       "output_type": "display_data",
       "text": [
        "<IPython.core.display.HTML at 0x105be03d0>"
       ]
      },
      {
       "output_type": "stream",
       "stream": "stdout",
       "text": [
        "PuBu\n"
       ]
      },
      {
       "html": [
        "<style type=\"text/css\">table.blockgrid {border: none;} .blockgrid tr {border: none;} .blockgrid td {padding: 0px;} #blocksf635ce42-830c-4ddd-ad05-9ab7d4a80f50 td {border: 1px solid white;}</style><table id=\"blocksf635ce42-830c-4ddd-ad05-9ab7d4a80f50\" class=\"blockgrid\"><tbody><tr><td title=\"Index: [0, 0]&#10;Color: (255, 247, 251)\" style=\"width: 100px; height: 100px;background-color: rgb(255, 247, 251);\"></td><td title=\"Index: [0, 1]&#10;Color: (236, 231, 242)\" style=\"width: 100px; height: 100px;background-color: rgb(236, 231, 242);\"></td><td title=\"Index: [0, 2]&#10;Color: (208, 209, 230)\" style=\"width: 100px; height: 100px;background-color: rgb(208, 209, 230);\"></td><td title=\"Index: [0, 3]&#10;Color: (166, 189, 219)\" style=\"width: 100px; height: 100px;background-color: rgb(166, 189, 219);\"></td><td title=\"Index: [0, 4]&#10;Color: (116, 169, 207)\" style=\"width: 100px; height: 100px;background-color: rgb(116, 169, 207);\"></td><td title=\"Index: [0, 5]&#10;Color: (54, 144, 192)\" style=\"width: 100px; height: 100px;background-color: rgb(54, 144, 192);\"></td><td title=\"Index: [0, 6]&#10;Color: (5, 112, 176)\" style=\"width: 100px; height: 100px;background-color: rgb(5, 112, 176);\"></td><td title=\"Index: [0, 7]&#10;Color: (4, 90, 141)\" style=\"width: 100px; height: 100px;background-color: rgb(4, 90, 141);\"></td><td title=\"Index: [0, 8]&#10;Color: (2, 56, 88)\" style=\"width: 100px; height: 100px;background-color: rgb(2, 56, 88);\"></td></tr></tbody></table>"
       ],
       "metadata": {},
       "output_type": "display_data",
       "text": [
        "<IPython.core.display.HTML at 0x105be03d0>"
       ]
      },
      {
       "output_type": "stream",
       "stream": "stdout",
       "text": [
        "PuBuGn\n"
       ]
      },
      {
       "html": [
        "<style type=\"text/css\">table.blockgrid {border: none;} .blockgrid tr {border: none;} .blockgrid td {padding: 0px;} #blocks2d688c1e-fb29-4473-b429-77b3639f5875 td {border: 1px solid white;}</style><table id=\"blocks2d688c1e-fb29-4473-b429-77b3639f5875\" class=\"blockgrid\"><tbody><tr><td title=\"Index: [0, 0]&#10;Color: (255, 247, 251)\" style=\"width: 100px; height: 100px;background-color: rgb(255, 247, 251);\"></td><td title=\"Index: [0, 1]&#10;Color: (236, 226, 240)\" style=\"width: 100px; height: 100px;background-color: rgb(236, 226, 240);\"></td><td title=\"Index: [0, 2]&#10;Color: (208, 209, 230)\" style=\"width: 100px; height: 100px;background-color: rgb(208, 209, 230);\"></td><td title=\"Index: [0, 3]&#10;Color: (166, 189, 219)\" style=\"width: 100px; height: 100px;background-color: rgb(166, 189, 219);\"></td><td title=\"Index: [0, 4]&#10;Color: (103, 169, 207)\" style=\"width: 100px; height: 100px;background-color: rgb(103, 169, 207);\"></td><td title=\"Index: [0, 5]&#10;Color: (54, 144, 192)\" style=\"width: 100px; height: 100px;background-color: rgb(54, 144, 192);\"></td><td title=\"Index: [0, 6]&#10;Color: (2, 129, 138)\" style=\"width: 100px; height: 100px;background-color: rgb(2, 129, 138);\"></td><td title=\"Index: [0, 7]&#10;Color: (1, 108, 89)\" style=\"width: 100px; height: 100px;background-color: rgb(1, 108, 89);\"></td><td title=\"Index: [0, 8]&#10;Color: (1, 70, 54)\" style=\"width: 100px; height: 100px;background-color: rgb(1, 70, 54);\"></td></tr></tbody></table>"
       ],
       "metadata": {},
       "output_type": "display_data",
       "text": [
        "<IPython.core.display.HTML at 0x105be03d0>"
       ]
      },
      {
       "output_type": "stream",
       "stream": "stdout",
       "text": [
        "PuRd\n"
       ]
      },
      {
       "html": [
        "<style type=\"text/css\">table.blockgrid {border: none;} .blockgrid tr {border: none;} .blockgrid td {padding: 0px;} #blocks1d0bfe02-89db-440a-80d0-47280f9bca10 td {border: 1px solid white;}</style><table id=\"blocks1d0bfe02-89db-440a-80d0-47280f9bca10\" class=\"blockgrid\"><tbody><tr><td title=\"Index: [0, 0]&#10;Color: (247, 244, 249)\" style=\"width: 100px; height: 100px;background-color: rgb(247, 244, 249);\"></td><td title=\"Index: [0, 1]&#10;Color: (231, 225, 239)\" style=\"width: 100px; height: 100px;background-color: rgb(231, 225, 239);\"></td><td title=\"Index: [0, 2]&#10;Color: (212, 185, 218)\" style=\"width: 100px; height: 100px;background-color: rgb(212, 185, 218);\"></td><td title=\"Index: [0, 3]&#10;Color: (201, 148, 199)\" style=\"width: 100px; height: 100px;background-color: rgb(201, 148, 199);\"></td><td title=\"Index: [0, 4]&#10;Color: (223, 101, 176)\" style=\"width: 100px; height: 100px;background-color: rgb(223, 101, 176);\"></td><td title=\"Index: [0, 5]&#10;Color: (231, 41, 138)\" style=\"width: 100px; height: 100px;background-color: rgb(231, 41, 138);\"></td><td title=\"Index: [0, 6]&#10;Color: (206, 18, 86)\" style=\"width: 100px; height: 100px;background-color: rgb(206, 18, 86);\"></td><td title=\"Index: [0, 7]&#10;Color: (152, 0, 67)\" style=\"width: 100px; height: 100px;background-color: rgb(152, 0, 67);\"></td><td title=\"Index: [0, 8]&#10;Color: (103, 0, 31)\" style=\"width: 100px; height: 100px;background-color: rgb(103, 0, 31);\"></td></tr></tbody></table>"
       ],
       "metadata": {},
       "output_type": "display_data",
       "text": [
        "<IPython.core.display.HTML at 0x105be03d0>"
       ]
      },
      {
       "output_type": "stream",
       "stream": "stdout",
       "text": [
        "Purples\n"
       ]
      },
      {
       "html": [
        "<style type=\"text/css\">table.blockgrid {border: none;} .blockgrid tr {border: none;} .blockgrid td {padding: 0px;} #blocksba236e77-d44e-4743-a38f-7490d57bce09 td {border: 1px solid white;}</style><table id=\"blocksba236e77-d44e-4743-a38f-7490d57bce09\" class=\"blockgrid\"><tbody><tr><td title=\"Index: [0, 0]&#10;Color: (252, 251, 253)\" style=\"width: 100px; height: 100px;background-color: rgb(252, 251, 253);\"></td><td title=\"Index: [0, 1]&#10;Color: (239, 237, 245)\" style=\"width: 100px; height: 100px;background-color: rgb(239, 237, 245);\"></td><td title=\"Index: [0, 2]&#10;Color: (218, 218, 235)\" style=\"width: 100px; height: 100px;background-color: rgb(218, 218, 235);\"></td><td title=\"Index: [0, 3]&#10;Color: (188, 189, 220)\" style=\"width: 100px; height: 100px;background-color: rgb(188, 189, 220);\"></td><td title=\"Index: [0, 4]&#10;Color: (158, 154, 200)\" style=\"width: 100px; height: 100px;background-color: rgb(158, 154, 200);\"></td><td title=\"Index: [0, 5]&#10;Color: (128, 125, 186)\" style=\"width: 100px; height: 100px;background-color: rgb(128, 125, 186);\"></td><td title=\"Index: [0, 6]&#10;Color: (106, 81, 163)\" style=\"width: 100px; height: 100px;background-color: rgb(106, 81, 163);\"></td><td title=\"Index: [0, 7]&#10;Color: (84, 39, 143)\" style=\"width: 100px; height: 100px;background-color: rgb(84, 39, 143);\"></td><td title=\"Index: [0, 8]&#10;Color: (63, 0, 125)\" style=\"width: 100px; height: 100px;background-color: rgb(63, 0, 125);\"></td></tr></tbody></table>"
       ],
       "metadata": {},
       "output_type": "display_data",
       "text": [
        "<IPython.core.display.HTML at 0x105be03d0>"
       ]
      },
      {
       "output_type": "stream",
       "stream": "stdout",
       "text": [
        "RdPu\n"
       ]
      },
      {
       "html": [
        "<style type=\"text/css\">table.blockgrid {border: none;} .blockgrid tr {border: none;} .blockgrid td {padding: 0px;} #blocksdca0e33d-4102-4209-9cd5-671f9254dbda td {border: 1px solid white;}</style><table id=\"blocksdca0e33d-4102-4209-9cd5-671f9254dbda\" class=\"blockgrid\"><tbody><tr><td title=\"Index: [0, 0]&#10;Color: (255, 247, 243)\" style=\"width: 100px; height: 100px;background-color: rgb(255, 247, 243);\"></td><td title=\"Index: [0, 1]&#10;Color: (253, 224, 221)\" style=\"width: 100px; height: 100px;background-color: rgb(253, 224, 221);\"></td><td title=\"Index: [0, 2]&#10;Color: (252, 197, 192)\" style=\"width: 100px; height: 100px;background-color: rgb(252, 197, 192);\"></td><td title=\"Index: [0, 3]&#10;Color: (250, 159, 181)\" style=\"width: 100px; height: 100px;background-color: rgb(250, 159, 181);\"></td><td title=\"Index: [0, 4]&#10;Color: (247, 104, 161)\" style=\"width: 100px; height: 100px;background-color: rgb(247, 104, 161);\"></td><td title=\"Index: [0, 5]&#10;Color: (221, 52, 151)\" style=\"width: 100px; height: 100px;background-color: rgb(221, 52, 151);\"></td><td title=\"Index: [0, 6]&#10;Color: (174, 1, 126)\" style=\"width: 100px; height: 100px;background-color: rgb(174, 1, 126);\"></td><td title=\"Index: [0, 7]&#10;Color: (122, 1, 119)\" style=\"width: 100px; height: 100px;background-color: rgb(122, 1, 119);\"></td><td title=\"Index: [0, 8]&#10;Color: (73, 0, 106)\" style=\"width: 100px; height: 100px;background-color: rgb(73, 0, 106);\"></td></tr></tbody></table>"
       ],
       "metadata": {},
       "output_type": "display_data",
       "text": [
        "<IPython.core.display.HTML at 0x105be03d0>"
       ]
      },
      {
       "output_type": "stream",
       "stream": "stdout",
       "text": [
        "Reds\n"
       ]
      },
      {
       "html": [
        "<style type=\"text/css\">table.blockgrid {border: none;} .blockgrid tr {border: none;} .blockgrid td {padding: 0px;} #blocks3bc3f8f1-f6d5-4d1e-a0c7-11e239410cee td {border: 1px solid white;}</style><table id=\"blocks3bc3f8f1-f6d5-4d1e-a0c7-11e239410cee\" class=\"blockgrid\"><tbody><tr><td title=\"Index: [0, 0]&#10;Color: (255, 245, 240)\" style=\"width: 100px; height: 100px;background-color: rgb(255, 245, 240);\"></td><td title=\"Index: [0, 1]&#10;Color: (254, 224, 210)\" style=\"width: 100px; height: 100px;background-color: rgb(254, 224, 210);\"></td><td title=\"Index: [0, 2]&#10;Color: (252, 187, 161)\" style=\"width: 100px; height: 100px;background-color: rgb(252, 187, 161);\"></td><td title=\"Index: [0, 3]&#10;Color: (252, 146, 114)\" style=\"width: 100px; height: 100px;background-color: rgb(252, 146, 114);\"></td><td title=\"Index: [0, 4]&#10;Color: (251, 106, 74)\" style=\"width: 100px; height: 100px;background-color: rgb(251, 106, 74);\"></td><td title=\"Index: [0, 5]&#10;Color: (239, 59, 44)\" style=\"width: 100px; height: 100px;background-color: rgb(239, 59, 44);\"></td><td title=\"Index: [0, 6]&#10;Color: (203, 24, 29)\" style=\"width: 100px; height: 100px;background-color: rgb(203, 24, 29);\"></td><td title=\"Index: [0, 7]&#10;Color: (165, 15, 21)\" style=\"width: 100px; height: 100px;background-color: rgb(165, 15, 21);\"></td><td title=\"Index: [0, 8]&#10;Color: (103, 0, 13)\" style=\"width: 100px; height: 100px;background-color: rgb(103, 0, 13);\"></td></tr></tbody></table>"
       ],
       "metadata": {},
       "output_type": "display_data",
       "text": [
        "<IPython.core.display.HTML at 0x105be03d0>"
       ]
      },
      {
       "output_type": "stream",
       "stream": "stdout",
       "text": [
        "YlGn\n"
       ]
      },
      {
       "html": [
        "<style type=\"text/css\">table.blockgrid {border: none;} .blockgrid tr {border: none;} .blockgrid td {padding: 0px;} #blocksb828e098-5a79-4303-b272-0b25419fe93b td {border: 1px solid white;}</style><table id=\"blocksb828e098-5a79-4303-b272-0b25419fe93b\" class=\"blockgrid\"><tbody><tr><td title=\"Index: [0, 0]&#10;Color: (255, 255, 229)\" style=\"width: 100px; height: 100px;background-color: rgb(255, 255, 229);\"></td><td title=\"Index: [0, 1]&#10;Color: (247, 252, 185)\" style=\"width: 100px; height: 100px;background-color: rgb(247, 252, 185);\"></td><td title=\"Index: [0, 2]&#10;Color: (217, 240, 163)\" style=\"width: 100px; height: 100px;background-color: rgb(217, 240, 163);\"></td><td title=\"Index: [0, 3]&#10;Color: (173, 221, 142)\" style=\"width: 100px; height: 100px;background-color: rgb(173, 221, 142);\"></td><td title=\"Index: [0, 4]&#10;Color: (120, 198, 121)\" style=\"width: 100px; height: 100px;background-color: rgb(120, 198, 121);\"></td><td title=\"Index: [0, 5]&#10;Color: (65, 171, 93)\" style=\"width: 100px; height: 100px;background-color: rgb(65, 171, 93);\"></td><td title=\"Index: [0, 6]&#10;Color: (35, 132, 67)\" style=\"width: 100px; height: 100px;background-color: rgb(35, 132, 67);\"></td><td title=\"Index: [0, 7]&#10;Color: (0, 104, 55)\" style=\"width: 100px; height: 100px;background-color: rgb(0, 104, 55);\"></td><td title=\"Index: [0, 8]&#10;Color: (0, 69, 41)\" style=\"width: 100px; height: 100px;background-color: rgb(0, 69, 41);\"></td></tr></tbody></table>"
       ],
       "metadata": {},
       "output_type": "display_data",
       "text": [
        "<IPython.core.display.HTML at 0x105be03d0>"
       ]
      },
      {
       "output_type": "stream",
       "stream": "stdout",
       "text": [
        "YlGnBu\n"
       ]
      },
      {
       "html": [
        "<style type=\"text/css\">table.blockgrid {border: none;} .blockgrid tr {border: none;} .blockgrid td {padding: 0px;} #blocksa22c844e-f789-405c-92df-e7e5f8ec1b0f td {border: 1px solid white;}</style><table id=\"blocksa22c844e-f789-405c-92df-e7e5f8ec1b0f\" class=\"blockgrid\"><tbody><tr><td title=\"Index: [0, 0]&#10;Color: (255, 255, 217)\" style=\"width: 100px; height: 100px;background-color: rgb(255, 255, 217);\"></td><td title=\"Index: [0, 1]&#10;Color: (237, 248, 177)\" style=\"width: 100px; height: 100px;background-color: rgb(237, 248, 177);\"></td><td title=\"Index: [0, 2]&#10;Color: (199, 233, 180)\" style=\"width: 100px; height: 100px;background-color: rgb(199, 233, 180);\"></td><td title=\"Index: [0, 3]&#10;Color: (127, 205, 187)\" style=\"width: 100px; height: 100px;background-color: rgb(127, 205, 187);\"></td><td title=\"Index: [0, 4]&#10;Color: (65, 182, 196)\" style=\"width: 100px; height: 100px;background-color: rgb(65, 182, 196);\"></td><td title=\"Index: [0, 5]&#10;Color: (29, 145, 192)\" style=\"width: 100px; height: 100px;background-color: rgb(29, 145, 192);\"></td><td title=\"Index: [0, 6]&#10;Color: (34, 94, 168)\" style=\"width: 100px; height: 100px;background-color: rgb(34, 94, 168);\"></td><td title=\"Index: [0, 7]&#10;Color: (37, 52, 148)\" style=\"width: 100px; height: 100px;background-color: rgb(37, 52, 148);\"></td><td title=\"Index: [0, 8]&#10;Color: (8, 29, 88)\" style=\"width: 100px; height: 100px;background-color: rgb(8, 29, 88);\"></td></tr></tbody></table>"
       ],
       "metadata": {},
       "output_type": "display_data",
       "text": [
        "<IPython.core.display.HTML at 0x105be03d0>"
       ]
      },
      {
       "output_type": "stream",
       "stream": "stdout",
       "text": [
        "YlOrBr\n"
       ]
      },
      {
       "html": [
        "<style type=\"text/css\">table.blockgrid {border: none;} .blockgrid tr {border: none;} .blockgrid td {padding: 0px;} #blocks6cc368d6-f6fc-43d3-98e7-0a526d224a16 td {border: 1px solid white;}</style><table id=\"blocks6cc368d6-f6fc-43d3-98e7-0a526d224a16\" class=\"blockgrid\"><tbody><tr><td title=\"Index: [0, 0]&#10;Color: (255, 255, 229)\" style=\"width: 100px; height: 100px;background-color: rgb(255, 255, 229);\"></td><td title=\"Index: [0, 1]&#10;Color: (255, 247, 188)\" style=\"width: 100px; height: 100px;background-color: rgb(255, 247, 188);\"></td><td title=\"Index: [0, 2]&#10;Color: (254, 227, 145)\" style=\"width: 100px; height: 100px;background-color: rgb(254, 227, 145);\"></td><td title=\"Index: [0, 3]&#10;Color: (254, 196, 79)\" style=\"width: 100px; height: 100px;background-color: rgb(254, 196, 79);\"></td><td title=\"Index: [0, 4]&#10;Color: (254, 153, 41)\" style=\"width: 100px; height: 100px;background-color: rgb(254, 153, 41);\"></td><td title=\"Index: [0, 5]&#10;Color: (236, 112, 20)\" style=\"width: 100px; height: 100px;background-color: rgb(236, 112, 20);\"></td><td title=\"Index: [0, 6]&#10;Color: (204, 76, 2)\" style=\"width: 100px; height: 100px;background-color: rgb(204, 76, 2);\"></td><td title=\"Index: [0, 7]&#10;Color: (153, 52, 4)\" style=\"width: 100px; height: 100px;background-color: rgb(153, 52, 4);\"></td><td title=\"Index: [0, 8]&#10;Color: (102, 37, 6)\" style=\"width: 100px; height: 100px;background-color: rgb(102, 37, 6);\"></td></tr></tbody></table>"
       ],
       "metadata": {},
       "output_type": "display_data",
       "text": [
        "<IPython.core.display.HTML at 0x105be03d0>"
       ]
      },
      {
       "output_type": "stream",
       "stream": "stdout",
       "text": [
        "YlOrRd\n"
       ]
      },
      {
       "html": [
        "<style type=\"text/css\">table.blockgrid {border: none;} .blockgrid tr {border: none;} .blockgrid td {padding: 0px;} #blocksc5bdf756-0905-470e-bdcb-7be595c6adac td {border: 1px solid white;}</style><table id=\"blocksc5bdf756-0905-470e-bdcb-7be595c6adac\" class=\"blockgrid\"><tbody><tr><td title=\"Index: [0, 0]&#10;Color: (255, 255, 204)\" style=\"width: 100px; height: 100px;background-color: rgb(255, 255, 204);\"></td><td title=\"Index: [0, 1]&#10;Color: (255, 237, 160)\" style=\"width: 100px; height: 100px;background-color: rgb(255, 237, 160);\"></td><td title=\"Index: [0, 2]&#10;Color: (254, 217, 118)\" style=\"width: 100px; height: 100px;background-color: rgb(254, 217, 118);\"></td><td title=\"Index: [0, 3]&#10;Color: (254, 178, 76)\" style=\"width: 100px; height: 100px;background-color: rgb(254, 178, 76);\"></td><td title=\"Index: [0, 4]&#10;Color: (253, 141, 60)\" style=\"width: 100px; height: 100px;background-color: rgb(253, 141, 60);\"></td><td title=\"Index: [0, 5]&#10;Color: (252, 78, 42)\" style=\"width: 100px; height: 100px;background-color: rgb(252, 78, 42);\"></td><td title=\"Index: [0, 6]&#10;Color: (227, 26, 28)\" style=\"width: 100px; height: 100px;background-color: rgb(227, 26, 28);\"></td><td title=\"Index: [0, 7]&#10;Color: (189, 0, 38)\" style=\"width: 100px; height: 100px;background-color: rgb(189, 0, 38);\"></td><td title=\"Index: [0, 8]&#10;Color: (128, 0, 38)\" style=\"width: 100px; height: 100px;background-color: rgb(128, 0, 38);\"></td></tr></tbody></table>"
       ],
       "metadata": {},
       "output_type": "display_data",
       "text": [
        "<IPython.core.display.HTML at 0x105be03d0>"
       ]
      }
     ],
     "prompt_number": 22
    },
    {
     "cell_type": "heading",
     "level": 1,
     "metadata": {},
     "source": [
      "Color Brewer Diverging"
     ]
    },
    {
     "cell_type": "code",
     "collapsed": false,
     "input": [
      "display_maps(diverging)"
     ],
     "language": "python",
     "metadata": {},
     "outputs": [
      {
       "output_type": "stream",
       "stream": "stdout",
       "text": [
        "BrBG\n"
       ]
      },
      {
       "html": [
        "<style type=\"text/css\">table.blockgrid {border: none;} .blockgrid tr {border: none;} .blockgrid td {padding: 0px;} #blocks72389693-3589-48bd-900e-37ce6761f9c9 td {border: 1px solid white;}</style><table id=\"blocks72389693-3589-48bd-900e-37ce6761f9c9\" class=\"blockgrid\"><tbody><tr><td title=\"Index: [0, 0]&#10;Color: (84, 48, 5)\" style=\"width: 100px; height: 100px;background-color: rgb(84, 48, 5);\"></td><td title=\"Index: [0, 1]&#10;Color: (140, 81, 10)\" style=\"width: 100px; height: 100px;background-color: rgb(140, 81, 10);\"></td><td title=\"Index: [0, 2]&#10;Color: (191, 129, 45)\" style=\"width: 100px; height: 100px;background-color: rgb(191, 129, 45);\"></td><td title=\"Index: [0, 3]&#10;Color: (223, 194, 125)\" style=\"width: 100px; height: 100px;background-color: rgb(223, 194, 125);\"></td><td title=\"Index: [0, 4]&#10;Color: (246, 232, 195)\" style=\"width: 100px; height: 100px;background-color: rgb(246, 232, 195);\"></td><td title=\"Index: [0, 5]&#10;Color: (245, 245, 245)\" style=\"width: 100px; height: 100px;background-color: rgb(245, 245, 245);\"></td><td title=\"Index: [0, 6]&#10;Color: (199, 234, 229)\" style=\"width: 100px; height: 100px;background-color: rgb(199, 234, 229);\"></td><td title=\"Index: [0, 7]&#10;Color: (128, 205, 193)\" style=\"width: 100px; height: 100px;background-color: rgb(128, 205, 193);\"></td><td title=\"Index: [0, 8]&#10;Color: (53, 151, 143)\" style=\"width: 100px; height: 100px;background-color: rgb(53, 151, 143);\"></td><td title=\"Index: [0, 9]&#10;Color: (1, 102, 94)\" style=\"width: 100px; height: 100px;background-color: rgb(1, 102, 94);\"></td><td title=\"Index: [0, 10]&#10;Color: (0, 60, 48)\" style=\"width: 100px; height: 100px;background-color: rgb(0, 60, 48);\"></td></tr></tbody></table>"
       ],
       "metadata": {},
       "output_type": "display_data",
       "text": [
        "<IPython.core.display.HTML at 0x105be0450>"
       ]
      },
      {
       "output_type": "stream",
       "stream": "stdout",
       "text": [
        "PRGn\n"
       ]
      },
      {
       "html": [
        "<style type=\"text/css\">table.blockgrid {border: none;} .blockgrid tr {border: none;} .blockgrid td {padding: 0px;} #blocks668cdd8e-b8a2-44d9-a732-28f8e6c1c0a2 td {border: 1px solid white;}</style><table id=\"blocks668cdd8e-b8a2-44d9-a732-28f8e6c1c0a2\" class=\"blockgrid\"><tbody><tr><td title=\"Index: [0, 0]&#10;Color: (64, 0, 75)\" style=\"width: 100px; height: 100px;background-color: rgb(64, 0, 75);\"></td><td title=\"Index: [0, 1]&#10;Color: (118, 42, 131)\" style=\"width: 100px; height: 100px;background-color: rgb(118, 42, 131);\"></td><td title=\"Index: [0, 2]&#10;Color: (153, 112, 171)\" style=\"width: 100px; height: 100px;background-color: rgb(153, 112, 171);\"></td><td title=\"Index: [0, 3]&#10;Color: (194, 165, 207)\" style=\"width: 100px; height: 100px;background-color: rgb(194, 165, 207);\"></td><td title=\"Index: [0, 4]&#10;Color: (231, 212, 232)\" style=\"width: 100px; height: 100px;background-color: rgb(231, 212, 232);\"></td><td title=\"Index: [0, 5]&#10;Color: (247, 247, 247)\" style=\"width: 100px; height: 100px;background-color: rgb(247, 247, 247);\"></td><td title=\"Index: [0, 6]&#10;Color: (217, 240, 211)\" style=\"width: 100px; height: 100px;background-color: rgb(217, 240, 211);\"></td><td title=\"Index: [0, 7]&#10;Color: (166, 219, 160)\" style=\"width: 100px; height: 100px;background-color: rgb(166, 219, 160);\"></td><td title=\"Index: [0, 8]&#10;Color: (90, 174, 97)\" style=\"width: 100px; height: 100px;background-color: rgb(90, 174, 97);\"></td><td title=\"Index: [0, 9]&#10;Color: (27, 120, 55)\" style=\"width: 100px; height: 100px;background-color: rgb(27, 120, 55);\"></td><td title=\"Index: [0, 10]&#10;Color: (0, 68, 27)\" style=\"width: 100px; height: 100px;background-color: rgb(0, 68, 27);\"></td></tr></tbody></table>"
       ],
       "metadata": {},
       "output_type": "display_data",
       "text": [
        "<IPython.core.display.HTML at 0x105be04d0>"
       ]
      },
      {
       "output_type": "stream",
       "stream": "stdout",
       "text": [
        "PiYG\n"
       ]
      },
      {
       "html": [
        "<style type=\"text/css\">table.blockgrid {border: none;} .blockgrid tr {border: none;} .blockgrid td {padding: 0px;} #blocks896e466b-605b-44c6-9043-09cd8cac3081 td {border: 1px solid white;}</style><table id=\"blocks896e466b-605b-44c6-9043-09cd8cac3081\" class=\"blockgrid\"><tbody><tr><td title=\"Index: [0, 0]&#10;Color: (142, 1, 82)\" style=\"width: 100px; height: 100px;background-color: rgb(142, 1, 82);\"></td><td title=\"Index: [0, 1]&#10;Color: (197, 27, 125)\" style=\"width: 100px; height: 100px;background-color: rgb(197, 27, 125);\"></td><td title=\"Index: [0, 2]&#10;Color: (222, 119, 174)\" style=\"width: 100px; height: 100px;background-color: rgb(222, 119, 174);\"></td><td title=\"Index: [0, 3]&#10;Color: (241, 182, 218)\" style=\"width: 100px; height: 100px;background-color: rgb(241, 182, 218);\"></td><td title=\"Index: [0, 4]&#10;Color: (253, 224, 239)\" style=\"width: 100px; height: 100px;background-color: rgb(253, 224, 239);\"></td><td title=\"Index: [0, 5]&#10;Color: (247, 247, 247)\" style=\"width: 100px; height: 100px;background-color: rgb(247, 247, 247);\"></td><td title=\"Index: [0, 6]&#10;Color: (230, 245, 208)\" style=\"width: 100px; height: 100px;background-color: rgb(230, 245, 208);\"></td><td title=\"Index: [0, 7]&#10;Color: (184, 225, 134)\" style=\"width: 100px; height: 100px;background-color: rgb(184, 225, 134);\"></td><td title=\"Index: [0, 8]&#10;Color: (127, 188, 65)\" style=\"width: 100px; height: 100px;background-color: rgb(127, 188, 65);\"></td><td title=\"Index: [0, 9]&#10;Color: (77, 146, 33)\" style=\"width: 100px; height: 100px;background-color: rgb(77, 146, 33);\"></td><td title=\"Index: [0, 10]&#10;Color: (39, 100, 25)\" style=\"width: 100px; height: 100px;background-color: rgb(39, 100, 25);\"></td></tr></tbody></table>"
       ],
       "metadata": {},
       "output_type": "display_data",
       "text": [
        "<IPython.core.display.HTML at 0x105be04d0>"
       ]
      },
      {
       "output_type": "stream",
       "stream": "stdout",
       "text": [
        "PuOr\n"
       ]
      },
      {
       "html": [
        "<style type=\"text/css\">table.blockgrid {border: none;} .blockgrid tr {border: none;} .blockgrid td {padding: 0px;} #blocks64a39193-c421-4daa-b116-335ca9c57089 td {border: 1px solid white;}</style><table id=\"blocks64a39193-c421-4daa-b116-335ca9c57089\" class=\"blockgrid\"><tbody><tr><td title=\"Index: [0, 0]&#10;Color: (127, 59, 8)\" style=\"width: 100px; height: 100px;background-color: rgb(127, 59, 8);\"></td><td title=\"Index: [0, 1]&#10;Color: (179, 88, 6)\" style=\"width: 100px; height: 100px;background-color: rgb(179, 88, 6);\"></td><td title=\"Index: [0, 2]&#10;Color: (224, 130, 20)\" style=\"width: 100px; height: 100px;background-color: rgb(224, 130, 20);\"></td><td title=\"Index: [0, 3]&#10;Color: (253, 184, 99)\" style=\"width: 100px; height: 100px;background-color: rgb(253, 184, 99);\"></td><td title=\"Index: [0, 4]&#10;Color: (254, 224, 182)\" style=\"width: 100px; height: 100px;background-color: rgb(254, 224, 182);\"></td><td title=\"Index: [0, 5]&#10;Color: (247, 247, 247)\" style=\"width: 100px; height: 100px;background-color: rgb(247, 247, 247);\"></td><td title=\"Index: [0, 6]&#10;Color: (216, 218, 235)\" style=\"width: 100px; height: 100px;background-color: rgb(216, 218, 235);\"></td><td title=\"Index: [0, 7]&#10;Color: (178, 171, 210)\" style=\"width: 100px; height: 100px;background-color: rgb(178, 171, 210);\"></td><td title=\"Index: [0, 8]&#10;Color: (128, 115, 172)\" style=\"width: 100px; height: 100px;background-color: rgb(128, 115, 172);\"></td><td title=\"Index: [0, 9]&#10;Color: (84, 39, 136)\" style=\"width: 100px; height: 100px;background-color: rgb(84, 39, 136);\"></td><td title=\"Index: [0, 10]&#10;Color: (45, 0, 75)\" style=\"width: 100px; height: 100px;background-color: rgb(45, 0, 75);\"></td></tr></tbody></table>"
       ],
       "metadata": {},
       "output_type": "display_data",
       "text": [
        "<IPython.core.display.HTML at 0x105be04d0>"
       ]
      },
      {
       "output_type": "stream",
       "stream": "stdout",
       "text": [
        "RdBu\n"
       ]
      },
      {
       "html": [
        "<style type=\"text/css\">table.blockgrid {border: none;} .blockgrid tr {border: none;} .blockgrid td {padding: 0px;} #blocksa54ae1fd-2fc9-4eea-912f-2817bc089c92 td {border: 1px solid white;}</style><table id=\"blocksa54ae1fd-2fc9-4eea-912f-2817bc089c92\" class=\"blockgrid\"><tbody><tr><td title=\"Index: [0, 0]&#10;Color: (103, 0, 31)\" style=\"width: 100px; height: 100px;background-color: rgb(103, 0, 31);\"></td><td title=\"Index: [0, 1]&#10;Color: (178, 24, 43)\" style=\"width: 100px; height: 100px;background-color: rgb(178, 24, 43);\"></td><td title=\"Index: [0, 2]&#10;Color: (214, 96, 77)\" style=\"width: 100px; height: 100px;background-color: rgb(214, 96, 77);\"></td><td title=\"Index: [0, 3]&#10;Color: (244, 165, 130)\" style=\"width: 100px; height: 100px;background-color: rgb(244, 165, 130);\"></td><td title=\"Index: [0, 4]&#10;Color: (253, 219, 199)\" style=\"width: 100px; height: 100px;background-color: rgb(253, 219, 199);\"></td><td title=\"Index: [0, 5]&#10;Color: (247, 247, 247)\" style=\"width: 100px; height: 100px;background-color: rgb(247, 247, 247);\"></td><td title=\"Index: [0, 6]&#10;Color: (209, 229, 240)\" style=\"width: 100px; height: 100px;background-color: rgb(209, 229, 240);\"></td><td title=\"Index: [0, 7]&#10;Color: (146, 197, 222)\" style=\"width: 100px; height: 100px;background-color: rgb(146, 197, 222);\"></td><td title=\"Index: [0, 8]&#10;Color: (67, 147, 195)\" style=\"width: 100px; height: 100px;background-color: rgb(67, 147, 195);\"></td><td title=\"Index: [0, 9]&#10;Color: (33, 102, 172)\" style=\"width: 100px; height: 100px;background-color: rgb(33, 102, 172);\"></td><td title=\"Index: [0, 10]&#10;Color: (5, 48, 97)\" style=\"width: 100px; height: 100px;background-color: rgb(5, 48, 97);\"></td></tr></tbody></table>"
       ],
       "metadata": {},
       "output_type": "display_data",
       "text": [
        "<IPython.core.display.HTML at 0x105be04d0>"
       ]
      },
      {
       "output_type": "stream",
       "stream": "stdout",
       "text": [
        "RdGy\n"
       ]
      },
      {
       "html": [
        "<style type=\"text/css\">table.blockgrid {border: none;} .blockgrid tr {border: none;} .blockgrid td {padding: 0px;} #blockscbea749c-b093-4008-993e-7a4314a119cc td {border: 1px solid white;}</style><table id=\"blockscbea749c-b093-4008-993e-7a4314a119cc\" class=\"blockgrid\"><tbody><tr><td title=\"Index: [0, 0]&#10;Color: (103, 0, 31)\" style=\"width: 100px; height: 100px;background-color: rgb(103, 0, 31);\"></td><td title=\"Index: [0, 1]&#10;Color: (178, 24, 43)\" style=\"width: 100px; height: 100px;background-color: rgb(178, 24, 43);\"></td><td title=\"Index: [0, 2]&#10;Color: (214, 96, 77)\" style=\"width: 100px; height: 100px;background-color: rgb(214, 96, 77);\"></td><td title=\"Index: [0, 3]&#10;Color: (244, 165, 130)\" style=\"width: 100px; height: 100px;background-color: rgb(244, 165, 130);\"></td><td title=\"Index: [0, 4]&#10;Color: (253, 219, 199)\" style=\"width: 100px; height: 100px;background-color: rgb(253, 219, 199);\"></td><td title=\"Index: [0, 5]&#10;Color: (255, 255, 255)\" style=\"width: 100px; height: 100px;background-color: rgb(255, 255, 255);\"></td><td title=\"Index: [0, 6]&#10;Color: (224, 224, 224)\" style=\"width: 100px; height: 100px;background-color: rgb(224, 224, 224);\"></td><td title=\"Index: [0, 7]&#10;Color: (186, 186, 186)\" style=\"width: 100px; height: 100px;background-color: rgb(186, 186, 186);\"></td><td title=\"Index: [0, 8]&#10;Color: (135, 135, 135)\" style=\"width: 100px; height: 100px;background-color: rgb(135, 135, 135);\"></td><td title=\"Index: [0, 9]&#10;Color: (77, 77, 77)\" style=\"width: 100px; height: 100px;background-color: rgb(77, 77, 77);\"></td><td title=\"Index: [0, 10]&#10;Color: (26, 26, 26)\" style=\"width: 100px; height: 100px;background-color: rgb(26, 26, 26);\"></td></tr></tbody></table>"
       ],
       "metadata": {},
       "output_type": "display_data",
       "text": [
        "<IPython.core.display.HTML at 0x105be04d0>"
       ]
      },
      {
       "output_type": "stream",
       "stream": "stdout",
       "text": [
        "RdYlBu\n"
       ]
      },
      {
       "html": [
        "<style type=\"text/css\">table.blockgrid {border: none;} .blockgrid tr {border: none;} .blockgrid td {padding: 0px;} #blocks3af19c86-fd75-4d5d-ab01-08097d944ad2 td {border: 1px solid white;}</style><table id=\"blocks3af19c86-fd75-4d5d-ab01-08097d944ad2\" class=\"blockgrid\"><tbody><tr><td title=\"Index: [0, 0]&#10;Color: (165, 0, 38)\" style=\"width: 100px; height: 100px;background-color: rgb(165, 0, 38);\"></td><td title=\"Index: [0, 1]&#10;Color: (215, 48, 39)\" style=\"width: 100px; height: 100px;background-color: rgb(215, 48, 39);\"></td><td title=\"Index: [0, 2]&#10;Color: (244, 109, 67)\" style=\"width: 100px; height: 100px;background-color: rgb(244, 109, 67);\"></td><td title=\"Index: [0, 3]&#10;Color: (253, 174, 97)\" style=\"width: 100px; height: 100px;background-color: rgb(253, 174, 97);\"></td><td title=\"Index: [0, 4]&#10;Color: (254, 224, 144)\" style=\"width: 100px; height: 100px;background-color: rgb(254, 224, 144);\"></td><td title=\"Index: [0, 5]&#10;Color: (255, 255, 191)\" style=\"width: 100px; height: 100px;background-color: rgb(255, 255, 191);\"></td><td title=\"Index: [0, 6]&#10;Color: (224, 243, 248)\" style=\"width: 100px; height: 100px;background-color: rgb(224, 243, 248);\"></td><td title=\"Index: [0, 7]&#10;Color: (171, 217, 233)\" style=\"width: 100px; height: 100px;background-color: rgb(171, 217, 233);\"></td><td title=\"Index: [0, 8]&#10;Color: (116, 173, 209)\" style=\"width: 100px; height: 100px;background-color: rgb(116, 173, 209);\"></td><td title=\"Index: [0, 9]&#10;Color: (69, 117, 180)\" style=\"width: 100px; height: 100px;background-color: rgb(69, 117, 180);\"></td><td title=\"Index: [0, 10]&#10;Color: (49, 54, 149)\" style=\"width: 100px; height: 100px;background-color: rgb(49, 54, 149);\"></td></tr></tbody></table>"
       ],
       "metadata": {},
       "output_type": "display_data",
       "text": [
        "<IPython.core.display.HTML at 0x105be04d0>"
       ]
      },
      {
       "output_type": "stream",
       "stream": "stdout",
       "text": [
        "RdYlGn\n"
       ]
      },
      {
       "html": [
        "<style type=\"text/css\">table.blockgrid {border: none;} .blockgrid tr {border: none;} .blockgrid td {padding: 0px;} #blocks7c436641-56eb-4ddc-a6d5-fad279698486 td {border: 1px solid white;}</style><table id=\"blocks7c436641-56eb-4ddc-a6d5-fad279698486\" class=\"blockgrid\"><tbody><tr><td title=\"Index: [0, 0]&#10;Color: (165, 0, 38)\" style=\"width: 100px; height: 100px;background-color: rgb(165, 0, 38);\"></td><td title=\"Index: [0, 1]&#10;Color: (215, 48, 39)\" style=\"width: 100px; height: 100px;background-color: rgb(215, 48, 39);\"></td><td title=\"Index: [0, 2]&#10;Color: (244, 109, 67)\" style=\"width: 100px; height: 100px;background-color: rgb(244, 109, 67);\"></td><td title=\"Index: [0, 3]&#10;Color: (253, 174, 97)\" style=\"width: 100px; height: 100px;background-color: rgb(253, 174, 97);\"></td><td title=\"Index: [0, 4]&#10;Color: (254, 224, 139)\" style=\"width: 100px; height: 100px;background-color: rgb(254, 224, 139);\"></td><td title=\"Index: [0, 5]&#10;Color: (255, 255, 191)\" style=\"width: 100px; height: 100px;background-color: rgb(255, 255, 191);\"></td><td title=\"Index: [0, 6]&#10;Color: (217, 239, 139)\" style=\"width: 100px; height: 100px;background-color: rgb(217, 239, 139);\"></td><td title=\"Index: [0, 7]&#10;Color: (166, 217, 106)\" style=\"width: 100px; height: 100px;background-color: rgb(166, 217, 106);\"></td><td title=\"Index: [0, 8]&#10;Color: (102, 189, 99)\" style=\"width: 100px; height: 100px;background-color: rgb(102, 189, 99);\"></td><td title=\"Index: [0, 9]&#10;Color: (26, 152, 80)\" style=\"width: 100px; height: 100px;background-color: rgb(26, 152, 80);\"></td><td title=\"Index: [0, 10]&#10;Color: (0, 104, 55)\" style=\"width: 100px; height: 100px;background-color: rgb(0, 104, 55);\"></td></tr></tbody></table>"
       ],
       "metadata": {},
       "output_type": "display_data",
       "text": [
        "<IPython.core.display.HTML at 0x105be04d0>"
       ]
      },
      {
       "output_type": "stream",
       "stream": "stdout",
       "text": [
        "Spectral\n"
       ]
      },
      {
       "html": [
        "<style type=\"text/css\">table.blockgrid {border: none;} .blockgrid tr {border: none;} .blockgrid td {padding: 0px;} #blocks433374c4-a641-4117-a40c-4aec780e2335 td {border: 1px solid white;}</style><table id=\"blocks433374c4-a641-4117-a40c-4aec780e2335\" class=\"blockgrid\"><tbody><tr><td title=\"Index: [0, 0]&#10;Color: (158, 1, 66)\" style=\"width: 100px; height: 100px;background-color: rgb(158, 1, 66);\"></td><td title=\"Index: [0, 1]&#10;Color: (213, 62, 79)\" style=\"width: 100px; height: 100px;background-color: rgb(213, 62, 79);\"></td><td title=\"Index: [0, 2]&#10;Color: (244, 109, 67)\" style=\"width: 100px; height: 100px;background-color: rgb(244, 109, 67);\"></td><td title=\"Index: [0, 3]&#10;Color: (253, 174, 97)\" style=\"width: 100px; height: 100px;background-color: rgb(253, 174, 97);\"></td><td title=\"Index: [0, 4]&#10;Color: (254, 224, 139)\" style=\"width: 100px; height: 100px;background-color: rgb(254, 224, 139);\"></td><td title=\"Index: [0, 5]&#10;Color: (255, 255, 191)\" style=\"width: 100px; height: 100px;background-color: rgb(255, 255, 191);\"></td><td title=\"Index: [0, 6]&#10;Color: (230, 245, 152)\" style=\"width: 100px; height: 100px;background-color: rgb(230, 245, 152);\"></td><td title=\"Index: [0, 7]&#10;Color: (171, 221, 164)\" style=\"width: 100px; height: 100px;background-color: rgb(171, 221, 164);\"></td><td title=\"Index: [0, 8]&#10;Color: (102, 194, 165)\" style=\"width: 100px; height: 100px;background-color: rgb(102, 194, 165);\"></td><td title=\"Index: [0, 9]&#10;Color: (50, 136, 189)\" style=\"width: 100px; height: 100px;background-color: rgb(50, 136, 189);\"></td><td title=\"Index: [0, 10]&#10;Color: (94, 79, 162)\" style=\"width: 100px; height: 100px;background-color: rgb(94, 79, 162);\"></td></tr></tbody></table>"
       ],
       "metadata": {},
       "output_type": "display_data",
       "text": [
        "<IPython.core.display.HTML at 0x105be04d0>"
       ]
      }
     ],
     "prompt_number": 23
    },
    {
     "cell_type": "heading",
     "level": 1,
     "metadata": {},
     "source": [
      "Color Brewer Qualitative"
     ]
    },
    {
     "cell_type": "code",
     "collapsed": false,
     "input": [
      "display_maps(qualitative)"
     ],
     "language": "python",
     "metadata": {},
     "outputs": [
      {
       "output_type": "stream",
       "stream": "stdout",
       "text": [
        "Accent\n"
       ]
      },
      {
       "html": [
        "<style type=\"text/css\">table.blockgrid {border: none;} .blockgrid tr {border: none;} .blockgrid td {padding: 0px;} #blocks1d94c7d4-453c-4152-9194-7f197ac97844 td {border: 1px solid white;}</style><table id=\"blocks1d94c7d4-453c-4152-9194-7f197ac97844\" class=\"blockgrid\"><tbody><tr><td title=\"Index: [0, 0]&#10;Color: (127, 201, 127)\" style=\"width: 100px; height: 100px;background-color: rgb(127, 201, 127);\"></td><td title=\"Index: [0, 1]&#10;Color: (190, 174, 212)\" style=\"width: 100px; height: 100px;background-color: rgb(190, 174, 212);\"></td><td title=\"Index: [0, 2]&#10;Color: (253, 192, 134)\" style=\"width: 100px; height: 100px;background-color: rgb(253, 192, 134);\"></td><td title=\"Index: [0, 3]&#10;Color: (255, 255, 153)\" style=\"width: 100px; height: 100px;background-color: rgb(255, 255, 153);\"></td><td title=\"Index: [0, 4]&#10;Color: (56, 108, 176)\" style=\"width: 100px; height: 100px;background-color: rgb(56, 108, 176);\"></td><td title=\"Index: [0, 5]&#10;Color: (240, 2, 127)\" style=\"width: 100px; height: 100px;background-color: rgb(240, 2, 127);\"></td><td title=\"Index: [0, 6]&#10;Color: (191, 91, 23)\" style=\"width: 100px; height: 100px;background-color: rgb(191, 91, 23);\"></td><td title=\"Index: [0, 7]&#10;Color: (102, 102, 102)\" style=\"width: 100px; height: 100px;background-color: rgb(102, 102, 102);\"></td></tr></tbody></table>"
       ],
       "metadata": {},
       "output_type": "display_data",
       "text": [
        "<IPython.core.display.HTML at 0x105be0650>"
       ]
      },
      {
       "output_type": "stream",
       "stream": "stdout",
       "text": [
        "Dark2\n"
       ]
      },
      {
       "html": [
        "<style type=\"text/css\">table.blockgrid {border: none;} .blockgrid tr {border: none;} .blockgrid td {padding: 0px;} #blocksa7745881-6304-4e31-b3bc-88e9e11dcc20 td {border: 1px solid white;}</style><table id=\"blocksa7745881-6304-4e31-b3bc-88e9e11dcc20\" class=\"blockgrid\"><tbody><tr><td title=\"Index: [0, 0]&#10;Color: (27, 158, 119)\" style=\"width: 100px; height: 100px;background-color: rgb(27, 158, 119);\"></td><td title=\"Index: [0, 1]&#10;Color: (217, 95, 2)\" style=\"width: 100px; height: 100px;background-color: rgb(217, 95, 2);\"></td><td title=\"Index: [0, 2]&#10;Color: (117, 112, 179)\" style=\"width: 100px; height: 100px;background-color: rgb(117, 112, 179);\"></td><td title=\"Index: [0, 3]&#10;Color: (231, 41, 138)\" style=\"width: 100px; height: 100px;background-color: rgb(231, 41, 138);\"></td><td title=\"Index: [0, 4]&#10;Color: (102, 166, 30)\" style=\"width: 100px; height: 100px;background-color: rgb(102, 166, 30);\"></td><td title=\"Index: [0, 5]&#10;Color: (230, 171, 2)\" style=\"width: 100px; height: 100px;background-color: rgb(230, 171, 2);\"></td><td title=\"Index: [0, 6]&#10;Color: (166, 118, 29)\" style=\"width: 100px; height: 100px;background-color: rgb(166, 118, 29);\"></td><td title=\"Index: [0, 7]&#10;Color: (102, 102, 102)\" style=\"width: 100px; height: 100px;background-color: rgb(102, 102, 102);\"></td></tr></tbody></table>"
       ],
       "metadata": {},
       "output_type": "display_data",
       "text": [
        "<IPython.core.display.HTML at 0x105be0510>"
       ]
      },
      {
       "output_type": "stream",
       "stream": "stdout",
       "text": [
        "Paired\n"
       ]
      },
      {
       "html": [
        "<style type=\"text/css\">table.blockgrid {border: none;} .blockgrid tr {border: none;} .blockgrid td {padding: 0px;} #blocks8e7339e4-4709-4734-b84e-dc62f1e9d7a3 td {border: 1px solid white;}</style><table id=\"blocks8e7339e4-4709-4734-b84e-dc62f1e9d7a3\" class=\"blockgrid\"><tbody><tr><td title=\"Index: [0, 0]&#10;Color: (166, 206, 227)\" style=\"width: 100px; height: 100px;background-color: rgb(166, 206, 227);\"></td><td title=\"Index: [0, 1]&#10;Color: (31, 120, 180)\" style=\"width: 100px; height: 100px;background-color: rgb(31, 120, 180);\"></td><td title=\"Index: [0, 2]&#10;Color: (178, 223, 138)\" style=\"width: 100px; height: 100px;background-color: rgb(178, 223, 138);\"></td><td title=\"Index: [0, 3]&#10;Color: (51, 160, 44)\" style=\"width: 100px; height: 100px;background-color: rgb(51, 160, 44);\"></td><td title=\"Index: [0, 4]&#10;Color: (251, 154, 153)\" style=\"width: 100px; height: 100px;background-color: rgb(251, 154, 153);\"></td><td title=\"Index: [0, 5]&#10;Color: (227, 26, 28)\" style=\"width: 100px; height: 100px;background-color: rgb(227, 26, 28);\"></td><td title=\"Index: [0, 6]&#10;Color: (253, 191, 111)\" style=\"width: 100px; height: 100px;background-color: rgb(253, 191, 111);\"></td><td title=\"Index: [0, 7]&#10;Color: (255, 127, 0)\" style=\"width: 100px; height: 100px;background-color: rgb(255, 127, 0);\"></td><td title=\"Index: [0, 8]&#10;Color: (202, 178, 214)\" style=\"width: 100px; height: 100px;background-color: rgb(202, 178, 214);\"></td><td title=\"Index: [0, 9]&#10;Color: (106, 61, 154)\" style=\"width: 100px; height: 100px;background-color: rgb(106, 61, 154);\"></td><td title=\"Index: [0, 10]&#10;Color: (255, 255, 153)\" style=\"width: 100px; height: 100px;background-color: rgb(255, 255, 153);\"></td><td title=\"Index: [0, 11]&#10;Color: (177, 89, 40)\" style=\"width: 100px; height: 100px;background-color: rgb(177, 89, 40);\"></td></tr></tbody></table>"
       ],
       "metadata": {},
       "output_type": "display_data",
       "text": [
        "<IPython.core.display.HTML at 0x105be0250>"
       ]
      },
      {
       "output_type": "stream",
       "stream": "stdout",
       "text": [
        "Pastel1\n"
       ]
      },
      {
       "html": [
        "<style type=\"text/css\">table.blockgrid {border: none;} .blockgrid tr {border: none;} .blockgrid td {padding: 0px;} #blocks7e6b5e54-f345-4467-b137-85839b407d5d td {border: 1px solid white;}</style><table id=\"blocks7e6b5e54-f345-4467-b137-85839b407d5d\" class=\"blockgrid\"><tbody><tr><td title=\"Index: [0, 0]&#10;Color: (251, 180, 174)\" style=\"width: 100px; height: 100px;background-color: rgb(251, 180, 174);\"></td><td title=\"Index: [0, 1]&#10;Color: (179, 205, 227)\" style=\"width: 100px; height: 100px;background-color: rgb(179, 205, 227);\"></td><td title=\"Index: [0, 2]&#10;Color: (204, 235, 197)\" style=\"width: 100px; height: 100px;background-color: rgb(204, 235, 197);\"></td><td title=\"Index: [0, 3]&#10;Color: (222, 203, 228)\" style=\"width: 100px; height: 100px;background-color: rgb(222, 203, 228);\"></td><td title=\"Index: [0, 4]&#10;Color: (254, 217, 166)\" style=\"width: 100px; height: 100px;background-color: rgb(254, 217, 166);\"></td><td title=\"Index: [0, 5]&#10;Color: (255, 255, 204)\" style=\"width: 100px; height: 100px;background-color: rgb(255, 255, 204);\"></td><td title=\"Index: [0, 6]&#10;Color: (229, 216, 189)\" style=\"width: 100px; height: 100px;background-color: rgb(229, 216, 189);\"></td><td title=\"Index: [0, 7]&#10;Color: (253, 218, 236)\" style=\"width: 100px; height: 100px;background-color: rgb(253, 218, 236);\"></td><td title=\"Index: [0, 8]&#10;Color: (242, 242, 242)\" style=\"width: 100px; height: 100px;background-color: rgb(242, 242, 242);\"></td></tr></tbody></table>"
       ],
       "metadata": {},
       "output_type": "display_data",
       "text": [
        "<IPython.core.display.HTML at 0x105be0510>"
       ]
      },
      {
       "output_type": "stream",
       "stream": "stdout",
       "text": [
        "Pastel2\n"
       ]
      },
      {
       "html": [
        "<style type=\"text/css\">table.blockgrid {border: none;} .blockgrid tr {border: none;} .blockgrid td {padding: 0px;} #blocksf01a4890-4d94-4760-ac9f-ea5add12e906 td {border: 1px solid white;}</style><table id=\"blocksf01a4890-4d94-4760-ac9f-ea5add12e906\" class=\"blockgrid\"><tbody><tr><td title=\"Index: [0, 0]&#10;Color: (179, 226, 205)\" style=\"width: 100px; height: 100px;background-color: rgb(179, 226, 205);\"></td><td title=\"Index: [0, 1]&#10;Color: (253, 205, 172)\" style=\"width: 100px; height: 100px;background-color: rgb(253, 205, 172);\"></td><td title=\"Index: [0, 2]&#10;Color: (203, 213, 232)\" style=\"width: 100px; height: 100px;background-color: rgb(203, 213, 232);\"></td><td title=\"Index: [0, 3]&#10;Color: (244, 202, 228)\" style=\"width: 100px; height: 100px;background-color: rgb(244, 202, 228);\"></td><td title=\"Index: [0, 4]&#10;Color: (230, 245, 201)\" style=\"width: 100px; height: 100px;background-color: rgb(230, 245, 201);\"></td><td title=\"Index: [0, 5]&#10;Color: (255, 242, 174)\" style=\"width: 100px; height: 100px;background-color: rgb(255, 242, 174);\"></td><td title=\"Index: [0, 6]&#10;Color: (241, 226, 204)\" style=\"width: 100px; height: 100px;background-color: rgb(241, 226, 204);\"></td><td title=\"Index: [0, 7]&#10;Color: (204, 204, 204)\" style=\"width: 100px; height: 100px;background-color: rgb(204, 204, 204);\"></td></tr></tbody></table>"
       ],
       "metadata": {},
       "output_type": "display_data",
       "text": [
        "<IPython.core.display.HTML at 0x105be02d0>"
       ]
      },
      {
       "output_type": "stream",
       "stream": "stdout",
       "text": [
        "Set1\n"
       ]
      },
      {
       "html": [
        "<style type=\"text/css\">table.blockgrid {border: none;} .blockgrid tr {border: none;} .blockgrid td {padding: 0px;} #blocksad3837ea-5c3d-4ca1-803f-6c2c00ca48c2 td {border: 1px solid white;}</style><table id=\"blocksad3837ea-5c3d-4ca1-803f-6c2c00ca48c2\" class=\"blockgrid\"><tbody><tr><td title=\"Index: [0, 0]&#10;Color: (228, 26, 28)\" style=\"width: 100px; height: 100px;background-color: rgb(228, 26, 28);\"></td><td title=\"Index: [0, 1]&#10;Color: (55, 126, 184)\" style=\"width: 100px; height: 100px;background-color: rgb(55, 126, 184);\"></td><td title=\"Index: [0, 2]&#10;Color: (77, 175, 74)\" style=\"width: 100px; height: 100px;background-color: rgb(77, 175, 74);\"></td><td title=\"Index: [0, 3]&#10;Color: (152, 78, 163)\" style=\"width: 100px; height: 100px;background-color: rgb(152, 78, 163);\"></td><td title=\"Index: [0, 4]&#10;Color: (255, 127, 0)\" style=\"width: 100px; height: 100px;background-color: rgb(255, 127, 0);\"></td><td title=\"Index: [0, 5]&#10;Color: (255, 255, 51)\" style=\"width: 100px; height: 100px;background-color: rgb(255, 255, 51);\"></td><td title=\"Index: [0, 6]&#10;Color: (166, 86, 40)\" style=\"width: 100px; height: 100px;background-color: rgb(166, 86, 40);\"></td><td title=\"Index: [0, 7]&#10;Color: (247, 129, 191)\" style=\"width: 100px; height: 100px;background-color: rgb(247, 129, 191);\"></td><td title=\"Index: [0, 8]&#10;Color: (153, 153, 153)\" style=\"width: 100px; height: 100px;background-color: rgb(153, 153, 153);\"></td></tr></tbody></table>"
       ],
       "metadata": {},
       "output_type": "display_data",
       "text": [
        "<IPython.core.display.HTML at 0x105be0510>"
       ]
      },
      {
       "output_type": "stream",
       "stream": "stdout",
       "text": [
        "Set2\n"
       ]
      },
      {
       "html": [
        "<style type=\"text/css\">table.blockgrid {border: none;} .blockgrid tr {border: none;} .blockgrid td {padding: 0px;} #blocks715c16b2-c51b-4620-885e-5f544e1bd624 td {border: 1px solid white;}</style><table id=\"blocks715c16b2-c51b-4620-885e-5f544e1bd624\" class=\"blockgrid\"><tbody><tr><td title=\"Index: [0, 0]&#10;Color: (102, 194, 165)\" style=\"width: 100px; height: 100px;background-color: rgb(102, 194, 165);\"></td><td title=\"Index: [0, 1]&#10;Color: (252, 141, 98)\" style=\"width: 100px; height: 100px;background-color: rgb(252, 141, 98);\"></td><td title=\"Index: [0, 2]&#10;Color: (141, 160, 203)\" style=\"width: 100px; height: 100px;background-color: rgb(141, 160, 203);\"></td><td title=\"Index: [0, 3]&#10;Color: (231, 138, 195)\" style=\"width: 100px; height: 100px;background-color: rgb(231, 138, 195);\"></td><td title=\"Index: [0, 4]&#10;Color: (166, 216, 84)\" style=\"width: 100px; height: 100px;background-color: rgb(166, 216, 84);\"></td><td title=\"Index: [0, 5]&#10;Color: (255, 217, 47)\" style=\"width: 100px; height: 100px;background-color: rgb(255, 217, 47);\"></td><td title=\"Index: [0, 6]&#10;Color: (229, 196, 148)\" style=\"width: 100px; height: 100px;background-color: rgb(229, 196, 148);\"></td><td title=\"Index: [0, 7]&#10;Color: (179, 179, 179)\" style=\"width: 100px; height: 100px;background-color: rgb(179, 179, 179);\"></td></tr></tbody></table>"
       ],
       "metadata": {},
       "output_type": "display_data",
       "text": [
        "<IPython.core.display.HTML at 0x105be0610>"
       ]
      },
      {
       "output_type": "stream",
       "stream": "stdout",
       "text": [
        "Set3\n"
       ]
      },
      {
       "html": [
        "<style type=\"text/css\">table.blockgrid {border: none;} .blockgrid tr {border: none;} .blockgrid td {padding: 0px;} #blocks58c6f3b5-22e7-4e78-90b6-3c943efabecf td {border: 1px solid white;}</style><table id=\"blocks58c6f3b5-22e7-4e78-90b6-3c943efabecf\" class=\"blockgrid\"><tbody><tr><td title=\"Index: [0, 0]&#10;Color: (141, 211, 199)\" style=\"width: 100px; height: 100px;background-color: rgb(141, 211, 199);\"></td><td title=\"Index: [0, 1]&#10;Color: (255, 255, 179)\" style=\"width: 100px; height: 100px;background-color: rgb(255, 255, 179);\"></td><td title=\"Index: [0, 2]&#10;Color: (190, 186, 218)\" style=\"width: 100px; height: 100px;background-color: rgb(190, 186, 218);\"></td><td title=\"Index: [0, 3]&#10;Color: (251, 128, 114)\" style=\"width: 100px; height: 100px;background-color: rgb(251, 128, 114);\"></td><td title=\"Index: [0, 4]&#10;Color: (128, 177, 211)\" style=\"width: 100px; height: 100px;background-color: rgb(128, 177, 211);\"></td><td title=\"Index: [0, 5]&#10;Color: (253, 180, 98)\" style=\"width: 100px; height: 100px;background-color: rgb(253, 180, 98);\"></td><td title=\"Index: [0, 6]&#10;Color: (179, 222, 105)\" style=\"width: 100px; height: 100px;background-color: rgb(179, 222, 105);\"></td><td title=\"Index: [0, 7]&#10;Color: (252, 205, 229)\" style=\"width: 100px; height: 100px;background-color: rgb(252, 205, 229);\"></td><td title=\"Index: [0, 8]&#10;Color: (217, 217, 217)\" style=\"width: 100px; height: 100px;background-color: rgb(217, 217, 217);\"></td><td title=\"Index: [0, 9]&#10;Color: (188, 128, 189)\" style=\"width: 100px; height: 100px;background-color: rgb(188, 128, 189);\"></td><td title=\"Index: [0, 10]&#10;Color: (204, 235, 197)\" style=\"width: 100px; height: 100px;background-color: rgb(204, 235, 197);\"></td><td title=\"Index: [0, 11]&#10;Color: (255, 237, 111)\" style=\"width: 100px; height: 100px;background-color: rgb(255, 237, 111);\"></td></tr></tbody></table>"
       ],
       "metadata": {},
       "output_type": "display_data",
       "text": [
        "<IPython.core.display.HTML at 0x105be0410>"
       ]
      }
     ],
     "prompt_number": 24
    },
    {
     "cell_type": "heading",
     "level": 1,
     "metadata": {},
     "source": [
      "Wes Anderson"
     ]
    },
    {
     "cell_type": "markdown",
     "metadata": {},
     "source": [
      "Via http://wesandersonpalettes.tumblr.com/."
     ]
    },
    {
     "cell_type": "code",
     "collapsed": false,
     "input": [
      "display_maps(wesanderson)"
     ],
     "language": "python",
     "metadata": {},
     "outputs": [
      {
       "output_type": "stream",
       "stream": "stdout",
       "text": [
        "Cavalcanti\n"
       ]
      },
      {
       "html": [
        "<style type=\"text/css\">table.blockgrid {border: none;} .blockgrid tr {border: none;} .blockgrid td {padding: 0px;} #blockse9f087c8-15fe-4d54-84d5-1c547f64c015 td {border: 1px solid white;}</style><table id=\"blockse9f087c8-15fe-4d54-84d5-1c547f64c015\" class=\"blockgrid\"><tbody><tr><td title=\"Index: [0, 0]&#10;Color: (209, 170, 0)\" style=\"width: 100px; height: 100px;background-color: rgb(209, 170, 0);\"></td><td title=\"Index: [0, 1]&#10;Color: (8, 50, 19)\" style=\"width: 100px; height: 100px;background-color: rgb(8, 50, 19);\"></td><td title=\"Index: [0, 2]&#10;Color: (146, 148, 96)\" style=\"width: 100px; height: 100px;background-color: rgb(146, 148, 96);\"></td><td title=\"Index: [0, 3]&#10;Color: (111, 152, 121)\" style=\"width: 100px; height: 100px;background-color: rgb(111, 152, 121);\"></td><td title=\"Index: [0, 4]&#10;Color: (132, 33, 17)\" style=\"width: 100px; height: 100px;background-color: rgb(132, 33, 17);\"></td></tr></tbody></table>"
       ],
       "metadata": {},
       "output_type": "display_data",
       "text": [
        "<IPython.core.display.HTML at 0x105b80e90>"
       ]
      },
      {
       "output_type": "stream",
       "stream": "stdout",
       "text": [
        "Chevalier\n"
       ]
      },
      {
       "html": [
        "<style type=\"text/css\">table.blockgrid {border: none;} .blockgrid tr {border: none;} .blockgrid td {padding: 0px;} #blocks256dd7f2-6a00-425d-877a-40e10270cb35 td {border: 1px solid white;}</style><table id=\"blocks256dd7f2-6a00-425d-877a-40e10270cb35\" class=\"blockgrid\"><tbody><tr><td title=\"Index: [0, 0]&#10;Color: (53, 82, 67)\" style=\"width: 100px; height: 100px;background-color: rgb(53, 82, 67);\"></td><td title=\"Index: [0, 1]&#10;Color: (254, 202, 73)\" style=\"width: 100px; height: 100px;background-color: rgb(254, 202, 73);\"></td><td title=\"Index: [0, 2]&#10;Color: (201, 213, 213)\" style=\"width: 100px; height: 100px;background-color: rgb(201, 213, 213);\"></td><td title=\"Index: [0, 3]&#10;Color: (187, 162, 137)\" style=\"width: 100px; height: 100px;background-color: rgb(187, 162, 137);\"></td></tr></tbody></table>"
       ],
       "metadata": {},
       "output_type": "display_data",
       "text": [
        "<IPython.core.display.HTML at 0x105b80d90>"
       ]
      },
      {
       "output_type": "stream",
       "stream": "stdout",
       "text": [
        "Darjeeling1\n"
       ]
      },
      {
       "html": [
        "<style type=\"text/css\">table.blockgrid {border: none;} .blockgrid tr {border: none;} .blockgrid td {padding: 0px;} #blocks6a184e9a-c9c7-4f74-adf4-51a7b0779191 td {border: 1px solid white;}</style><table id=\"blocks6a184e9a-c9c7-4f74-adf4-51a7b0779191\" class=\"blockgrid\"><tbody><tr><td title=\"Index: [0, 0]&#10;Color: (158, 151, 151)\" style=\"width: 100px; height: 100px;background-color: rgb(158, 151, 151);\"></td><td title=\"Index: [0, 1]&#10;Color: (194, 142, 0)\" style=\"width: 100px; height: 100px;background-color: rgb(194, 142, 0);\"></td><td title=\"Index: [0, 2]&#10;Color: (131, 102, 89)\" style=\"width: 100px; height: 100px;background-color: rgb(131, 102, 89);\"></td><td title=\"Index: [0, 3]&#10;Color: (156, 90, 51)\" style=\"width: 100px; height: 100px;background-color: rgb(156, 90, 51);\"></td></tr></tbody></table>"
       ],
       "metadata": {},
       "output_type": "display_data",
       "text": [
        "<IPython.core.display.HTML at 0x105b80d90>"
       ]
      },
      {
       "output_type": "stream",
       "stream": "stdout",
       "text": [
        "FantasticFox1\n"
       ]
      },
      {
       "html": [
        "<style type=\"text/css\">table.blockgrid {border: none;} .blockgrid tr {border: none;} .blockgrid td {padding: 0px;} #blocks2500de7e-e8db-40b4-9ead-b48c905808ef td {border: 1px solid white;}</style><table id=\"blocks2500de7e-e8db-40b4-9ead-b48c905808ef\" class=\"blockgrid\"><tbody><tr><td title=\"Index: [0, 0]&#10;Color: (249, 219, 32)\" style=\"width: 100px; height: 100px;background-color: rgb(249, 219, 32);\"></td><td title=\"Index: [0, 1]&#10;Color: (147, 75, 78)\" style=\"width: 100px; height: 100px;background-color: rgb(147, 75, 78);\"></td><td title=\"Index: [0, 2]&#10;Color: (66, 23, 13)\" style=\"width: 100px; height: 100px;background-color: rgb(66, 23, 13);\"></td><td title=\"Index: [0, 3]&#10;Color: (194, 121, 34)\" style=\"width: 100px; height: 100px;background-color: rgb(194, 121, 34);\"></td><td title=\"Index: [0, 4]&#10;Color: (226, 200, 167)\" style=\"width: 100px; height: 100px;background-color: rgb(226, 200, 167);\"></td></tr></tbody></table>"
       ],
       "metadata": {},
       "output_type": "display_data",
       "text": [
        "<IPython.core.display.HTML at 0x105b80e90>"
       ]
      },
      {
       "output_type": "stream",
       "stream": "stdout",
       "text": [
        "GrandBudapest1\n"
       ]
      },
      {
       "html": [
        "<style type=\"text/css\">table.blockgrid {border: none;} .blockgrid tr {border: none;} .blockgrid td {padding: 0px;} #blocks944beadc-b7bc-499b-9c07-3973110574a9 td {border: 1px solid white;}</style><table id=\"blocks944beadc-b7bc-499b-9c07-3973110574a9\" class=\"blockgrid\"><tbody><tr><td title=\"Index: [0, 0]&#10;Color: (238, 174, 101)\" style=\"width: 100px; height: 100px;background-color: rgb(238, 174, 101);\"></td><td title=\"Index: [0, 1]&#10;Color: (251, 79, 85)\" style=\"width: 100px; height: 100px;background-color: rgb(251, 79, 85);\"></td><td title=\"Index: [0, 2]&#10;Color: (72, 19, 19)\" style=\"width: 100px; height: 100px;background-color: rgb(72, 19, 19);\"></td><td title=\"Index: [0, 3]&#10;Color: (204, 95, 39)\" style=\"width: 100px; height: 100px;background-color: rgb(204, 95, 39);\"></td></tr></tbody></table>"
       ],
       "metadata": {},
       "output_type": "display_data",
       "text": [
        "<IPython.core.display.HTML at 0x105b80cd0>"
       ]
      },
      {
       "output_type": "stream",
       "stream": "stdout",
       "text": [
        "Margot1\n"
       ]
      },
      {
       "html": [
        "<style type=\"text/css\">table.blockgrid {border: none;} .blockgrid tr {border: none;} .blockgrid td {padding: 0px;} #blocks4e0d6446-1f59-4a44-b41f-92b696b7be4c td {border: 1px solid white;}</style><table id=\"blocks4e0d6446-1f59-4a44-b41f-92b696b7be4c\" class=\"blockgrid\"><tbody><tr><td title=\"Index: [0, 0]&#10;Color: (137, 119, 18)\" style=\"width: 100px; height: 100px;background-color: rgb(137, 119, 18);\"></td><td title=\"Index: [0, 1]&#10;Color: (243, 194, 164)\" style=\"width: 100px; height: 100px;background-color: rgb(243, 194, 164);\"></td><td title=\"Index: [0, 2]&#10;Color: (246, 159, 151)\" style=\"width: 100px; height: 100px;background-color: rgb(246, 159, 151);\"></td><td title=\"Index: [0, 3]&#10;Color: (254, 214, 140)\" style=\"width: 100px; height: 100px;background-color: rgb(254, 214, 140);\"></td><td title=\"Index: [0, 4]&#10;Color: (98, 144, 117)\" style=\"width: 100px; height: 100px;background-color: rgb(98, 144, 117);\"></td></tr></tbody></table>"
       ],
       "metadata": {},
       "output_type": "display_data",
       "text": [
        "<IPython.core.display.HTML at 0x105b80e90>"
       ]
      },
      {
       "output_type": "stream",
       "stream": "stdout",
       "text": [
        "Margot2\n"
       ]
      },
      {
       "html": [
        "<style type=\"text/css\">table.blockgrid {border: none;} .blockgrid tr {border: none;} .blockgrid td {padding: 0px;} #blocksa6d8aec6-0ba1-4e39-a7bf-e36f41c14233 td {border: 1px solid white;}</style><table id=\"blocksa6d8aec6-0ba1-4e39-a7bf-e36f41c14233\" class=\"blockgrid\"><tbody><tr><td title=\"Index: [0, 0]&#10;Color: (118, 139, 147)\" style=\"width: 100px; height: 100px;background-color: rgb(118, 139, 147);\"></td><td title=\"Index: [0, 1]&#10;Color: (188, 36, 15)\" style=\"width: 100px; height: 100px;background-color: rgb(188, 36, 15);\"></td><td title=\"Index: [0, 2]&#10;Color: (249, 236, 197)\" style=\"width: 100px; height: 100px;background-color: rgb(249, 236, 197);\"></td><td title=\"Index: [0, 3]&#10;Color: (212, 115, 41)\" style=\"width: 100px; height: 100px;background-color: rgb(212, 115, 41);\"></td></tr></tbody></table>"
       ],
       "metadata": {},
       "output_type": "display_data",
       "text": [
        "<IPython.core.display.HTML at 0x105b80dd0>"
       ]
      },
      {
       "output_type": "stream",
       "stream": "stdout",
       "text": [
        "Mendl\n"
       ]
      },
      {
       "html": [
        "<style type=\"text/css\">table.blockgrid {border: none;} .blockgrid tr {border: none;} .blockgrid td {padding: 0px;} #blocks47ceeaea-fa8c-49dd-bfe6-7dfb6318e3cf td {border: 1px solid white;}</style><table id=\"blocks47ceeaea-fa8c-49dd-bfe6-7dfb6318e3cf\" class=\"blockgrid\"><tbody><tr><td title=\"Index: [0, 0]&#10;Color: (222, 141, 185)\" style=\"width: 100px; height: 100px;background-color: rgb(222, 141, 185);\"></td><td title=\"Index: [0, 1]&#10;Color: (184, 192, 246)\" style=\"width: 100px; height: 100px;background-color: rgb(184, 192, 246);\"></td><td title=\"Index: [0, 2]&#10;Color: (207, 147, 135)\" style=\"width: 100px; height: 100px;background-color: rgb(207, 147, 135);\"></td><td title=\"Index: [0, 3]&#10;Color: (92, 128, 204)\" style=\"width: 100px; height: 100px;background-color: rgb(92, 128, 204);\"></td></tr></tbody></table>"
       ],
       "metadata": {},
       "output_type": "display_data",
       "text": [
        "<IPython.core.display.HTML at 0x105b80dd0>"
       ]
      },
      {
       "output_type": "stream",
       "stream": "stdout",
       "text": [
        "Moonrise1\n"
       ]
      },
      {
       "html": [
        "<style type=\"text/css\">table.blockgrid {border: none;} .blockgrid tr {border: none;} .blockgrid td {padding: 0px;} #blocks66d3949d-80b2-4dba-addd-51d3ab9f6b2e td {border: 1px solid white;}</style><table id=\"blocks66d3949d-80b2-4dba-addd-51d3ab9f6b2e\" class=\"blockgrid\"><tbody><tr><td title=\"Index: [0, 0]&#10;Color: (114, 202, 221)\" style=\"width: 100px; height: 100px;background-color: rgb(114, 202, 221);\"></td><td title=\"Index: [0, 1]&#10;Color: (240, 165, 176)\" style=\"width: 100px; height: 100px;background-color: rgb(240, 165, 176);\"></td><td title=\"Index: [0, 2]&#10;Color: (140, 133, 54)\" style=\"width: 100px; height: 100px;background-color: rgb(140, 133, 54);\"></td><td title=\"Index: [0, 3]&#10;Color: (195, 180, 119)\" style=\"width: 100px; height: 100px;background-color: rgb(195, 180, 119);\"></td><td title=\"Index: [0, 4]&#10;Color: (250, 208, 99)\" style=\"width: 100px; height: 100px;background-color: rgb(250, 208, 99);\"></td></tr></tbody></table>"
       ],
       "metadata": {},
       "output_type": "display_data",
       "text": [
        "<IPython.core.display.HTML at 0x105b80e90>"
       ]
      },
      {
       "output_type": "stream",
       "stream": "stdout",
       "text": [
        "Moonrise2\n"
       ]
      },
      {
       "html": [
        "<style type=\"text/css\">table.blockgrid {border: none;} .blockgrid tr {border: none;} .blockgrid td {padding: 0px;} #blocks673fed63-62da-483d-826e-cd9b675be331 td {border: 1px solid white;}</style><table id=\"blocks673fed63-62da-483d-826e-cd9b675be331\" class=\"blockgrid\"><tbody><tr><td title=\"Index: [0, 0]&#10;Color: (102, 124, 116)\" style=\"width: 100px; height: 100px;background-color: rgb(102, 124, 116);\"></td><td title=\"Index: [0, 1]&#10;Color: (181, 106, 39)\" style=\"width: 100px; height: 100px;background-color: rgb(181, 106, 39);\"></td><td title=\"Index: [0, 2]&#10;Color: (194, 186, 124)\" style=\"width: 100px; height: 100px;background-color: rgb(194, 186, 124);\"></td><td title=\"Index: [0, 3]&#10;Color: (31, 25, 23)\" style=\"width: 100px; height: 100px;background-color: rgb(31, 25, 23);\"></td></tr></tbody></table>"
       ],
       "metadata": {},
       "output_type": "display_data",
       "text": [
        "<IPython.core.display.HTML at 0x105b80d90>"
       ]
      },
      {
       "output_type": "stream",
       "stream": "stdout",
       "text": [
        "Moonrise3\n"
       ]
      },
      {
       "html": [
        "<style type=\"text/css\">table.blockgrid {border: none;} .blockgrid tr {border: none;} .blockgrid td {padding: 0px;} #blocksfd4775fa-19ef-4f33-ab3f-6e3a8cb01511 td {border: 1px solid white;}</style><table id=\"blocksfd4775fa-19ef-4f33-ab3f-6e3a8cb01511\" class=\"blockgrid\"><tbody><tr><td title=\"Index: [0, 0]&#10;Color: (242, 218, 82)\" style=\"width: 100px; height: 100px;background-color: rgb(242, 218, 82);\"></td><td title=\"Index: [0, 1]&#10;Color: (197, 157, 0)\" style=\"width: 100px; height: 100px;background-color: rgb(197, 157, 0);\"></td><td title=\"Index: [0, 2]&#10;Color: (203, 203, 201)\" style=\"width: 100px; height: 100px;background-color: rgb(203, 203, 201);\"></td><td title=\"Index: [0, 3]&#10;Color: (27, 30, 20)\" style=\"width: 100px; height: 100px;background-color: rgb(27, 30, 20);\"></td></tr></tbody></table>"
       ],
       "metadata": {},
       "output_type": "display_data",
       "text": [
        "<IPython.core.display.HTML at 0x105b80d90>"
       ]
      },
      {
       "output_type": "stream",
       "stream": "stdout",
       "text": [
        "Moonrise4\n"
       ]
      },
      {
       "html": [
        "<style type=\"text/css\">table.blockgrid {border: none;} .blockgrid tr {border: none;} .blockgrid td {padding: 0px;} #blocks862f32d4-ff4b-4e21-ba4a-50f9c7408cc0 td {border: 1px solid white;}</style><table id=\"blocks862f32d4-ff4b-4e21-ba4a-50f9c7408cc0\" class=\"blockgrid\"><tbody><tr><td title=\"Index: [0, 0]&#10;Color: (123, 135, 97)\" style=\"width: 100px; height: 100px;background-color: rgb(123, 135, 97);\"></td><td title=\"Index: [0, 1]&#10;Color: (193, 166, 46)\" style=\"width: 100px; height: 100px;background-color: rgb(193, 166, 46);\"></td><td title=\"Index: [0, 2]&#10;Color: (79, 143, 107)\" style=\"width: 100px; height: 100px;background-color: rgb(79, 143, 107);\"></td><td title=\"Index: [0, 3]&#10;Color: (59, 69, 60)\" style=\"width: 100px; height: 100px;background-color: rgb(59, 69, 60);\"></td><td title=\"Index: [0, 4]&#10;Color: (159, 50, 8)\" style=\"width: 100px; height: 100px;background-color: rgb(159, 50, 8);\"></td></tr></tbody></table>"
       ],
       "metadata": {},
       "output_type": "display_data",
       "text": [
        "<IPython.core.display.HTML at 0x105b80e90>"
       ]
      },
      {
       "output_type": "stream",
       "stream": "stdout",
       "text": [
        "Royal1\n"
       ]
      },
      {
       "html": [
        "<style type=\"text/css\">table.blockgrid {border: none;} .blockgrid tr {border: none;} .blockgrid td {padding: 0px;} #blocks3017ffca-e047-4bd9-b917-00ca25fd9a34 td {border: 1px solid white;}</style><table id=\"blocks3017ffca-e047-4bd9-b917-00ca25fd9a34\" class=\"blockgrid\"><tbody><tr><td title=\"Index: [0, 0]&#10;Color: (121, 164, 58)\" style=\"width: 100px; height: 100px;background-color: rgb(121, 164, 58);\"></td><td title=\"Index: [0, 1]&#10;Color: (242, 214, 175)\" style=\"width: 100px; height: 100px;background-color: rgb(242, 214, 175);\"></td><td title=\"Index: [0, 2]&#10;Color: (94, 72, 41)\" style=\"width: 100px; height: 100px;background-color: rgb(94, 72, 41);\"></td><td title=\"Index: [0, 3]&#10;Color: (24, 20, 1)\" style=\"width: 100px; height: 100px;background-color: rgb(24, 20, 1);\"></td></tr></tbody></table>"
       ],
       "metadata": {},
       "output_type": "display_data",
       "text": [
        "<IPython.core.display.HTML at 0x105b80d50>"
       ]
      },
      {
       "output_type": "stream",
       "stream": "stdout",
       "text": [
        "Zissou\n"
       ]
      },
      {
       "html": [
        "<style type=\"text/css\">table.blockgrid {border: none;} .blockgrid tr {border: none;} .blockgrid td {padding: 0px;} #blocksaf83967c-b5b6-4fe9-9602-daf01ef766ba td {border: 1px solid white;}</style><table id=\"blocksaf83967c-b5b6-4fe9-9602-daf01ef766ba\" class=\"blockgrid\"><tbody><tr><td title=\"Index: [0, 0]&#10;Color: (0, 153, 230)\" style=\"width: 100px; height: 100px;background-color: rgb(0, 153, 230);\"></td><td title=\"Index: [0, 1]&#10;Color: (18, 37, 90)\" style=\"width: 100px; height: 100px;background-color: rgb(18, 37, 90);\"></td><td title=\"Index: [0, 2]&#10;Color: (242, 56, 20)\" style=\"width: 100px; height: 100px;background-color: rgb(242, 56, 20);\"></td><td title=\"Index: [0, 3]&#10;Color: (223, 183, 139)\" style=\"width: 100px; height: 100px;background-color: rgb(223, 183, 139);\"></td><td title=\"Index: [0, 4]&#10;Color: (182, 195, 197)\" style=\"width: 100px; height: 100px;background-color: rgb(182, 195, 197);\"></td></tr></tbody></table>"
       ],
       "metadata": {},
       "output_type": "display_data",
       "text": [
        "<IPython.core.display.HTML at 0x105b80e90>"
       ]
      }
     ],
     "prompt_number": 11
    },
    {
     "cell_type": "code",
     "collapsed": false,
     "input": [],
     "language": "python",
     "metadata": {},
     "outputs": []
    }
   ],
   "metadata": {}
  }
 ]
}