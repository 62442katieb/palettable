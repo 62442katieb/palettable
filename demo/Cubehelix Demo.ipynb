{
 "cells": [
  {
   "cell_type": "markdown",
   "metadata": {},
   "source": [
    "# Cubehelix Color Maps in Palettable\n",
    "\n",
    "Cubehelix was designed by [D.A. Green](http://adsabs.harvard.edu/abs/2011arXiv1108.5083G) to provide a color mapping that would degrade gracefully to grayscale without losing information. This quality makes Cubehelix very useful for continuous colour scales in scientific visualizations that might be printed in grayscale at some point. [James Davenport](http://github.com/jradavenport/cubehelix) popularized Cubehelix among `matplotlib` users, and now this iteration brings Cubehelix to [Palettable's beautiful API](https://jiffyclub.github.io/palettable/) for managing color maps."
   ]
  },
  {
   "cell_type": "code",
   "execution_count": 1,
   "metadata": {
    "collapsed": true
   },
   "outputs": [],
   "source": [
    "%matplotlib inline\n",
    "\n",
    "import matplotlib.pyplot as plt\n",
    "import numpy as np"
   ]
  },
  {
   "cell_type": "markdown",
   "metadata": {},
   "source": [
    "The Cubehelix functionality is contained within the `palettable.cubehelix` name space, and shares the same API as `palettable.tableau`, `palettable.brewer.sequential`, `palettable.qualitative`, `palettable.diverging`, and `palettable.wesandersen`, for instance."
   ]
  },
  {
   "cell_type": "code",
   "execution_count": 2,
   "metadata": {
    "collapsed": false
   },
   "outputs": [],
   "source": [
    "from palettable import cubehelix"
   ]
  },
  {
   "cell_type": "markdown",
   "metadata": {},
   "source": [
    "## Making your own Cubehelix Maps\n",
    "\n",
    "Unlike other color maps, Cubehelix is entirely algorithmic. Thus you can make your own map by instantiating a `Cubehelix` object with the `Cubehelix.make()` class method. For example, to make a color palette with 5 colors:"
   ]
  },
  {
   "cell_type": "code",
   "execution_count": 3,
   "metadata": {
    "collapsed": false
   },
   "outputs": [
    {
     "data": {
      "text/html": [
       "<style type=\"text/css\">table.blockgrid {border: none;} .blockgrid tr {border: none;} .blockgrid td {padding: 0px;} #blocks2eaf98ba-5c3e-4f84-b8f2-0fe299f1aac6 td {border: 1px solid white;}</style><table id=\"blocks2eaf98ba-5c3e-4f84-b8f2-0fe299f1aac6\" class=\"blockgrid\"><tbody><tr><td title=\"Index: [0, 0]&#10;Color: (135, 59, 97)\" style=\"width: 100px; height: 100px;background-color: rgb(135, 59, 97);\"></td><td title=\"Index: [0, 1]&#10;Color: (125, 98, 202)\" style=\"width: 100px; height: 100px;background-color: rgb(125, 98, 202);\"></td><td title=\"Index: [0, 2]&#10;Color: (63, 181, 207)\" style=\"width: 100px; height: 100px;background-color: rgb(63, 181, 207);\"></td><td title=\"Index: [0, 3]&#10;Color: (100, 230, 115)\" style=\"width: 100px; height: 100px;background-color: rgb(100, 230, 115);\"></td><td title=\"Index: [0, 4]&#10;Color: (233, 213, 117)\" style=\"width: 100px; height: 100px;background-color: rgb(233, 213, 117);\"></td></tr></tbody></table>"
      ],
      "text/plain": [
       "<IPython.core.display.HTML object>"
      ]
     },
     "metadata": {},
     "output_type": "display_data"
    }
   ],
   "source": [
    "cube = cubehelix.Cubehelix.make(n=5, start_hue=240., end_hue=-300.,min_sat=1., max_sat=2.5,\n",
    "                                min_light=0.3, max_light=0.8, gamma=.9)\n",
    "cube.show_as_blocks()"
   ]
  },
  {
   "cell_type": "markdown",
   "metadata": {},
   "source": [
    "The Cubehelix docstring provides some guidance on how to build custom Cubehelix maps."
   ]
  },
  {
   "cell_type": "code",
   "execution_count": 4,
   "metadata": {
    "collapsed": false
   },
   "outputs": [
    {
     "name": "stdout",
     "output_type": "stream",
     "text": [
      "\n",
      "        Create an arbitrary Cubehelix color palette from the algorithm.\n",
      "\n",
      "        See http://adsabs.harvard.edu/abs/2011arXiv1108.5083G for a technical\n",
      "        explanation of the algorithm.\n",
      "\n",
      "        Parameters\n",
      "        ----------\n",
      "        start : scalar, optional\n",
      "            Sets the starting position in the RGB color space. 0=blue, 1=red,\n",
      "            2=green. Default is ``0.5`` (purple).\n",
      "        rotation : scalar, optional\n",
      "            The number of rotations through the rainbow. Can be positive\n",
      "            or negative, indicating direction of rainbow. Negative values\n",
      "            correspond to Blue->Red direction. Default is ``-1.5``.\n",
      "        start_hue : scalar, optional\n",
      "            Sets the starting color, ranging from [-360, 360]. Combined with\n",
      "            `end_hue`, this parameter overrides ``start`` and ``rotation``.\n",
      "            This parameter is based on the D3 implementation by @mbostock.\n",
      "            Default is ``None``.\n",
      "        end_hue : scalar, optional\n",
      "            Sets the ending color, ranging from [-360, 360]. Combined with\n",
      "            `start_hue`, this parameter overrides ``start`` and ``rotation``.\n",
      "            This parameter is based on the D3 implementation by @mbostock.\n",
      "            Default is ``None``.\n",
      "        gamma : scalar, optional\n",
      "            The gamma correction for intensity. Values of ``gamma < 1``\n",
      "            emphasize low intensities while ``gamma > 1`` emphasises high\n",
      "            intensities. Default is ``1.0``.\n",
      "        sat : scalar, optional\n",
      "            The uniform saturation intensity factor. ``sat=0`` produces\n",
      "            grayscale, while ``sat=1`` retains the full saturation. Setting\n",
      "            ``sat>1`` oversaturates the color map, at the risk of clipping\n",
      "            the color scale. Note that ``sat`` overrides both ``min_stat``\n",
      "            and ``max_sat`` if set.\n",
      "        min_sat : scalar, optional\n",
      "            Saturation at the minimum level. Default is ``1.2``.\n",
      "        max_sat : scalar, optional\n",
      "            Satuation at the maximum level. Default is ``1.2``.\n",
      "        min_light : scalar, optional\n",
      "            Minimum lightness value. Default is ``0``.\n",
      "        max_light : scalar, optional\n",
      "            Maximum lightness value. Default is ``1``.\n",
      "        n : scalar, optional\n",
      "            Number of discrete rendered colors. Default is ``256``.\n",
      "        reverse : bool, optional\n",
      "            Set to ``True`` to reverse the color map. Will go from black to\n",
      "            white. Good for density plots where shade -> density.\n",
      "            Default is ``False``.\n",
      "        name : str, optional\n",
      "            Name of the color map (defaults to ``'custom_cubehelix'``).\n",
      "\n",
      "        Returns\n",
      "        -------\n",
      "        palette : `Cubehelix`\n",
      "            A Cubehelix color palette.\n",
      "        \n"
     ]
    }
   ],
   "source": [
    "print(cubehelix.Cubehelix.make.__doc__)"
   ]
  },
  {
   "cell_type": "markdown",
   "metadata": {},
   "source": [
    "## Pre-made Cubehelix Maps\n",
    "\n",
    "Of course, you can also use a number of off-the-shelf color maps. These pre-made cubehelix maps have 256 computed colors, so they are ideal for continuous color scales. Like the other color maps in Palettable, the cubehelix maps are available from the `palettable.cubehelix` namespace.\n",
    "\n",
    "Here is a listing of color map names:"
   ]
  },
  {
   "cell_type": "code",
   "execution_count": 5,
   "metadata": {
    "collapsed": false
   },
   "outputs": [
    {
     "name": "stdout",
     "output_type": "stream",
     "text": [
      "classic               sequential      \n",
      "perceptual_rainbow    sequential      \n",
      "purple                sequential      \n",
      "jim_special           sequential      \n",
      "red                   sequential      \n",
      "cubehelix1            sequential      \n",
      "cubehelix2            sequential      \n",
      "cubehelix3            sequential      \n"
     ]
    }
   ],
   "source": [
    "cubehelix.print_maps()"
   ]
  },
  {
   "cell_type": "markdown",
   "metadata": {},
   "source": [
    "And examples:"
   ]
  },
  {
   "cell_type": "code",
   "execution_count": 6,
   "metadata": {
    "collapsed": false
   },
   "outputs": [
    {
     "data": {
      "image/png": "[encoded data removed]",
      "text/plain": [
       "<IPython.core.display.Image object>"
      ]
     },
     "metadata": {},
     "output_type": "display_data"
    }
   ],
   "source": [
    "cubehelix.classic.show_continuous_image()"
   ]
  },
  {
   "cell_type": "code",
   "execution_count": 7,
   "metadata": {
    "collapsed": false
   },
   "outputs": [
    {
     "data": {
      "image/png": "[encoded data removed]",
      "text/plain": [
       "<IPython.core.display.Image object>"
      ]
     },
     "metadata": {},
     "output_type": "display_data"
    }
   ],
   "source": [
    "cubehelix.perceptual_rainbow.show_continuous_image()"
   ]
  },
  {
   "cell_type": "code",
   "execution_count": 8,
   "metadata": {
    "collapsed": false
   },
   "outputs": [
    {
     "data": {
      "image/png": "[encoded data removed]",
      "text/plain": [
       "<IPython.core.display.Image object>"
      ]
     },
     "metadata": {},
     "output_type": "display_data"
    }
   ],
   "source": [
    "cubehelix.purple.show_continuous_image()"
   ]
  },
  {
   "cell_type": "code",
   "execution_count": 9,
   "metadata": {
    "collapsed": false
   },
   "outputs": [
    {
     "data": {
      "image/png": "[encoded data removed]",
      "text/plain": [
       "<IPython.core.display.Image object>"
      ]
     },
     "metadata": {},
     "output_type": "display_data"
    }
   ],
   "source": [
    "cubehelix.jim_special.show_continuous_image()"
   ]
  },
  {
   "cell_type": "code",
   "execution_count": 10,
   "metadata": {
    "collapsed": false
   },
   "outputs": [
    {
     "data": {
      "image/png": "[encoded data removed]",
      "text/plain": [
       "<IPython.core.display.Image object>"
      ]
     },
     "metadata": {},
     "output_type": "display_data"
    }
   ],
   "source": [
    "cubehelix.red.show_continuous_image()"
   ]
  },
  {
   "cell_type": "code",
   "execution_count": 11,
   "metadata": {
    "collapsed": false
   },
   "outputs": [
    {
     "data": {
      "image/png": "[encoded data removed]",
      "text/plain": [
       "<IPython.core.display.Image object>"
      ]
     },
     "metadata": {},
     "output_type": "display_data"
    }
   ],
   "source": [
    "cubehelix.cubehelix1.show_continuous_image()"
   ]
  },
  {
   "cell_type": "code",
   "execution_count": 12,
   "metadata": {
    "collapsed": false
   },
   "outputs": [
    {
     "data": {
      "image/png": "[encoded data removed]",
      "text/plain": [
       "<IPython.core.display.Image object>"
      ]
     },
     "metadata": {},
     "output_type": "display_data"
    }
   ],
   "source": [
    "cubehelix.cubehelix2.show_continuous_image()"
   ]
  },
  {
   "cell_type": "code",
   "execution_count": 13,
   "metadata": {
    "collapsed": false
   },
   "outputs": [
    {
     "data": {
      "image/png": "[encoded data removed]",
      "text/plain": [
       "<IPython.core.display.Image object>"
      ]
     },
     "metadata": {},
     "output_type": "display_data"
    }
   ],
   "source": [
    "cubehelix.cubehelix3.show_continuous_image()"
   ]
  },
  {
   "cell_type": "markdown",
   "metadata": {},
   "source": [
    "Of course, you can can reverse any color map by appending `_r` to the map's name."
   ]
  },
  {
   "cell_type": "code",
   "execution_count": 14,
   "metadata": {
    "collapsed": false
   },
   "outputs": [
    {
     "data": {
      "image/png": "[encoded data removed]",
      "text/plain": [
       "<IPython.core.display.Image object>"
      ]
     },
     "metadata": {},
     "output_type": "display_data"
    }
   ],
   "source": [
    "cubehelix.cubehelix3_r.show_continuous_image()"
   ]
  }
 ],
 "metadata": {
  "kernelspec": {
   "display_name": "Python 2",
   "language": "python",
   "name": "python2"
  },
  "language_info": {
   "codemirror_mode": {
    "name": "ipython",
    "version": 2
   },
   "file_extension": ".py",
   "mimetype": "text/x-python",
   "name": "python",
   "nbconvert_exporter": "python",
   "pygments_lexer": "ipython2",
   "version": "2.7.8"
  }
 },
 "nbformat": 4,
 "nbformat_minor": 0
}
